{
 "cells": [
  {
   "cell_type": "markdown",
   "metadata": {},
   "source": [
    "# 기본 정보 입력\n",
    "- pip install openai"
   ]
  },
  {
   "cell_type": "code",
   "execution_count": null,
   "metadata": {},
   "outputs": [],
   "source": [
    "# pip install openai"
   ]
  },
  {
   "cell_type": "code",
   "execution_count": 1,
   "metadata": {},
   "outputs": [],
   "source": [
    "# 패키지 불러오기\n",
    "import openai\n",
    "import pandas as pd"
   ]
  },
  {
   "cell_type": "code",
   "execution_count": 2,
   "metadata": {},
   "outputs": [
    {
     "data": {
      "text/html": [
       "<div>\n",
       "<style scoped>\n",
       "    .dataframe tbody tr th:only-of-type {\n",
       "        vertical-align: middle;\n",
       "    }\n",
       "\n",
       "    .dataframe tbody tr th {\n",
       "        vertical-align: top;\n",
       "    }\n",
       "\n",
       "    .dataframe thead th {\n",
       "        text-align: right;\n",
       "    }\n",
       "</style>\n",
       "<table border=\"1\" class=\"dataframe\">\n",
       "  <thead>\n",
       "    <tr style=\"text-align: right;\">\n",
       "      <th></th>\n",
       "      <th>Platform</th>\n",
       "      <th>Number</th>\n",
       "      <th>Store</th>\n",
       "      <th>Address</th>\n",
       "      <th>Addr</th>\n",
       "      <th>Review_score</th>\n",
       "      <th>Review_counts</th>\n",
       "      <th>ID</th>\n",
       "      <th>Date</th>\n",
       "      <th>Review_text</th>\n",
       "      <th>Time</th>\n",
       "    </tr>\n",
       "  </thead>\n",
       "  <tbody>\n",
       "    <tr>\n",
       "      <th>0</th>\n",
       "      <td>naver</td>\n",
       "      <td>1</td>\n",
       "      <td>포닐</td>\n",
       "      <td>서울 마포구 대흥로 183</td>\n",
       "      <td>서울 마포구</td>\n",
       "      <td>NaN</td>\n",
       "      <td>177</td>\n",
       "      <td>minsuksoft</td>\n",
       "      <td>3.30.토</td>\n",
       "      <td>일요일 기분 내기 위한 + 맛있기 위한 브런치로 완벽! 스테이크 샌드위치는 불고기가...</td>\n",
       "      <td>2024-04-07 - 20:09:27</td>\n",
       "    </tr>\n",
       "    <tr>\n",
       "      <th>1</th>\n",
       "      <td>naver</td>\n",
       "      <td>1</td>\n",
       "      <td>포닐</td>\n",
       "      <td>서울 마포구 대흥로 183</td>\n",
       "      <td>서울 마포구</td>\n",
       "      <td>NaN</td>\n",
       "      <td>177</td>\n",
       "      <td>kgcstyle</td>\n",
       "      <td>3.9.토</td>\n",
       "      <td>신상 이대 브런치 &lt;포닐&gt; 정말 맛있는 브런치를 즐길 수 있는 이대 브런치 &amp; 이대...</td>\n",
       "      <td>2024-04-07 - 20:09:28</td>\n",
       "    </tr>\n",
       "    <tr>\n",
       "      <th>2</th>\n",
       "      <td>naver</td>\n",
       "      <td>1</td>\n",
       "      <td>포닐</td>\n",
       "      <td>서울 마포구 대흥로 183</td>\n",
       "      <td>서울 마포구</td>\n",
       "      <td>NaN</td>\n",
       "      <td>177</td>\n",
       "      <td>양팡80</td>\n",
       "      <td>4.5.금</td>\n",
       "      <td>새우 샌드위치랑 아이스아메리카노 주문했습니다 커 피도 맛있고 샌드위치도 맛있어요! ...</td>\n",
       "      <td>2024-04-07 - 20:09:28</td>\n",
       "    </tr>\n",
       "    <tr>\n",
       "      <th>3</th>\n",
       "      <td>naver</td>\n",
       "      <td>1</td>\n",
       "      <td>포닐</td>\n",
       "      <td>서울 마포구 대흥로 183</td>\n",
       "      <td>서울 마포구</td>\n",
       "      <td>NaN</td>\n",
       "      <td>177</td>\n",
       "      <td>uo****</td>\n",
       "      <td>4.6.토</td>\n",
       "      <td>항상 지나가면서 유심히 보던 빵집&amp;브런치집인데 운 좋게 소금빵 나오는 시간에 방문했...</td>\n",
       "      <td>2024-04-07 - 20:09:28</td>\n",
       "    </tr>\n",
       "    <tr>\n",
       "      <th>4</th>\n",
       "      <td>naver</td>\n",
       "      <td>1</td>\n",
       "      <td>포닐</td>\n",
       "      <td>서울 마포구 대흥로 183</td>\n",
       "      <td>서울 마포구</td>\n",
       "      <td>NaN</td>\n",
       "      <td>177</td>\n",
       "      <td>OH옌</td>\n",
       "      <td>3.13.수</td>\n",
       "      <td>이대역 치아바타 샌드위치 맛집🥪 일정사이에 시간 이 붕떠서 시간도 떼우고 점심을 먹...</td>\n",
       "      <td>2024-04-07 - 20:09:28</td>\n",
       "    </tr>\n",
       "    <tr>\n",
       "      <th>17</th>\n",
       "      <td>Kakao</td>\n",
       "      <td>1</td>\n",
       "      <td>만동제과</td>\n",
       "      <td>서울 서대문구 연희로 32 1층 (창천동)</td>\n",
       "      <td>서울 서대문구</td>\n",
       "      <td>4.3</td>\n",
       "      <td>303</td>\n",
       "      <td>앙앙</td>\n",
       "      <td>2024.01.01.</td>\n",
       "      <td>나의 2024년 1월 1일 첫 먹방은 그간 너무너무너무 먹고 싶었던 ‘만동제과 마늘...</td>\n",
       "      <td>2024-04-05 - 10:35:09</td>\n",
       "    </tr>\n",
       "    <tr>\n",
       "      <th>18</th>\n",
       "      <td>Kakao</td>\n",
       "      <td>1</td>\n",
       "      <td>만동제과</td>\n",
       "      <td>서울 서대문구 연희로 32 1층 (창천동)</td>\n",
       "      <td>서울 서대문구</td>\n",
       "      <td>4.3</td>\n",
       "      <td>303</td>\n",
       "      <td>니엘</td>\n",
       "      <td>2024.01.01.</td>\n",
       "      <td>너무 맛있게 먹어서 사진도 못남겼어요 마늘바게뜨가 촉촉 부들하고 진한 마늘의 단맛이...</td>\n",
       "      <td>2024-04-05 - 10:34:50</td>\n",
       "    </tr>\n",
       "    <tr>\n",
       "      <th>19</th>\n",
       "      <td>Kakao</td>\n",
       "      <td>1</td>\n",
       "      <td>만동제과</td>\n",
       "      <td>서울 서대문구 연희로 32 1층 (창천동)</td>\n",
       "      <td>서울 서대문구</td>\n",
       "      <td>4.3</td>\n",
       "      <td>303</td>\n",
       "      <td>ㅇㅅㅇ</td>\n",
       "      <td>2024.01.03.</td>\n",
       "      <td>친절 하십니다 근데 막 꼭 먹어야한다 정도는 아닌.것 같아요</td>\n",
       "      <td>2024-04-05 - 10:34:32</td>\n",
       "    </tr>\n",
       "    <tr>\n",
       "      <th>20</th>\n",
       "      <td>Kakao</td>\n",
       "      <td>1</td>\n",
       "      <td>만동제과</td>\n",
       "      <td>서울 서대문구 연희로 32 1층 (창천동)</td>\n",
       "      <td>서울 서대문구</td>\n",
       "      <td>4.3</td>\n",
       "      <td>303</td>\n",
       "      <td>램든고지</td>\n",
       "      <td>2024.01.04.</td>\n",
       "      <td>마늘바게트에 묻힌 빵들 너무 많음  홍국이 깨찰빵 도라이임</td>\n",
       "      <td>2024-04-05 - 10:34:13</td>\n",
       "    </tr>\n",
       "    <tr>\n",
       "      <th>21</th>\n",
       "      <td>Kakao</td>\n",
       "      <td>1</td>\n",
       "      <td>만동제과</td>\n",
       "      <td>서울 서대문구 연희로 32 1층 (창천동)</td>\n",
       "      <td>서울 서대문구</td>\n",
       "      <td>4.3</td>\n",
       "      <td>303</td>\n",
       "      <td>토끼토끼🐰</td>\n",
       "      <td>2024.01.04.</td>\n",
       "      <td>마늘빵 달달하고 촉촉하니 맛있어요.  카푸치노는 커피맛나는 생크림빵인데 구름처럼 슈...</td>\n",
       "      <td>2024-04-05 - 10:33:55</td>\n",
       "    </tr>\n",
       "  </tbody>\n",
       "</table>\n",
       "</div>"
      ],
      "text/plain": [
       "   Platform  Number Store                  Address     Addr  Review_score  \\\n",
       "0     naver       1    포닐           서울 마포구 대흥로 183   서울 마포구           NaN   \n",
       "1     naver       1    포닐           서울 마포구 대흥로 183   서울 마포구           NaN   \n",
       "2     naver       1    포닐           서울 마포구 대흥로 183   서울 마포구           NaN   \n",
       "3     naver       1    포닐           서울 마포구 대흥로 183   서울 마포구           NaN   \n",
       "4     naver       1    포닐           서울 마포구 대흥로 183   서울 마포구           NaN   \n",
       "17    Kakao       1  만동제과  서울 서대문구 연희로 32 1층 (창천동)  서울 서대문구           4.3   \n",
       "18    Kakao       1  만동제과  서울 서대문구 연희로 32 1층 (창천동)  서울 서대문구           4.3   \n",
       "19    Kakao       1  만동제과  서울 서대문구 연희로 32 1층 (창천동)  서울 서대문구           4.3   \n",
       "20    Kakao       1  만동제과  서울 서대문구 연희로 32 1층 (창천동)  서울 서대문구           4.3   \n",
       "21    Kakao       1  만동제과  서울 서대문구 연희로 32 1층 (창천동)  서울 서대문구           4.3   \n",
       "\n",
       "    Review_counts          ID         Date  \\\n",
       "0             177  minsuksoft       3.30.토   \n",
       "1             177    kgcstyle        3.9.토   \n",
       "2             177        양팡80        4.5.금   \n",
       "3             177      uo****        4.6.토   \n",
       "4             177         OH옌       3.13.수   \n",
       "17            303          앙앙  2024.01.01.   \n",
       "18            303          니엘  2024.01.01.   \n",
       "19            303         ㅇㅅㅇ  2024.01.03.   \n",
       "20            303        램든고지  2024.01.04.   \n",
       "21            303       토끼토끼🐰  2024.01.04.   \n",
       "\n",
       "                                          Review_text                   Time  \n",
       "0   일요일 기분 내기 위한 + 맛있기 위한 브런치로 완벽! 스테이크 샌드위치는 불고기가...  2024-04-07 - 20:09:27  \n",
       "1   신상 이대 브런치 <포닐> 정말 맛있는 브런치를 즐길 수 있는 이대 브런치 & 이대...  2024-04-07 - 20:09:28  \n",
       "2   새우 샌드위치랑 아이스아메리카노 주문했습니다 커 피도 맛있고 샌드위치도 맛있어요! ...  2024-04-07 - 20:09:28  \n",
       "3   항상 지나가면서 유심히 보던 빵집&브런치집인데 운 좋게 소금빵 나오는 시간에 방문했...  2024-04-07 - 20:09:28  \n",
       "4   이대역 치아바타 샌드위치 맛집🥪 일정사이에 시간 이 붕떠서 시간도 떼우고 점심을 먹...  2024-04-07 - 20:09:28  \n",
       "17  나의 2024년 1월 1일 첫 먹방은 그간 너무너무너무 먹고 싶었던 ‘만동제과 마늘...  2024-04-05 - 10:35:09  \n",
       "18  너무 맛있게 먹어서 사진도 못남겼어요 마늘바게뜨가 촉촉 부들하고 진한 마늘의 단맛이...  2024-04-05 - 10:34:50  \n",
       "19                  친절 하십니다 근데 막 꼭 먹어야한다 정도는 아닌.것 같아요  2024-04-05 - 10:34:32  \n",
       "20                   마늘바게트에 묻힌 빵들 너무 많음  홍국이 깨찰빵 도라이임  2024-04-05 - 10:34:13  \n",
       "21  마늘빵 달달하고 촉촉하니 맛있어요.  카푸치노는 커피맛나는 생크림빵인데 구름처럼 슈...  2024-04-05 - 10:33:55  "
      ]
     },
     "execution_count": 2,
     "metadata": {},
     "output_type": "execute_result"
    }
   ],
   "source": [
    "total = pd.read_csv(r'C:\\Users\\aug19pm7\\Desktop\\데이터분석\\final\\test.csv', index_col=0)\n",
    "total"
   ]
  },
  {
   "cell_type": "code",
   "execution_count": 3,
   "metadata": {},
   "outputs": [],
   "source": [
    "# API 키 지정하여 클라이언트 선언하기\n",
    "OPENAI_API_KEY=\"API_KEY\"\n",
    "\n",
    "client = openai.OpenAI(api_key = \"\")\n",
    "\n",
    "# client = openai.OpenAI(api_key = \"여기에 API 키를 넣어주세요\")"
   ]
  },
  {
   "cell_type": "markdown",
   "metadata": {},
   "source": [
    "# Text generation\n"
   ]
  },
  {
   "cell_type": "markdown",
   "metadata": {},
   "source": [
    "- id (string): 채팅 완성에 대한 고유 식별자입니다. 모델에 의해 생성된 각 완성은 구별되는 ID를 가지며, 특정 응답을 추적하거나 참조하는 데 유용할 수 있습니다.\n",
    "\n",
    "- choices (array): 모델이 제공하는 다양한 응답들을 포함하는 채팅 완성 선택 목록입니다. 요청의 'n' 매개변수가 1보다 크면 이 배열에는 모델이 생성한 여러 가지 가능한 완성이 포함될 수 있습니다.이 배열 내의 각 선택에는 완성의 텍스트와 기타 관련 데이터와 같은 추가 속성들이 포함됩니다.\n",
    "\n",
    "- created (integer): 채팅 완성이 생성된 시점의 유닉스 타임스탬프(초 단위)를 나타냅니다. 이는 응답이 생성된 정확한 시간을 결정하는 데 도움이 됩니다.\n",
    "\n",
    "- model (string): 채팅 완성을 생성하는 데 사용된 특정 모델을 지정합니다. 다른 모델들은 다양한 능력이나 스타일을 가지고 있을 수 있으며, 이 필드는 응답을 위해 사용된 모델을 나타냅니다.\n",
    "\n",
    "- system_fingerprint (string): 이 지문은 모델이 실행되는 백엔드 구성을 나타냅니다. 반응의 결정론에 영향을 줄 수 있는 백엔드 변경 사항을 이해하기 위해 'seed' 요청 매개변수와 함께 사용될 수 있습니다.\n",
    "\n",
    "- object (string): API에서 반환하는 객체의 유형을 나타내는 필드입니다. 채팅 완성의 경우에는 항상 'chat.completion'이 될 것이며, 응답 객체의 성격을 확인합니다.\n",
    "\n",
    "- usage (object): 완성 요청에 대한 사용 통계를 포함하는 객체입니다. 응답 생성에 사용된 토큰 수와 같은 정보를 포함할 수 있습니다. 이는 API 사용을 추적하고 요청과 관련된 비용을 이해하는 데 특히 유용합니다."
   ]
  },
  {
   "cell_type": "markdown",
   "metadata": {},
   "source": [
    "## 기본 질문하기"
   ]
  },
  {
   "cell_type": "code",
   "execution_count": 7,
   "metadata": {},
   "outputs": [
    {
     "name": "stdout",
     "output_type": "stream",
     "text": [
      "ChatCompletion(id='chatcmpl-9CNU7jK7RxHRv7Na4g3Xia6fBLv24', choices=[Choice(finish_reason='stop', index=0, logprobs=None, message=ChatCompletionMessage(content='1. Preheat your oven to 450°F (230°C).\\n2. Roll out your pizza dough on a baking sheet.\\n3. Spread pizza sauce evenly over the dough, leaving a border around the edges for the crust.\\n4. Add your desired toppings such as cheese, pepperoni, vegetables, and meats.\\n5. Drizzle a little olive oil over the top of the pizza.\\n6. Bake in the preheated oven for 12-15 minutes or until the crust is golden brown and the cheese is melted.\\n7. Remove from the oven and let it cool for a few minutes before slicing and serving. Enjoy your homemade pizza!', role='assistant', function_call=None, tool_calls=None))], created=1712737239, model='gpt-3.5-turbo-0125', object='chat.completion', system_fingerprint='fp_b28b39ffa8', usage=CompletionUsage(completion_tokens=131, prompt_tokens=14, total_tokens=145))\n"
     ]
    }
   ],
   "source": [
    "response = client.chat.completions.create(\n",
    "  model=\"gpt-3.5-turbo\",\n",
    "  messages=[{\"role\": \"user\", \"content\": \"Tell me how to make a pizza\"}])\n",
    "\n",
    "print(response) "
   ]
  },
  {
   "cell_type": "code",
   "execution_count": 5,
   "metadata": {},
   "outputs": [
    {
     "name": "stdout",
     "output_type": "stream",
     "text": [
      "To make a pizza, you will need the following ingredients:\n",
      "\n",
      "- Pizza dough\n",
      "- Tomato sauce\n",
      "- Cheese\n",
      "- Toppings of your choice (such as pepperoni, mushrooms, bell peppers, onions, etc.)\n",
      "\n",
      "Here are the steps to make a pizza:\n",
      "\n",
      "1. Preheat your oven to the temperature specified on the pizza dough packaging.\n",
      "2. Roll out the pizza dough on a floured surface to your desired thickness.\n",
      "3. Spread a layer of tomato sauce evenly over the dough, leaving a little space around the edges for the crust.\n",
      "4. Sprinkle cheese over the sauce, and then add your desired toppings.\n",
      "5. Place the pizza on a baking sheet or pizza stone and bake in the preheated oven for the amount of time specified on the dough packaging, usually around 10-15 minutes.\n",
      "6. Once the pizza is cooked through and the cheese is melted and bubbly, carefully remove it from the oven.\n",
      "7. Let the pizza cool for a few minutes before slicing and serving.\n",
      "\n",
      "Enjoy your homemade pizza!\n"
     ]
    }
   ],
   "source": [
    "print(response.choices[0].message.content)"
   ]
  },
  {
   "cell_type": "markdown",
   "metadata": {},
   "source": [
    "## 사용 요금 계산하기"
   ]
  },
  {
   "cell_type": "markdown",
   "metadata": {},
   "source": [
    "- 1k 토큰 당 비용\n",
    "\n",
    "|Model|Input|Output|\n",
    "|---|---|---|\n",
    "|gpt-4|$0.03|$0.06|\n",
    "|gpt-4-32k|$0.06|$0.12|\n",
    "|gpt-4-turbo|$0.01|$0.03|\n",
    "|gpt-3.5-turbo|$0.0005|$0.0015|\n",
    "|gpt-3.5-turbo-instruct|$0.0015|$0.0020|"
   ]
  },
  {
   "cell_type": "code",
   "execution_count": 6,
   "metadata": {},
   "outputs": [
    {
     "name": "stdout",
     "output_type": "stream",
     "text": [
      "CompletionUsage(completion_tokens=210, prompt_tokens=14, total_tokens=224)\n"
     ]
    }
   ],
   "source": [
    "print(response.usage)"
   ]
  },
  {
   "cell_type": "code",
   "execution_count": 16,
   "metadata": {},
   "outputs": [
    {
     "data": {
      "text/plain": [
       "14"
      ]
     },
     "execution_count": 16,
     "metadata": {},
     "output_type": "execute_result"
    }
   ],
   "source": [
    "response.usage.prompt_tokens"
   ]
  },
  {
   "cell_type": "markdown",
   "metadata": {},
   "source": [
    "prompt_tokens : input\n",
    "\n",
    "completion_tokens : output"
   ]
  },
  {
   "cell_type": "code",
   "execution_count": 21,
   "metadata": {},
   "outputs": [
    {
     "name": "stdout",
     "output_type": "stream",
     "text": [
      "총 소모 비용 : 11.162102399999998 원\n"
     ]
    }
   ],
   "source": [
    "total_bill_USD = (response.usage.prompt_tokens*0.03 +response.usage.completion_tokens*0.06)/1000\n",
    "# 24.04.09 기준 환율 1USD = 1,348.08 KRW\n",
    "total_bill_KRW = total_bill_USD*1348.08\n",
    "print(\"총 소모 비용 : {} 원\".format(total_bill_KRW))"
   ]
  },
  {
   "cell_type": "markdown",
   "metadata": {},
   "source": [
    "## 역할 부여하기"
   ]
  },
  {
   "cell_type": "markdown",
   "metadata": {},
   "source": [
    "### Ver.Eng\n",
    "|Type|System_Prompt|\n",
    "|---|---|\n",
    "|긍부정|\"Your role is to read the user's review and assign a positive or negative rating between -1 and 1. **No explanation needed, just a number between -1 and 1.**\"|\n",
    "|특성 점수|\"Prompt\n",
    "Objective: Analyze keywords in bakery reviews in detail and assign scores ranging from -10 to +10 for each of the following 25 characteristics.\n",
    "\n",
    "Conditions:\n",
    "1. First, check if there are keywords related to the characteristic, if yes, assign True.\n",
    "2. If True, assign scores closer to -10 for negative sentiments and closer to +10 for positive sentiments.\n",
    "3. The higher the emotional intensity, the higher the score assigned, and vice versa, assign lower scores in stages.\n",
    "4. The less emotion, the closer the score is to 0.\n",
    "5. When the score is 0, double-check to ensure accuracy.\n",
    "6. The 'Pets' keyword must be related to the 'customer's' 'pet'. Wild animals do not qualify.\n",
    "7. 'Waiting' refers to the time customers spend waiting.\n",
    "8. Distinctly identify the 'subject' of 'tastes good'.\n",
    "9. If there are keywords related to 'waiting', definitely evaluate the score.\n",
    "10. The word '맛집' is very important to me.\n",
    "11. Infer and judge similar languages.\n",
    "12. Anything served in a cup is considered a 'beverage'.\n",
    "13. Be aware that there are various types of 'bread'.\n",
    "14. Characteristics that are unrelated or indeterminable are scored as 0.\n",
    "15. 'View' is highly related to the 'scenery' characteristic.\n",
    "16. Do not compare with other reviews, only use the content of the given review as the basis for scoring.\n",
    "17. If there is a special menu, output it separately at the end.\n",
    "18. Judgments must be based solely on keywords in the review.\n",
    "19. Do not provide any further explanation, only scores\n",
    "20. Responses should follow this example: 'The bread tastes good: +n'\n",
    "21. 'Desserts' are also included in 'bread'.\n",
    "22. Distinctly identify the sentence's subject.\n",
    "\n",
    "Characteristics: 'The bread is delicious', 'The beverage is delicious', 'Vegan', 'No senior zone', 'No kids zone', 'Pets are allowed', 'Uses whole wheat', 'Nice view', 'Good atmosphere', 'Friendly', 'The store is clean', 'The restroom is clean', 'Parking available', 'The store is spacious', 'Plenty of seats', 'The seating is comfortable', 'There is a special menu', 'Photogenic', 'The music is good', 'Reservation is possible', 'Unique concept', 'The interior is beautiful', 'Good value for money', 'There is a wait', 'Good for health'\"|"
   ]
  },
  {
   "cell_type": "markdown",
   "metadata": {},
   "source": [
    "### Ver.Kor\n",
    "|Type|System_Prompt|\n",
    "|---|---|\n",
    "|긍부정|\"리뷰의 긍/부정 지수를 -1부터 1사이로 알려줘. 1에 가까울수록 긍정적인거야. **부연 설명은 필요없고 -1부터 1사이의 점수만 알려줘**\"|\n",
    "|특성 점수|\"리뷰에 들어있는 키워드들이 다음 25가지 특성에 어느정도 해당되는지를 -10점부터 10점까지 점수 매겨줘. 해당되지 않을수록 -10에 가깝고, 특성에 해당하지 않는 경우에는 0점을 부여해줘. **부연 설명은 필요없고 -10점부터 10점 사이의 점수만 알려줘**. '빵이 맛있어요', '디저트가 맛있어요', '음료가 맛있어요', '비건', '노시니어존에요', '노키즈존이에요', '반려 동물 동반이 가능해요', '통밀 사용해요', '뷰가 좋아요', '분위기 좋아요, '친절해요', '가게가 청결해요', '화장실 청결해요', '주차 가능해요', '가게가 넓어요', '자리가 많아요', '좌석이 편해요', '시그니처 메뉴가 있어요', '사진이 잘 나와요', '음악이 좋아요', '독보적인 컨셉이에요', '가성비가 좋아요', '웨이팅이 길어요', '인테리어가 멋져요', '예약이 가능해요'\"|"
   ]
  },
  {
   "cell_type": "markdown",
   "metadata": {},
   "source": [
    "system_prompt : 명령어\n",
    "\n",
    "prompt : 리뷰"
   ]
  },
  {
   "cell_type": "code",
   "execution_count": 24,
   "metadata": {},
   "outputs": [],
   "source": [
    "system_prompt = \"From now on, you must do three things: 1. Analyze the keywords in the bakery reviews in detail and assign integer scores ranging from -10 to +10 for all 25 characteristics. 2. Provide the overall sentiment score of the entire review text, ranging from -1 to 1, rounded to one decimal place. Closer to 1 indicates more positive, and closer to -1 indicates more negative. 3. If there is a unique menu item specific to the store, output text as an exception at the end. If not, output 'None'. Conditions: 1. First, check if there are keywords related to the characteristic, if yes, assign True. 2. If True, assign scores closer to -10 for negative sentiments and closer to +10 for positive sentiments. 3. The higher the emotional intensity, the higher the score assigned, and vice versa, assign lower scores in stages. 4. The less emotion, the closer the score is to 0. 5. When the score is 0, double-check to ensure accuracy. 6. The 'Pets' keyword must be related to the 'customer's' 'pet'. Wild animals do not qualify. 7. 'Waiting' refers to the time customers spend waiting. 8. Distinctly identify the 'subject' of 'tastes good'. 9. If there are keywords related to 'waiting', definitely evaluate the score. 10. The word '맛집' is very important to me. 11. Infer and judge similar languages. 12. Anything served in a cup is considered a 'beverage'. 13. Be aware that there are various types of 'bread'. 14. Characteristics that are unrelated or indeterminable are scored as 0. 15. 'View' is highly related to the 'scenery' characteristic. 16. Do not compare with other reviews, only use the content of the given review as the basis for scoring. 17. Judgments must be based solely on keywords in the review. 18. Do not provide any further explanation, only scores 19. Responses should follow this example: 'The bread tastes good: +n' 20. 'Desserts' are also included in 'bread'. 21. Distinctly identify the sentence's subject. Characteristics: 'The bread is delicious', 'The beverage is delicious', 'Vegan', 'No senior zone', 'No kids zone', 'Pets are allowed', 'Uses whole wheat', 'Nice view', 'Good atmosphere', 'Friendly', 'The store is clean', 'The restroom is clean', 'Parking available', 'The store is spacious', 'Plenty of seats', 'The seating is comfortable', 'There is a special menu', 'Photogenic', 'The music is good', 'Reservation is possible', 'Unique concept', 'The interior is beautiful', 'Good value for money', 'There is a wait', 'Good for health', 'Overall review sentiment score', 'Unique menu item name' **Print the values corresponding to the attributes in order, excluding the attribute names.**\"\n",
    "prompt = \"저는 토요일 2시30분쯤 방문했는데 줄이 안길었는데 줄이 길어도 직원분들이 다 담아주시는거라 빨리 줄 것 같더라고용!! 빵 JMT이고 그런데 거기 있던 직원 한 명 ㅈㄴ 싸갈빠이 없었음 그런데 그 옆에 있던 직원 한 명은 굉장히 친절하게 응대해줘서 다음번에도 여기 또 올꺼임😊😘 또 여기는 플랜테리어가 잘 되어 있고 가게는 깨끗한데 화장실은 냄새가 나고 남녀 공용이었어요😢. 뭔가 이상한 가게예요. 짬뽕이에요. 이도 저도 아닌 가게란 말이에요. 다들 가지마세요............ 아 근데 우유 크림빵은 다시 한번 더 먹고 싶어요. 바질 페스토 샌드위치는 메뉴에 추가되면 더 좋을듯???\""
   ]
  },
  {
   "cell_type": "code",
   "execution_count": 38,
   "metadata": {},
   "outputs": [
    {
     "data": {
      "text/plain": [
       "['+8',\n",
       " ' 0',\n",
       " ' 0',\n",
       " ' 0',\n",
       " ' 0',\n",
       " ' 0',\n",
       " ' 0',\n",
       " ' 0',\n",
       " ' +5',\n",
       " ' +5',\n",
       " ' +5',\n",
       " ' -7',\n",
       " ' 0',\n",
       " ' +5',\n",
       " ' 0',\n",
       " ' 0',\n",
       " ' 0',\n",
       " ' +5',\n",
       " ' 0',\n",
       " ' 0',\n",
       " ' 0',\n",
       " ' 0',\n",
       " ' 0',\n",
       " ' -5',\n",
       " ' 0',\n",
       " ' -0.5',\n",
       " \" '우유 크림빵\",\n",
       " \" 바질 페스토 샌드위치'\"]"
      ]
     },
     "execution_count": 38,
     "metadata": {},
     "output_type": "execute_result"
    }
   ],
   "source": [
    "a = response.choices[0].message.content\n",
    "a.split(',')"
   ]
  },
  {
   "cell_type": "code",
   "execution_count": 28,
   "metadata": {},
   "outputs": [
    {
     "name": "stdout",
     "output_type": "stream",
     "text": [
      "+8, 0, 0, 0, 0, 0, 0, 0, +5, +5, +5, -7, 0, +5, 0, 0, 0, +5, 0, 0, 0, 0, 0, -5, 0, -0.5, '우유 크림빵, 바질 페스토 샌드위치'\n"
     ]
    }
   ],
   "source": [
    "response = client.chat.completions.create(\n",
    " model=\"gpt-4-turbo-2024-04-09\",\n",
    " messages=[\n",
    "         {\"role\": \"system\", \"content\": system_prompt},\n",
    "        {\"role\": \"user\", \"content\": prompt}\n",
    " ]\n",
    ")\n",
    "print(response.choices[0].message.content)"
   ]
  },
  {
   "cell_type": "code",
   "execution_count": 14,
   "metadata": {},
   "outputs": [
    {
     "name": "stdout",
     "output_type": "stream",
     "text": [
      "총 소모 비용 : 0.31938352000000003 원\n"
     ]
    }
   ],
   "source": [
    "total_bill_USD = (response.usage.prompt_tokens*0.03 +response.usage.completion_tokens*0.06)/1000\n",
    "# 24.04.09 기준 환율 1USD = 1355.30 KRW\n",
    "total_bill_KRW = total_bill_USD*1355.30\n",
    "print(\"총 소모 비용 : {} 원\".format(total_bill_KRW))"
   ]
  },
  {
   "cell_type": "markdown",
   "metadata": {},
   "source": [
    "### 긍/부정 지수 계산"
   ]
  },
  {
   "cell_type": "code",
   "execution_count": null,
   "metadata": {},
   "outputs": [],
   "source": [
    "def response_gpt(prompt):\n",
    "    response = client.chat.completions.create(\n",
    "    model=\"gpt-4-turbo-2024-04-09\",\n",
    "    messages=[\n",
    "            {\"role\": \"system\", \"content\": system_prompt},\n",
    "            {\"role\": \"user\", \"content\": prompt}]),\n",
    "    temperature = \n",
    "    # temperature = 0에 가까울수록 주어진 프롬프트만을 가지고서 판단함\n",
    "    return response.choices[0].message.content"
   ]
  },
  {
   "cell_type": "code",
   "execution_count": null,
   "metadata": {},
   "outputs": [],
   "source": [
    "positivity_index = []\n",
    "\n",
    "for i in total['Review_text']:\n",
    "    positivity_index.append(response_gpt(i))\n",
    "total['positivity_index'] = positivity_index"
   ]
  },
  {
   "cell_type": "markdown",
   "metadata": {},
   "source": [
    "### 특성 점수 계산"
   ]
  },
  {
   "cell_type": "code",
   "execution_count": 10,
   "metadata": {},
   "outputs": [
    {
     "data": {
      "text/html": [
       "<div>\n",
       "<style scoped>\n",
       "    .dataframe tbody tr th:only-of-type {\n",
       "        vertical-align: middle;\n",
       "    }\n",
       "\n",
       "    .dataframe tbody tr th {\n",
       "        vertical-align: top;\n",
       "    }\n",
       "\n",
       "    .dataframe thead th {\n",
       "        text-align: right;\n",
       "    }\n",
       "</style>\n",
       "<table border=\"1\" class=\"dataframe\">\n",
       "  <thead>\n",
       "    <tr style=\"text-align: right;\">\n",
       "      <th></th>\n",
       "      <th>bread</th>\n",
       "      <th>beverage</th>\n",
       "      <th>vegan</th>\n",
       "      <th>no_senior</th>\n",
       "      <th>no_kids</th>\n",
       "      <th>pet</th>\n",
       "      <th>whole_wheat</th>\n",
       "      <th>view</th>\n",
       "      <th>atmosphere</th>\n",
       "      <th>friendly</th>\n",
       "      <th>...</th>\n",
       "      <th>photogenic</th>\n",
       "      <th>good_music</th>\n",
       "      <th>reservation_possible</th>\n",
       "      <th>unique_concept</th>\n",
       "      <th>beautiful_interior</th>\n",
       "      <th>value_for_money</th>\n",
       "      <th>wait</th>\n",
       "      <th>health</th>\n",
       "      <th>sentiment</th>\n",
       "      <th>bread_name</th>\n",
       "    </tr>\n",
       "  </thead>\n",
       "  <tbody>\n",
       "    <tr>\n",
       "      <th>0</th>\n",
       "      <td>+10</td>\n",
       "      <td>0</td>\n",
       "      <td>0</td>\n",
       "      <td>0</td>\n",
       "      <td>0</td>\n",
       "      <td>0</td>\n",
       "      <td>0</td>\n",
       "      <td>0</td>\n",
       "      <td>0</td>\n",
       "      <td>0</td>\n",
       "      <td>...</td>\n",
       "      <td>0</td>\n",
       "      <td>0</td>\n",
       "      <td>0</td>\n",
       "      <td>0</td>\n",
       "      <td>0</td>\n",
       "      <td>0</td>\n",
       "      <td>0</td>\n",
       "      <td>0</td>\n",
       "      <td>+0.9</td>\n",
       "      <td>[None]</td>\n",
       "    </tr>\n",
       "    <tr>\n",
       "      <th>1</th>\n",
       "      <td>+8</td>\n",
       "      <td>0</td>\n",
       "      <td>0</td>\n",
       "      <td>0</td>\n",
       "      <td>0</td>\n",
       "      <td>0</td>\n",
       "      <td>0</td>\n",
       "      <td>0</td>\n",
       "      <td>0</td>\n",
       "      <td>0</td>\n",
       "      <td>...</td>\n",
       "      <td>0</td>\n",
       "      <td>0</td>\n",
       "      <td>0</td>\n",
       "      <td>0</td>\n",
       "      <td>0</td>\n",
       "      <td>0</td>\n",
       "      <td>0</td>\n",
       "      <td>0</td>\n",
       "      <td>+0.8</td>\n",
       "      <td>[None]</td>\n",
       "    </tr>\n",
       "    <tr>\n",
       "      <th>2</th>\n",
       "      <td>+8</td>\n",
       "      <td>+8</td>\n",
       "      <td>0</td>\n",
       "      <td>0</td>\n",
       "      <td>0</td>\n",
       "      <td>0</td>\n",
       "      <td>0</td>\n",
       "      <td>0</td>\n",
       "      <td>0</td>\n",
       "      <td>0</td>\n",
       "      <td>...</td>\n",
       "      <td>0</td>\n",
       "      <td>0</td>\n",
       "      <td>0</td>\n",
       "      <td>0</td>\n",
       "      <td>0</td>\n",
       "      <td>0</td>\n",
       "      <td>0</td>\n",
       "      <td>0</td>\n",
       "      <td>+0.8</td>\n",
       "      <td>[None]</td>\n",
       "    </tr>\n",
       "    <tr>\n",
       "      <th>3</th>\n",
       "      <td>+8</td>\n",
       "      <td>0</td>\n",
       "      <td>0</td>\n",
       "      <td>0</td>\n",
       "      <td>0</td>\n",
       "      <td>0</td>\n",
       "      <td>0</td>\n",
       "      <td>0</td>\n",
       "      <td>0</td>\n",
       "      <td>0</td>\n",
       "      <td>...</td>\n",
       "      <td>0</td>\n",
       "      <td>0</td>\n",
       "      <td>0</td>\n",
       "      <td>0</td>\n",
       "      <td>0</td>\n",
       "      <td>0</td>\n",
       "      <td>0</td>\n",
       "      <td>0</td>\n",
       "      <td>+0.7</td>\n",
       "      <td>[소금빵]</td>\n",
       "    </tr>\n",
       "    <tr>\n",
       "      <th>4</th>\n",
       "      <td>+8</td>\n",
       "      <td>0</td>\n",
       "      <td>0</td>\n",
       "      <td>0</td>\n",
       "      <td>0</td>\n",
       "      <td>0</td>\n",
       "      <td>0</td>\n",
       "      <td>0</td>\n",
       "      <td>0</td>\n",
       "      <td>0</td>\n",
       "      <td>...</td>\n",
       "      <td>0</td>\n",
       "      <td>0</td>\n",
       "      <td>0</td>\n",
       "      <td>0</td>\n",
       "      <td>0</td>\n",
       "      <td>0</td>\n",
       "      <td>0</td>\n",
       "      <td>0</td>\n",
       "      <td>+0.7</td>\n",
       "      <td>[None]</td>\n",
       "    </tr>\n",
       "    <tr>\n",
       "      <th>5</th>\n",
       "      <td>+10</td>\n",
       "      <td>0</td>\n",
       "      <td>0</td>\n",
       "      <td>0</td>\n",
       "      <td>0</td>\n",
       "      <td>0</td>\n",
       "      <td>0</td>\n",
       "      <td>0</td>\n",
       "      <td>0</td>\n",
       "      <td>+8</td>\n",
       "      <td>...</td>\n",
       "      <td>0</td>\n",
       "      <td>0</td>\n",
       "      <td>0</td>\n",
       "      <td>0</td>\n",
       "      <td>0</td>\n",
       "      <td>0</td>\n",
       "      <td>0</td>\n",
       "      <td>0</td>\n",
       "      <td>+0.9</td>\n",
       "      <td>[만동제과마늘바게트]</td>\n",
       "    </tr>\n",
       "    <tr>\n",
       "      <th>6</th>\n",
       "      <td>+8</td>\n",
       "      <td>0</td>\n",
       "      <td>0</td>\n",
       "      <td>0</td>\n",
       "      <td>0</td>\n",
       "      <td>0</td>\n",
       "      <td>0</td>\n",
       "      <td>0</td>\n",
       "      <td>0</td>\n",
       "      <td>0</td>\n",
       "      <td>...</td>\n",
       "      <td>0</td>\n",
       "      <td>0</td>\n",
       "      <td>0</td>\n",
       "      <td>0</td>\n",
       "      <td>0</td>\n",
       "      <td>0</td>\n",
       "      <td>0</td>\n",
       "      <td>0</td>\n",
       "      <td>0.9</td>\n",
       "      <td>[마늘바게뜨]</td>\n",
       "    </tr>\n",
       "    <tr>\n",
       "      <th>7</th>\n",
       "      <td>+5</td>\n",
       "      <td>0</td>\n",
       "      <td>0</td>\n",
       "      <td>0</td>\n",
       "      <td>0</td>\n",
       "      <td>0</td>\n",
       "      <td>0</td>\n",
       "      <td>0</td>\n",
       "      <td>0</td>\n",
       "      <td>+5</td>\n",
       "      <td>...</td>\n",
       "      <td>0</td>\n",
       "      <td>0</td>\n",
       "      <td>0</td>\n",
       "      <td>0</td>\n",
       "      <td>0</td>\n",
       "      <td>0</td>\n",
       "      <td>0</td>\n",
       "      <td>0</td>\n",
       "      <td>0.0</td>\n",
       "      <td>[None]</td>\n",
       "    </tr>\n",
       "    <tr>\n",
       "      <th>8</th>\n",
       "      <td>+5</td>\n",
       "      <td>0</td>\n",
       "      <td>0</td>\n",
       "      <td>0</td>\n",
       "      <td>0</td>\n",
       "      <td>0</td>\n",
       "      <td>0</td>\n",
       "      <td>0</td>\n",
       "      <td>0</td>\n",
       "      <td>0</td>\n",
       "      <td>...</td>\n",
       "      <td>0</td>\n",
       "      <td>0</td>\n",
       "      <td>0</td>\n",
       "      <td>0</td>\n",
       "      <td>0</td>\n",
       "      <td>0</td>\n",
       "      <td>0</td>\n",
       "      <td>0</td>\n",
       "      <td>+0.5</td>\n",
       "      <td>[홍국이깨찰빵]</td>\n",
       "    </tr>\n",
       "    <tr>\n",
       "      <th>9</th>\n",
       "      <td>+8</td>\n",
       "      <td>+8</td>\n",
       "      <td>0</td>\n",
       "      <td>0</td>\n",
       "      <td>0</td>\n",
       "      <td>0</td>\n",
       "      <td>0</td>\n",
       "      <td>0</td>\n",
       "      <td>0</td>\n",
       "      <td>0</td>\n",
       "      <td>...</td>\n",
       "      <td>0</td>\n",
       "      <td>0</td>\n",
       "      <td>0</td>\n",
       "      <td>0</td>\n",
       "      <td>0</td>\n",
       "      <td>0</td>\n",
       "      <td>0</td>\n",
       "      <td>0</td>\n",
       "      <td>+0.6</td>\n",
       "      <td>[엉덩이빵]</td>\n",
       "    </tr>\n",
       "  </tbody>\n",
       "</table>\n",
       "<p>10 rows × 27 columns</p>\n",
       "</div>"
      ],
      "text/plain": [
       "  bread beverage vegan no_senior no_kids pet whole_wheat view atmosphere  \\\n",
       "0   +10        0     0         0       0   0           0    0          0   \n",
       "1    +8        0     0         0       0   0           0    0          0   \n",
       "2    +8       +8     0         0       0   0           0    0          0   \n",
       "3    +8        0     0         0       0   0           0    0          0   \n",
       "4    +8        0     0         0       0   0           0    0          0   \n",
       "5   +10        0     0         0       0   0           0    0          0   \n",
       "6    +8        0     0         0       0   0           0    0          0   \n",
       "7    +5        0     0         0       0   0           0    0          0   \n",
       "8    +5        0     0         0       0   0           0    0          0   \n",
       "9    +8       +8     0         0       0   0           0    0          0   \n",
       "\n",
       "  friendly  ... photogenic good_music reservation_possible unique_concept  \\\n",
       "0        0  ...          0          0                    0              0   \n",
       "1        0  ...          0          0                    0              0   \n",
       "2        0  ...          0          0                    0              0   \n",
       "3        0  ...          0          0                    0              0   \n",
       "4        0  ...          0          0                    0              0   \n",
       "5       +8  ...          0          0                    0              0   \n",
       "6        0  ...          0          0                    0              0   \n",
       "7       +5  ...          0          0                    0              0   \n",
       "8        0  ...          0          0                    0              0   \n",
       "9        0  ...          0          0                    0              0   \n",
       "\n",
       "  beautiful_interior value_for_money wait health sentiment   bread_name  \n",
       "0                  0               0    0      0      +0.9       [None]  \n",
       "1                  0               0    0      0      +0.8       [None]  \n",
       "2                  0               0    0      0      +0.8       [None]  \n",
       "3                  0               0    0      0      +0.7        [소금빵]  \n",
       "4                  0               0    0      0      +0.7       [None]  \n",
       "5                  0               0    0      0      +0.9  [만동제과마늘바게트]  \n",
       "6                  0               0    0      0       0.9      [마늘바게뜨]  \n",
       "7                  0               0    0      0       0.0       [None]  \n",
       "8                  0               0    0      0      +0.5     [홍국이깨찰빵]  \n",
       "9                  0               0    0      0      +0.6       [엉덩이빵]  \n",
       "\n",
       "[10 rows x 27 columns]"
      ]
     },
     "execution_count": 10,
     "metadata": {},
     "output_type": "execute_result"
    }
   ],
   "source": [
    "bread = []\n",
    "beverage = []\n",
    "vegan = []\n",
    "no_senior = []\n",
    "no_kids = []\n",
    "pet = []\n",
    "wheat = []\n",
    "view = []\n",
    "atmosphere = []\n",
    "friendly = []\n",
    "clean_store = []\n",
    "restroom_clean = []\n",
    "parking = []\n",
    "spacious_store = []\n",
    "plenty_seats = []\n",
    "comfortable_seats = []\n",
    "special_menu = []\n",
    "photogenic = []\n",
    "good_music = []\n",
    "reservation_possible = []\n",
    "unique_concept = []\n",
    "beautiful_interior = []\n",
    "value_for_money = []\n",
    "wait = []\n",
    "health = []\n",
    "sentiment = []\n",
    "bread_name = []\n",
    "\n",
    "def response_gpt(prompt):\n",
    "  system_prompt = \"From now on, you must do three things: 1. Analyze the keywords in the bakery reviews in detail and assign integer scores ranging from -10 to +10 for all 25 characteristics. 2. Provide the overall sentiment score of the entire review text, ranging from -1 to 1, rounded to one decimal place. Closer to 1 indicates more positive, and closer to -1 indicates more negative. 3. If there is a unique menu item specific to the store, output text as an exception at the end. If not, output 'None'. Conditions: 1. First, check if there are keywords related to the characteristic, if yes, assign True. 2. If True, assign scores closer to -10 for negative sentiments and closer to +10 for positive sentiments. 3. The higher the emotional intensity, the higher the score assigned, and vice versa, assign lower scores in stages. 4. The less emotion, the closer the score is to 0. 5. When the score is 0, double-check to ensure accuracy. 6. The 'Pets' keyword must be related to the 'customer's' 'pet'. Wild animals do not qualify. 7. 'Waiting' refers to the time customers spend waiting. 8. Distinctly identify the 'subject' of 'tastes good'. 9. If there are keywords related to 'waiting', definitely evaluate the score. 10. The word '맛집' is very important to me. 11. Infer and judge similar languages. 12. Anything served in a cup is considered a 'beverage'. 13. Be aware that there are various types of 'bread'. 14. Characteristics that are unrelated or indeterminable are scored as 0. 15. 'View' is highly related to the 'scenery' characteristic. 16. Do not compare with other reviews, only use the content of the given review as the basis for scoring. 17. Judgments must be based solely on keywords in the review. 18. Do not provide any further explanation, only scores 19. Responses should follow this example: 'The bread tastes good: +n' 20. 'Desserts' are also included in 'bread'. 21. Distinctly identify the sentence's subject. Characteristics: 'The bread is delicious', 'The beverage is delicious', 'Vegan', 'No senior zone', 'No kids zone', 'Pets are allowed', 'Uses whole wheat', 'Nice view', 'Good atmosphere', 'Friendly', 'The store is clean', 'The restroom is clean', 'Parking available', 'The store is spacious', 'Plenty of seats', 'The seating is comfortable', 'There is a special menu', 'Photogenic', 'The music is good', 'Reservation is possible', 'Unique concept', 'The interior is beautiful', 'Good value for money', 'There is a wait', 'Good for health', 'Overall review sentiment score', 'Unique menu item name' **Print the values corresponding to the attributes in order, excluding the attribute names.**\"\n",
    "  response = client.chat.completions.create(\n",
    "  # model=\"gpt-4-turbo-2024-04-09\",\n",
    "  messages=[\n",
    "    {\"role\": \"system\", \"content\": system_prompt},\n",
    "    {\"role\": \"user\", \"content\": prompt}],\n",
    "  temperature = 0\n",
    "    )\n",
    "  return response.choices[0].message.content\n",
    "\n",
    "\n",
    "result = bread, beverage, vegan, no_senior, no_kids, pet, wheat, view, atmosphere, friendly, clean_store, restroom_clean, parking, spacious_store, plenty_seats, comfortable_seats, special_menu, photogenic, good_music, reservation_possible, unique_concept, beautiful_interior, value_for_money, wait, health, sentiment, bread_name\n",
    "\n",
    "for i in total['Review_text']:\n",
    "  answer = response_gpt(i)\n",
    "  answer_list = answer.split(',')\n",
    "\n",
    "  for i in range(len(answer_list)):\n",
    "    if i < 26:\n",
    "      result[i].append(answer_list[i].replace(' ',''))\n",
    "    elif i == 26:\n",
    "      text = [i.replace(\"'\",'').replace(' ','') for i in answer_list[26:]]\n",
    "      result[-1].append(text)\n",
    "\n",
    "df = pd.DataFrame()\n",
    "df['bread'] = bread\n",
    "df['beverage'] = beverage\n",
    "df['vegan'] = vegan\n",
    "df['no_senior'] = no_senior\n",
    "df['no_kids'] = no_kids\n",
    "df['pet'] = pet\n",
    "df['whole_wheat'] = wheat\n",
    "df['view'] = view\n",
    "df['atmosphere'] = atmosphere\n",
    "df['friendly'] = friendly\n",
    "df['clean_store'] = clean_store\n",
    "df['restroom_clean'] = restroom_clean\n",
    "df['parking'] = parking\n",
    "df['spacious_store'] = spacious_store\n",
    "df['plenty_seats'] = plenty_seats\n",
    "df['comfortable_seats'] = comfortable_seats\n",
    "df['special_menu'] = special_menu\n",
    "df['photogenic'] = photogenic\n",
    "df['good_music'] = good_music\n",
    "df['reservation_possible'] = reservation_possible\n",
    "df['unique_concept'] = unique_concept\n",
    "df['beautiful_interior'] = beautiful_interior\n",
    "df['value_for_money'] = value_for_money\n",
    "df['wait'] = wait\n",
    "df['health'] = health\n",
    "df['sentiment'] = sentiment\n",
    "df['bread_name'] = bread_name\n",
    "df"
   ]
  },
  {
   "cell_type": "code",
   "execution_count": null,
   "metadata": {},
   "outputs": [],
   "source": [
    "bread = []\n",
    "beverage = []\n",
    "vegan = []\n",
    "no_senior = []\n",
    "no_kids = []\n",
    "pet = []\n",
    "wheat = []\n",
    "view = []\n",
    "atmosphere = []\n",
    "friendly = []\n",
    "clean_store = []\n",
    "restroom_clean = []\n",
    "parking = []\n",
    "spacious_store = []\n",
    "plenty_seats = []\n",
    "comfortable_seats = []\n",
    "special_menu = []\n",
    "photogenic = []\n",
    "good_music = []\n",
    "reservation_possible = []\n",
    "unique_concept = []\n",
    "beautiful_interior = []\n",
    "value_for_money = []\n",
    "wait = []\n",
    "health = []\n",
    "sentiment = []\n",
    "bread_name = []\n",
    "\n",
    "def response_gpt(prompt):\n",
    "  system_prompt = \"From now on, you must do three things: 1.Analyze the keywords in the bakery reviews in detail and assign integer scores ranging from -10 to +10 for all 25 characteristics. Follow the second instruction for the last emotion score characteristic. 2.Read the input review text and determine the sentiment score as a number between -1 and 1. If it is a decimal, express it to the first decimal place only. The closer to 1, the more positive; the closer to -1, the more negative. After evaluating the characteristics of the input review text, output the number last and then proceed to evaluate the next review text. 3.If the review mentions a specific unique menu item, output it according to the order of characteristics. If not, output 'None'. 4.For example:”3,5,0,0,0,0,0,0,0,0,0,0,0,0,0,0,0,0,0,0,0,0,0,-5,0,'소금빵',0.6”  Conditions: 1.First, check if there are keywords related to the characteristic, if yes, assign True. 2.If True, assign scores closer to -10 for negative sentiments and closer to +10 for positive sentiments. 3.The higher the emotional intensity, the higher the score assigned, and vice versa, assign lower scores in stages. 4.The less emotion, the closer the score is to 0. 5.When the score is 0, double-check to ensure accuracy. 6.The 'Pets' keyword must be related to the 'customer's' 'pet'. Wild animals do not qualify. 7.'Waiting' refers to the time customers spend waiting. 8.Distinctly identify the 'subject' of 'tastes good'. 9.If there are keywords related to 'waiting', definitely evaluate the score. 10.The word '맛집' is very important to me. 11.Infer and judge similar languages. 12.Anything served in a cup is considered a 'beverage'. 13.Be aware that there are various types of 'bread'. 14.Characteristics that are unrelated or indeterminable must be scored as 0. 15.'View' is highly related to the 'scenery' characteristic. 16.Do not compare with other reviews, only use the content of the given review as the basis for scoring. 17. Judgments must be based solely on keywords in the review. 18.Just give me the answers for the characteristics without any additional explanation. And please wrap the Unique menu item name with small commas (''). 19.Please output the values for each review's characteristics, separated by a comma, without fail. 20.'Desserts' are also included in 'bread'. 21.Distinctly identify the sentence's subject. 22.**Please, print the values corresponding to the attributes in order, excluding the attribute names.** Characteristics: 'The bread is delicious', 'The beverage is delicious', 'Vegan', 'No senior zone', 'No kids zone', 'Pets are allowed', 'Uses whole wheat', 'Nice view', 'Good atmosphere', 'Friendly', 'The store is clean', 'The restroom is clean', 'Parking available', 'The store is spacious', 'Plenty of seats', 'The seating is comfortable', 'There is a special menu', 'Photogenic', 'The music is good', 'Reservation is possible', 'Unique concept', 'The interior is beautiful', 'Good value for money', 'There is a wait', 'Good for health', 'Unique menu item name', 'Overall review sentiment score'\"\n",
    "  response = client.chat.completions.create(\n",
    "  # model=\"gpt-4\",\n",
    "  messages=[\n",
    "    {\"role\": \"system\", \"content\": system_prompt},\n",
    "    {\"role\": \"user\", \"content\": prompt}]\n",
    "#   temperature = 0\n",
    "    )\n",
    "  return response.choices[0].message.content\n",
    "\n",
    "\n",
    "result = bread, beverage, vegan, no_senior, no_kids, pet, wheat, view, atmosphere, friendly, clean_store, restroom_clean, parking, spacious_store, plenty_seats, comfortable_seats, special_menu, photogenic, good_music, reservation_possible, unique_concept, beautiful_interior, value_for_money, wait, health, sentiment, bread_name\n",
    "\n",
    "for i in total['Review_text']:\n",
    "  answer = response_gpt(i)\n",
    "  answer_list = answer.split(',')\n",
    "\n",
    "  for i in range(len(answer_list)):\n",
    "    if i < 26:\n",
    "      result[i].append(answer_list[i].replace(' ',''))\n",
    "    elif i == 26:\n",
    "      text = [i.replace(\"'\",'').replace(' ','') for i in answer_list[26:]]\n",
    "      result[-1].append(text)\n",
    "\n",
    "df = pd.DataFrame()\n",
    "df['bread'] = bread\n",
    "df['beverage'] = beverage\n",
    "df['vegan'] = vegan\n",
    "df['no_senior'] = no_senior\n",
    "df['no_kids'] = no_kids\n",
    "df['pet'] = pet\n",
    "df['whole_wheat'] = wheat\n",
    "df['view'] = view\n",
    "df['atmosphere'] = atmosphere\n",
    "df['friendly'] = friendly\n",
    "df['clean_store'] = clean_store\n",
    "df['restroom_clean'] = restroom_clean\n",
    "df['parking'] = parking\n",
    "df['spacious_store'] = spacious_store\n",
    "df['plenty_seats'] = plenty_seats\n",
    "df['comfortable_seats'] = comfortable_seats\n",
    "df['special_menu'] = special_menu\n",
    "df['photogenic'] = photogenic\n",
    "df['good_music'] = good_music\n",
    "df['reservation_possible'] = reservation_possible\n",
    "df['unique_concept'] = unique_concept\n",
    "df['beautiful_interior'] = beautiful_interior\n",
    "df['value_for_money'] = value_for_money\n",
    "df['wait'] = wait\n",
    "df['health'] = health\n",
    "df['sentiment'] = sentiment\n",
    "df['bread_name'] = bread_name\n",
    "df"
   ]
  },
  {
   "cell_type": "markdown",
   "metadata": {},
   "source": [
    "# 여기 돌리기"
   ]
  },
  {
   "cell_type": "code",
   "execution_count": 5,
   "metadata": {},
   "outputs": [
    {
     "ename": "IndexError",
     "evalue": "tuple index out of range",
     "output_type": "error",
     "traceback": [
      "\u001b[1;31m---------------------------------------------------------------------------\u001b[0m",
      "\u001b[1;31mIndexError\u001b[0m                                Traceback (most recent call last)",
      "Cell \u001b[1;32mIn[5], line 50\u001b[0m\n\u001b[0;32m     48\u001b[0m \u001b[38;5;28;01mfor\u001b[39;00m i \u001b[38;5;129;01min\u001b[39;00m \u001b[38;5;28mrange\u001b[39m(\u001b[38;5;28mlen\u001b[39m(answer_list)):\n\u001b[0;32m     49\u001b[0m   \u001b[38;5;28;01mif\u001b[39;00m i \u001b[38;5;241m<\u001b[39m \u001b[38;5;241m26\u001b[39m:\n\u001b[1;32m---> 50\u001b[0m     \u001b[43mresult\u001b[49m\u001b[43m[\u001b[49m\u001b[43mi\u001b[49m\u001b[43m]\u001b[49m\u001b[38;5;241m.\u001b[39mappend(answer_list[i]\u001b[38;5;241m.\u001b[39mreplace(\u001b[38;5;124m'\u001b[39m\u001b[38;5;124m \u001b[39m\u001b[38;5;124m'\u001b[39m,\u001b[38;5;124m'\u001b[39m\u001b[38;5;124m'\u001b[39m))\n\u001b[0;32m     51\u001b[0m   \u001b[38;5;28;01melif\u001b[39;00m i \u001b[38;5;241m==\u001b[39m \u001b[38;5;241m26\u001b[39m:\n\u001b[0;32m     52\u001b[0m     text \u001b[38;5;241m=\u001b[39m [i\u001b[38;5;241m.\u001b[39mreplace(\u001b[38;5;124m\"\u001b[39m\u001b[38;5;124m'\u001b[39m\u001b[38;5;124m\"\u001b[39m,\u001b[38;5;124m'\u001b[39m\u001b[38;5;124m'\u001b[39m)\u001b[38;5;241m.\u001b[39mreplace(\u001b[38;5;124m'\u001b[39m\u001b[38;5;124m \u001b[39m\u001b[38;5;124m'\u001b[39m,\u001b[38;5;124m'\u001b[39m\u001b[38;5;124m'\u001b[39m) \u001b[38;5;28;01mfor\u001b[39;00m i \u001b[38;5;129;01min\u001b[39;00m answer_list[\u001b[38;5;241m26\u001b[39m:]]\n",
      "\u001b[1;31mIndexError\u001b[0m: tuple index out of range"
     ]
    }
   ],
   "source": [
    "bread = []\n",
    "beverage = []\n",
    "vegan = []\n",
    "no_senior = []\n",
    "no_kids = []\n",
    "pet = []\n",
    "wheat = []\n",
    "view = []\n",
    "atmosphere = []\n",
    "friendly = []\n",
    "clean_store = []\n",
    "restroom_clean = []\n",
    "parking = []\n",
    "spacious_store = []\n",
    "plenty_seats = []\n",
    "comfortable_seats = []\n",
    "special_menu = []\n",
    "photogenic = []\n",
    "good_music = []\n",
    "reservation_possible = []\n",
    "unique_concept = []\n",
    "beautiful_interior = []\n",
    "value_for_money = []\n",
    "wait = []\n",
    "health = []\n",
    "sentiment = []\n",
    "bread_name = []\n",
    "\n",
    "def response_gpt(prompt):\n",
    "  system_prompt = \"From now on, you must do three things: 1.Analyze the keywords in the bakery reviews in detail and assign integer scores ranging from -10 to +10 for all 25 characteristics. Follow the second instruction for the last emotion score characteristic. 2.Read the input review text and determine the sentiment score as a number between -1 and 1. If it is a decimal, express it to the first decimal place only. The closer to 1, the more positive; the closer to -1, the more negative. After evaluating the characteristics of the input review text, output the number last and then proceed to evaluate the next review text. 3.For example:”3,5,0,0,0,0,0,0,0,0,0,0,0,0,0,0,0,0,0,0,0,0,0,-5,0,0.6”  Conditions: 1.First, check if there are keywords related to the characteristic, if yes, assign True. 2.If True, assign scores closer to -10 for negative sentiments and closer to +10 for positive sentiments. 3.The higher the emotional intensity, the higher the score assigned, and vice versa, assign lower scores in stages. 4.The less emotion, the closer the score is to 0. 5.When the score is 0, double-check to ensure accuracy. 6.The 'Pets' keyword must be related to the 'customer's' 'pet'. Wild animals do not qualify. 7.'Waiting' refers to the time customers spend waiting. 8.Distinctly identify the 'subject' of 'tastes good'. 9.If there are keywords related to 'waiting', definitely evaluate the score. 10.The word '맛집' is very important to me. 11.Infer and judge similar languages. 12.Anything served in a cup is considered a 'beverage'. 13.Be aware that there are various types of 'bread'. 14.Characteristics that are unrelated or indeterminable must be scored as 0. 15.'View' is highly related to the 'scenery' characteristic. 16.Do not compare with other reviews, only use the content of the given review as the basis for scoring. 17. Judgments must be based solely on keywords in the review. 18.Just give me the answers for the characteristics without any additional explanation. And please wrap the Unique menu item name with small commas (''). 19.Please output the values for each review's characteristics, separated by a comma, without fail. 20.'Desserts' are also included in 'bread'. 21.Distinctly identify the sentence's subject. 22.**Please, print the values corresponding to the attributes in order, excluding the attribute names.** Characteristics: 'The bread is delicious', 'The beverage is delicious', 'Vegan', 'No senior zone', 'No kids zone', 'Pets are allowed', 'Uses whole wheat', 'Nice view', 'Good atmosphere', 'Friendly', 'The store is clean', 'The restroom is clean', 'Parking available', 'The store is spacious', 'Plenty of seats', 'The seating is comfortable', 'There is a special menu', 'Photogenic', 'The music is good', 'Reservation is possible', 'Unique concept', 'The interior is beautiful', 'Good value for money', 'There is a wait', 'Good for health', 'Overall review sentiment score'\"\n",
    "  response = client.chat.completions.create(\n",
    "  model=\"gpt-3.5-turbo\",\n",
    "  messages=[\n",
    "    {\"role\": \"system\", \"content\": system_prompt},\n",
    "    {\"role\": \"user\", \"content\": prompt}],\n",
    "  temperature = 0\n",
    "    )\n",
    "  return response.choices[0].message.content\n",
    "\n",
    "\n",
    "result = bread, beverage, vegan, no_senior, no_kids, pet, wheat, view, atmosphere, friendly, clean_store, restroom_clean, parking, spacious_store, plenty_seats, comfortable_seats, special_menu, photogenic, good_music, reservation_possible, unique_concept, beautiful_interior, value_for_money, wait, sentiment\n",
    "\n",
    "# health, bread_name,\n",
    "for i in total['Review_text']:\n",
    "  answer = response_gpt(i)\n",
    "  answer_list = answer.split(',')\n",
    "\n",
    "  for i in range(len(answer_list)):\n",
    "    if i < 26:\n",
    "      result[i].append(answer_list[i].replace(' ',''))\n",
    "    elif i == 26:\n",
    "      text = [i.replace(\"'\",'').replace(' ','') for i in answer_list[26:]]\n",
    "      result[-1].append(text)\n",
    "\n",
    "df = pd.DataFrame()\n",
    "df['bread'] = bread\n",
    "df['beverage'] = beverage\n",
    "df['vegan'] = vegan\n",
    "df['no_senior'] = no_senior\n",
    "df['no_kids'] = no_kids\n",
    "df['pet'] = pet\n",
    "df['whole_wheat'] = wheat\n",
    "df['view'] = view\n",
    "df['atmosphere'] = atmosphere\n",
    "df['friendly'] = friendly\n",
    "df['clean_store'] = clean_store\n",
    "df['restroom_clean'] = restroom_clean\n",
    "df['parking'] = parking\n",
    "df['spacious_store'] = spacious_store\n",
    "df['plenty_seats'] = plenty_seats\n",
    "df['comfortable_seats'] = comfortable_seats\n",
    "df['special_menu'] = special_menu\n",
    "df['photogenic'] = photogenic\n",
    "df['good_music'] = good_music\n",
    "df['reservation_possible'] = reservation_possible\n",
    "df['unique_concept'] = unique_concept\n",
    "df['beautiful_interior'] = beautiful_interior\n",
    "df['value_for_money'] = value_for_money\n",
    "df['wait'] = wait\n",
    "df['health'] = health\n",
    "# df['bread_name'] = bread_name\n",
    "df['sentiment'] = sentiment\n",
    "\n",
    "df\n",
    "\n",
    "# df.to_csv('feature_sentiment.csv', encoding = 'utf-8-sig')"
   ]
  },
  {
   "cell_type": "markdown",
   "metadata": {},
   "source": [
    "From now on, you must do three things: 1. Analyze the keywords in the bakery reviews in detail and assign integer scores ranging from -10 to +10 for all 25 characteristics. 2. Provide the overall sentiment score of the entire review text, ranging from -1 to 1, rounded to one decimal place. Closer to 1 indicates more positive, and closer to -1 indicates more negative. 3. If there is a unique menu item specific to the store, output text as an exception at the end. If not, output 'None'. Conditions: 1. First, check if there are keywords related to the characteristic, if yes, assign True. 2. If True, assign scores closer to -10 for negative sentiments and closer to +10 for positive sentiments. 3. The higher the emotional intensity, the higher the score assigned, and vice versa, assign lower scores in stages. 4. The less emotion, the closer the score is to 0. 5. When the score is 0, double-check to ensure accuracy. 6. The 'Pets' keyword must be related to the 'customer's' 'pet'. Wild animals do not qualify. 7. 'Waiting' refers to the time customers spend waiting. 8. Distinctly identify the 'subject' of 'tastes good'. 9. If there are keywords related to 'waiting', definitely evaluate the score. 10. The word '맛집' is very important to me. 11. Infer and judge similar languages. 12. Anything served in a cup is considered a 'beverage'. 13. Be aware that there are various types of 'bread'. 14. Characteristics that are unrelated or indeterminable are scored as 0. 15. 'View' is highly related to the 'scenery' characteristic. 16. Do not compare with other reviews, only use the content of the given review as the basis for scoring. 17. Judgments must be based solely on keywords in the review. 18. Do not provide any further explanation, only scores 19. Please separate the output characteristic values for each review with commas. 20. 'Desserts' are also included in 'bread'. 21. Distinctly identify the sentence's subject. Characteristics: 'The bread is delicious', 'The beverage is delicious', 'Vegan', 'No senior zone', 'No kids zone', 'Pets are allowed', 'Uses whole wheat', 'Nice view', 'Good atmosphere', 'Friendly', 'The store is clean', 'The restroom is clean', 'Parking available', 'The store is spacious', 'Plenty of seats', 'The seating is comfortable', 'There is a special menu', 'Photogenic', 'The music is good', 'Reservation is possible', 'Unique concept', 'The interior is beautiful', 'Good value for money', 'There is a wait', 'Good for health', 'Overall review sentiment score', 'Unique menu item name' **Print the values corresponding to the attributes in order, excluding the attribute names."
   ]
  },
  {
   "cell_type": "code",
   "execution_count": 23,
   "metadata": {},
   "outputs": [
    {
     "ename": "ValueError",
     "evalue": "Length of values (9) does not match length of index (10)",
     "output_type": "error",
     "traceback": [
      "\u001b[1;31m---------------------------------------------------------------------------\u001b[0m",
      "\u001b[1;31mValueError\u001b[0m                                Traceback (most recent call last)",
      "Cell \u001b[1;32mIn[23], line 27\u001b[0m\n\u001b[0;32m     25\u001b[0m df[\u001b[38;5;124m'\u001b[39m\u001b[38;5;124mwait\u001b[39m\u001b[38;5;124m'\u001b[39m] \u001b[38;5;241m=\u001b[39m wait\n\u001b[0;32m     26\u001b[0m df[\u001b[38;5;124m'\u001b[39m\u001b[38;5;124mhealth\u001b[39m\u001b[38;5;124m'\u001b[39m] \u001b[38;5;241m=\u001b[39m health\n\u001b[1;32m---> 27\u001b[0m \u001b[43mdf\u001b[49m\u001b[43m[\u001b[49m\u001b[38;5;124;43m'\u001b[39;49m\u001b[38;5;124;43msentiment\u001b[39;49m\u001b[38;5;124;43m'\u001b[39;49m\u001b[43m]\u001b[49m \u001b[38;5;241m=\u001b[39m sentiment\n\u001b[0;32m     28\u001b[0m df[\u001b[38;5;124m'\u001b[39m\u001b[38;5;124mbread_name\u001b[39m\u001b[38;5;124m'\u001b[39m] \u001b[38;5;241m=\u001b[39m bread_name\n\u001b[0;32m     29\u001b[0m df\n",
      "File \u001b[1;32m~\\AppData\\Roaming\\Python\\Python311\\site-packages\\pandas\\core\\frame.py:4299\u001b[0m, in \u001b[0;36mDataFrame.__setitem__\u001b[1;34m(self, key, value)\u001b[0m\n\u001b[0;32m   4296\u001b[0m     \u001b[38;5;28mself\u001b[39m\u001b[38;5;241m.\u001b[39m_setitem_array([key], value)\n\u001b[0;32m   4297\u001b[0m \u001b[38;5;28;01melse\u001b[39;00m:\n\u001b[0;32m   4298\u001b[0m     \u001b[38;5;66;03m# set column\u001b[39;00m\n\u001b[1;32m-> 4299\u001b[0m     \u001b[38;5;28;43mself\u001b[39;49m\u001b[38;5;241;43m.\u001b[39;49m\u001b[43m_set_item\u001b[49m\u001b[43m(\u001b[49m\u001b[43mkey\u001b[49m\u001b[43m,\u001b[49m\u001b[43m \u001b[49m\u001b[43mvalue\u001b[49m\u001b[43m)\u001b[49m\n",
      "File \u001b[1;32m~\\AppData\\Roaming\\Python\\Python311\\site-packages\\pandas\\core\\frame.py:4512\u001b[0m, in \u001b[0;36mDataFrame._set_item\u001b[1;34m(self, key, value)\u001b[0m\n\u001b[0;32m   4502\u001b[0m \u001b[38;5;28;01mdef\u001b[39;00m \u001b[38;5;21m_set_item\u001b[39m(\u001b[38;5;28mself\u001b[39m, key, value) \u001b[38;5;241m-\u001b[39m\u001b[38;5;241m>\u001b[39m \u001b[38;5;28;01mNone\u001b[39;00m:\n\u001b[0;32m   4503\u001b[0m \u001b[38;5;250m    \u001b[39m\u001b[38;5;124;03m\"\"\"\u001b[39;00m\n\u001b[0;32m   4504\u001b[0m \u001b[38;5;124;03m    Add series to DataFrame in specified column.\u001b[39;00m\n\u001b[0;32m   4505\u001b[0m \n\u001b[1;32m   (...)\u001b[0m\n\u001b[0;32m   4510\u001b[0m \u001b[38;5;124;03m    ensure homogeneity.\u001b[39;00m\n\u001b[0;32m   4511\u001b[0m \u001b[38;5;124;03m    \"\"\"\u001b[39;00m\n\u001b[1;32m-> 4512\u001b[0m     value, refs \u001b[38;5;241m=\u001b[39m \u001b[38;5;28;43mself\u001b[39;49m\u001b[38;5;241;43m.\u001b[39;49m\u001b[43m_sanitize_column\u001b[49m\u001b[43m(\u001b[49m\u001b[43mvalue\u001b[49m\u001b[43m)\u001b[49m\n\u001b[0;32m   4514\u001b[0m     \u001b[38;5;28;01mif\u001b[39;00m (\n\u001b[0;32m   4515\u001b[0m         key \u001b[38;5;129;01min\u001b[39;00m \u001b[38;5;28mself\u001b[39m\u001b[38;5;241m.\u001b[39mcolumns\n\u001b[0;32m   4516\u001b[0m         \u001b[38;5;129;01mand\u001b[39;00m value\u001b[38;5;241m.\u001b[39mndim \u001b[38;5;241m==\u001b[39m \u001b[38;5;241m1\u001b[39m\n\u001b[0;32m   4517\u001b[0m         \u001b[38;5;129;01mand\u001b[39;00m \u001b[38;5;129;01mnot\u001b[39;00m \u001b[38;5;28misinstance\u001b[39m(value\u001b[38;5;241m.\u001b[39mdtype, ExtensionDtype)\n\u001b[0;32m   4518\u001b[0m     ):\n\u001b[0;32m   4519\u001b[0m         \u001b[38;5;66;03m# broadcast across multiple columns if necessary\u001b[39;00m\n\u001b[0;32m   4520\u001b[0m         \u001b[38;5;28;01mif\u001b[39;00m \u001b[38;5;129;01mnot\u001b[39;00m \u001b[38;5;28mself\u001b[39m\u001b[38;5;241m.\u001b[39mcolumns\u001b[38;5;241m.\u001b[39mis_unique \u001b[38;5;129;01mor\u001b[39;00m \u001b[38;5;28misinstance\u001b[39m(\u001b[38;5;28mself\u001b[39m\u001b[38;5;241m.\u001b[39mcolumns, MultiIndex):\n",
      "File \u001b[1;32m~\\AppData\\Roaming\\Python\\Python311\\site-packages\\pandas\\core\\frame.py:5253\u001b[0m, in \u001b[0;36mDataFrame._sanitize_column\u001b[1;34m(self, value)\u001b[0m\n\u001b[0;32m   5250\u001b[0m     \u001b[38;5;28;01mreturn\u001b[39;00m _reindex_for_setitem(value, \u001b[38;5;28mself\u001b[39m\u001b[38;5;241m.\u001b[39mindex)\n\u001b[0;32m   5252\u001b[0m \u001b[38;5;28;01mif\u001b[39;00m is_list_like(value):\n\u001b[1;32m-> 5253\u001b[0m     \u001b[43mcom\u001b[49m\u001b[38;5;241;43m.\u001b[39;49m\u001b[43mrequire_length_match\u001b[49m\u001b[43m(\u001b[49m\u001b[43mvalue\u001b[49m\u001b[43m,\u001b[49m\u001b[43m \u001b[49m\u001b[38;5;28;43mself\u001b[39;49m\u001b[38;5;241;43m.\u001b[39;49m\u001b[43mindex\u001b[49m\u001b[43m)\u001b[49m\n\u001b[0;32m   5254\u001b[0m arr \u001b[38;5;241m=\u001b[39m sanitize_array(value, \u001b[38;5;28mself\u001b[39m\u001b[38;5;241m.\u001b[39mindex, copy\u001b[38;5;241m=\u001b[39m\u001b[38;5;28;01mTrue\u001b[39;00m, allow_2d\u001b[38;5;241m=\u001b[39m\u001b[38;5;28;01mTrue\u001b[39;00m)\n\u001b[0;32m   5255\u001b[0m \u001b[38;5;28;01mif\u001b[39;00m (\n\u001b[0;32m   5256\u001b[0m     \u001b[38;5;28misinstance\u001b[39m(value, Index)\n\u001b[0;32m   5257\u001b[0m     \u001b[38;5;129;01mand\u001b[39;00m value\u001b[38;5;241m.\u001b[39mdtype \u001b[38;5;241m==\u001b[39m \u001b[38;5;124m\"\u001b[39m\u001b[38;5;124mobject\u001b[39m\u001b[38;5;124m\"\u001b[39m\n\u001b[1;32m   (...)\u001b[0m\n\u001b[0;32m   5260\u001b[0m     \u001b[38;5;66;03m# TODO: Remove kludge in sanitize_array for string mode when enforcing\u001b[39;00m\n\u001b[0;32m   5261\u001b[0m     \u001b[38;5;66;03m# this deprecation\u001b[39;00m\n",
      "File \u001b[1;32m~\\AppData\\Roaming\\Python\\Python311\\site-packages\\pandas\\core\\common.py:573\u001b[0m, in \u001b[0;36mrequire_length_match\u001b[1;34m(data, index)\u001b[0m\n\u001b[0;32m    569\u001b[0m \u001b[38;5;250m\u001b[39m\u001b[38;5;124;03m\"\"\"\u001b[39;00m\n\u001b[0;32m    570\u001b[0m \u001b[38;5;124;03mCheck the length of data matches the length of the index.\u001b[39;00m\n\u001b[0;32m    571\u001b[0m \u001b[38;5;124;03m\"\"\"\u001b[39;00m\n\u001b[0;32m    572\u001b[0m \u001b[38;5;28;01mif\u001b[39;00m \u001b[38;5;28mlen\u001b[39m(data) \u001b[38;5;241m!=\u001b[39m \u001b[38;5;28mlen\u001b[39m(index):\n\u001b[1;32m--> 573\u001b[0m     \u001b[38;5;28;01mraise\u001b[39;00m \u001b[38;5;167;01mValueError\u001b[39;00m(\n\u001b[0;32m    574\u001b[0m         \u001b[38;5;124m\"\u001b[39m\u001b[38;5;124mLength of values \u001b[39m\u001b[38;5;124m\"\u001b[39m\n\u001b[0;32m    575\u001b[0m         \u001b[38;5;124mf\u001b[39m\u001b[38;5;124m\"\u001b[39m\u001b[38;5;124m(\u001b[39m\u001b[38;5;132;01m{\u001b[39;00m\u001b[38;5;28mlen\u001b[39m(data)\u001b[38;5;132;01m}\u001b[39;00m\u001b[38;5;124m) \u001b[39m\u001b[38;5;124m\"\u001b[39m\n\u001b[0;32m    576\u001b[0m         \u001b[38;5;124m\"\u001b[39m\u001b[38;5;124mdoes not match length of index \u001b[39m\u001b[38;5;124m\"\u001b[39m\n\u001b[0;32m    577\u001b[0m         \u001b[38;5;124mf\u001b[39m\u001b[38;5;124m\"\u001b[39m\u001b[38;5;124m(\u001b[39m\u001b[38;5;132;01m{\u001b[39;00m\u001b[38;5;28mlen\u001b[39m(index)\u001b[38;5;132;01m}\u001b[39;00m\u001b[38;5;124m)\u001b[39m\u001b[38;5;124m\"\u001b[39m\n\u001b[0;32m    578\u001b[0m     )\n",
      "\u001b[1;31mValueError\u001b[0m: Length of values (9) does not match length of index (10)"
     ]
    }
   ],
   "source": [
    "df = pd.DataFrame()\n",
    "df['bread'] = bread\n",
    "df['beverage'] = beverage\n",
    "df['vegan'] = vegan\n",
    "df['no_senior'] = no_senior\n",
    "df['no_kids'] = no_kids\n",
    "df['pet'] = pet\n",
    "df['whole_wheat'] = wheat\n",
    "df['view'] = view\n",
    "df['atmosphere'] = atmosphere\n",
    "df['friendly'] = friendly\n",
    "df['clean_store'] = clean_store\n",
    "df['restroom_clean'] = restroom_clean\n",
    "df['parking'] = parking\n",
    "df['spacious_store'] = spacious_store\n",
    "df['plenty_seats'] = plenty_seats\n",
    "df['comfortable_seats'] = comfortable_seats\n",
    "df['special_menu'] = special_menu\n",
    "df['photogenic'] = photogenic\n",
    "df['good_music'] = good_music\n",
    "df['reservation_possible'] = reservation_possible\n",
    "df['unique_concept'] = unique_concept\n",
    "df['beautiful_interior'] = beautiful_interior\n",
    "df['value_for_money'] = value_for_money\n",
    "df['wait'] = wait\n",
    "df['health'] = health\n",
    "df['bread_name'] = bread_name\n",
    "df['sentiment'] = sentiment\n",
    "\n",
    "df"
   ]
  },
  {
   "cell_type": "code",
   "execution_count": 6,
   "metadata": {},
   "outputs": [
    {
     "data": {
      "text/plain": [
       "['10']"
      ]
     },
     "execution_count": 6,
     "metadata": {},
     "output_type": "execute_result"
    }
   ],
   "source": [
    "bread"
   ]
  },
  {
   "cell_type": "code",
   "execution_count": 7,
   "metadata": {},
   "outputs": [
    {
     "data": {
      "text/plain": [
       "[]"
      ]
     },
     "execution_count": 7,
     "metadata": {},
     "output_type": "execute_result"
    }
   ],
   "source": [
    "bread_name"
   ]
  },
  {
   "cell_type": "code",
   "execution_count": 8,
   "metadata": {},
   "outputs": [
    {
     "data": {
      "text/plain": [
       "['0']"
      ]
     },
     "execution_count": 8,
     "metadata": {},
     "output_type": "execute_result"
    }
   ],
   "source": [
    "sentiment"
   ]
  },
  {
   "cell_type": "code",
   "execution_count": 10,
   "metadata": {},
   "outputs": [],
   "source": [
    "pd.set_option('display.max_columns', 30)"
   ]
  },
  {
   "cell_type": "code",
   "execution_count": null,
   "metadata": {},
   "outputs": [],
   "source": [
    "\n",
    "merged_df = pd.concat(df_list, ignore_index=True)\n",
    "merged_df.to_csv('feature_df.csv', encoding = 'utf-8-sig')"
   ]
  },
  {
   "cell_type": "code",
   "execution_count": 39,
   "metadata": {},
   "outputs": [],
   "source": [
    "a = response.choices[0].message.content\n",
    "b = a.split(',')"
   ]
  },
  {
   "cell_type": "markdown",
   "metadata": {},
   "source": [
    "_______________________"
   ]
  },
  {
   "cell_type": "markdown",
   "metadata": {},
   "source": [
    "### ETC"
   ]
  },
  {
   "cell_type": "code",
   "execution_count": 20,
   "metadata": {},
   "outputs": [
    {
     "name": "stdout",
     "output_type": "stream",
     "text": [
      "The Los Angeles Dodgers won the 2020 World Series.\n"
     ]
    }
   ],
   "source": [
    "response = client.chat.completions.create(\n",
    " model=\"gpt-4-turbo-2024-04-09\",\n",
    " messages=[\n",
    " {\"role\": \"system\", \"You must only answer users' questions in English. This must be honored. You must only answer in English.\"},\n",
    " {\"role\": \"user\", \"content\": \"2020년 월드시리즈에서는 누가 우승했어?\"}\n",
    " ]\n",
    ")\n",
    "print(response.choices[0].message.content)"
   ]
  },
  {
   "cell_type": "code",
   "execution_count": null,
   "metadata": {},
   "outputs": [],
   "source": [
    "response = client.chat.completions.create(\n",
    "model=\"gpt-4-turbo-2024-04-09\",\n",
    "messages=[\n",
    "{\"role\": \"system\", \"content\": \"You are a translator that translates users' inputs. If the input is in Korean, it must be translated into English. This must be strictly adhered to.\"},\n",
    "{\"role\": \"user\", \"content\": \"2020년 월드시리즈에서는 누가 우승했어?\"}]\n",
    " )\n",
    "print(response.choices[0].message.content)\n"
   ]
  },
  {
   "cell_type": "markdown",
   "metadata": {},
   "source": [
    "## 이어서 질문하기"
   ]
  },
  {
   "cell_type": "code",
   "execution_count": 23,
   "metadata": {},
   "outputs": [
    {
     "name": "stdout",
     "output_type": "stream",
     "text": [
      "The World Series in 2020 was played at Globe Life Field in Arlington, Texas.\n"
     ]
    }
   ],
   "source": [
    "response = client.chat.completions.create(\n",
    "  model=\"gpt-3.5-turbo\",\n",
    "  messages=[\n",
    "    {\"role\": \"system\", \"content\": \"You are a helpful assistant.\"},\n",
    "    {\"role\": \"user\", \"content\": \"Who won the world series in 2020?\"},\n",
    "    {\"role\": \"assistant\", \"content\": \"The Los Angeles Dodgers won the World Series in 2020.\"},\n",
    "    {\"role\": \"user\", \"content\": \"Where was it played?\"}\n",
    "  ]\n",
    ")\n",
    "print(response.choices[0].message.content)"
   ]
  },
  {
   "cell_type": "markdown",
   "metadata": {},
   "source": [
    "## JSON 구조로 답변받기\n",
    "- gpt-3.5-turbo-1106, gpt-4-1106-preview 모델만 사용가능"
   ]
  },
  {
   "cell_type": "code",
   "execution_count": 25,
   "metadata": {},
   "outputs": [
    {
     "name": "stdout",
     "output_type": "stream",
     "text": [
      "{\n",
      "  \"winner\": \"Los Angeles Dodgers\",\n",
      "  \"year\": 2020\n",
      "}\n"
     ]
    }
   ],
   "source": [
    "response = client.chat.completions.create(\n",
    "  model=\"gpt-3.5-turbo-1106\",\n",
    "  response_format={ \"type\": \"json_object\" },\n",
    "  messages=[\n",
    "    {\"role\": \"system\", \"content\": \"You are a helpful assistant designed to output JSON.\"},\n",
    "    {\"role\": \"user\", \"content\": \"Who won the world series in 2020?\"}\n",
    "  ]\n",
    ")\n",
    "print(response.choices[0].message.content)"
   ]
  },
  {
   "cell_type": "markdown",
   "metadata": {},
   "source": [
    "# Moderation"
   ]
  },
  {
   "cell_type": "code",
   "execution_count": 14,
   "metadata": {},
   "outputs": [
    {
     "name": "stdout",
     "output_type": "stream",
     "text": [
      "ModerationCreateResponse(id='modr-8PVkIQ3WI6Dz9rjlEyJFJsuzxTnUT', model='text-moderation-006', results=[Moderation(categories=Categories(harassment=False, harassment_threatening=False, hate=False, hate_threatening=False, self_harm=True, self_harm_instructions=False, self_harm_intent=True, sexual=False, sexual_minors=False, violence=False, violence_graphic=False, self-harm=True, sexual/minors=False, hate/threatening=False, violence/graphic=False, self-harm/intent=True, self-harm/instructions=False, harassment/threatening=False), category_scores=CategoryScores(harassment=0.005596091039478779, harassment_threatening=0.0002474795619491488, hate=3.4555669117253274e-05, hate_threatening=1.3631284900839091e-06, self_harm=0.9932723641395569, self_harm_instructions=8.162172889569774e-06, self_harm_intent=0.9890583157539368, sexual=6.3367201619257685e-06, sexual_minors=8.212543889385415e-07, violence=0.1638331115245819, violence_graphic=1.0883828508667648e-05, self-harm=0.9932723641395569, sexual/minors=8.212543889385415e-07, hate/threatening=1.3631284900839091e-06, violence/graphic=1.0883828508667648e-05, self-harm/intent=0.9890583157539368, self-harm/instructions=8.162172889569774e-06, harassment/threatening=0.0002474795619491488), flagged=True)])\n"
     ]
    }
   ],
   "source": [
    "response = client.moderations.create(\n",
    "    input=\"I hate myself and want to do harm to myself\"\n",
    ")\n",
    "print (response)"
   ]
  },
  {
   "cell_type": "code",
   "execution_count": 18,
   "metadata": {},
   "outputs": [
    {
     "name": "stdout",
     "output_type": "stream",
     "text": [
      "Categories(harassment=False, harassment_threatening=False, hate=False, hate_threatening=False, self_harm=True, self_harm_instructions=False, self_harm_intent=True, sexual=False, sexual_minors=False, violence=False, violence_graphic=False, self-harm=True, sexual/minors=False, hate/threatening=False, violence/graphic=False, self-harm/intent=True, self-harm/instructions=False, harassment/threatening=False)\n"
     ]
    }
   ],
   "source": [
    "response.results[0].categories"
   ]
  },
  {
   "cell_type": "code",
   "execution_count": 20,
   "metadata": {},
   "outputs": [
    {
     "data": {
      "text/plain": [
       "CategoryScores(harassment=0.005596091039478779, harassment_threatening=0.0002474795619491488, hate=3.4555669117253274e-05, hate_threatening=1.3631284900839091e-06, self_harm=0.9932723641395569, self_harm_instructions=8.162172889569774e-06, self_harm_intent=0.9890583157539368, sexual=6.3367201619257685e-06, sexual_minors=8.212543889385415e-07, violence=0.1638331115245819, violence_graphic=1.0883828508667648e-05, self-harm=0.9932723641395569, sexual/minors=8.212543889385415e-07, hate/threatening=1.3631284900839091e-06, violence/graphic=1.0883828508667648e-05, self-harm/intent=0.9890583157539368, self-harm/instructions=8.162172889569774e-06, harassment/threatening=0.0002474795619491488)"
      ]
     },
     "execution_count": 20,
     "metadata": {},
     "output_type": "execute_result"
    }
   ],
   "source": [
    "response.results[0].category_scores"
   ]
  }
 ],
 "metadata": {
  "kernelspec": {
   "display_name": "ch03",
   "language": "python",
   "name": "python3"
  },
  "language_info": {
   "codemirror_mode": {
    "name": "ipython",
    "version": 3
   },
   "file_extension": ".py",
   "mimetype": "text/x-python",
   "name": "python",
   "nbconvert_exporter": "python",
   "pygments_lexer": "ipython3",
   "version": "3.11.2"
  }
 },
 "nbformat": 4,
 "nbformat_minor": 2
}
