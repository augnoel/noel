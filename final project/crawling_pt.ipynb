{
 "cells": [
  {
   "cell_type": "markdown",
   "metadata": {},
   "source": [
    "# Crawling"
   ]
  },
  {
   "cell_type": "code",
   "execution_count": null,
   "metadata": {},
   "outputs": [],
   "source": [
    "# !pip install beautifulsoup4"
   ]
  },
  {
   "cell_type": "code",
   "execution_count": 22,
   "metadata": {},
   "outputs": [],
   "source": [
    "# 셀레니움\n",
    "from selenium import webdriver \n",
    "# 셀레니움 By 클래스 가져오기\n",
    "from selenium.webdriver.common.by import By\n",
    "# BeautifulSoup\n",
    "from bs4 import BeautifulSoup"
   ]
  },
  {
   "cell_type": "code",
   "execution_count": 10,
   "metadata": {},
   "outputs": [],
   "source": [
    "from selenium.webdriver.common.keys import Keys\n",
    "import time\n",
    "from tqdm import tqdm"
   ]
  },
  {
   "cell_type": "markdown",
   "metadata": {},
   "source": [
    "# 순서\n",
    "1. 주소창에 '종로구 빵' 입력\n",
    "2. 검색을 위해 엔터키 누르도록 명령\n",
    "3. 빵 집 누르고 \n",
    "4. 해당 빵집 정보 크롤링"
   ]
  },
  {
   "cell_type": "code",
   "execution_count": 75,
   "metadata": {},
   "outputs": [],
   "source": [
    "# 크롬 웹 드라이버 초기화 및 카카오 맵 페이지로 이동\n",
    "driver = webdriver.Chrome() \n",
    "url = 'https://m.map.kakao.com/'\n",
    "driver.get(url)\n",
    "\n",
    "# 검색창에 '종로구 빵'을 입력\n",
    "\n",
    "# 검색창 element와 검색창 id 가져오기\n",
    "search_box = driver.find_element(By.ID,'innerQuery')\n",
    "# 키워드 입력\n",
    "search_box.send_keys(\"종로구 빵\")\n",
    "\n",
    "# Enter 키 누르기\n",
    "search_box.send_keys(Keys.RETURN)\n",
    "\n",
    "# 페이지가 로드될 때까지 잠시 대기\n",
    "time.sleep(3)\n",
    "\n",
    "# 베너 닫기\n",
    "driver.find_element(By.XPATH, f'//*[@id=\"daumWrap\"]/div[1]/div/a[2]/span').click()"
   ]
  },
  {
   "cell_type": "markdown",
   "metadata": {},
   "source": [
    "## 더이상 더보기 버튼 누를 수 없을 때 까지 누르기"
   ]
  },
  {
   "cell_type": "code",
   "execution_count": 76,
   "metadata": {},
   "outputs": [
    {
     "name": "stdout",
     "output_type": "stream",
     "text": [
      "페이지에 표시된 정보의 갯수: 76\n"
     ]
    }
   ],
   "source": [
    "# 더보기 버튼을 누를 수 있는지 여부 확인하는 함수\n",
    "def can_click_load_more_button():\n",
    "    try:\n",
    "        load_more_button = driver.find_element(By.XPATH, '//*[@id=\"daumContent\"]/div[4]/div[2]/div[3]/a')  # 더보기 버튼의 XPATH\n",
    "        return load_more_button.is_enabled() and load_more_button.is_displayed()\n",
    "    except:\n",
    "        return False\n",
    "\n",
    "# 더보기 버튼 클릭 함수\n",
    "def click_load_more_button():\n",
    "    load_more_button = driver.find_element(By.XPATH, '//*[@id=\"daumContent\"]/div[4]/div[2]/div[3]/a')  # 더보기 버튼의 XPATH\n",
    "    load_more_button.click()\n",
    "    time.sleep(3)  # 버튼을 클릭한 후에 충분한 시간 대기 (페이지가 로딩될 때까지)\n",
    "\n",
    "# 더보기 버튼을 누를 수 없을 때까지 반복해서 클릭\n",
    "while can_click_load_more_button():\n",
    "    click_load_more_button()\n",
    "    \n",
    "# 페이지에 표시된 정보의 갯수 확인\n",
    "all_results = driver.find_elements(By.XPATH, '//*[@id=\"placeList\"]/li')\n",
    "print(\"페이지에 표시된 정보의 갯수:\", len(all_results))"
   ]
  },
  {
   "cell_type": "code",
   "execution_count": 74,
   "metadata": {},
   "outputs": [
    {
     "data": {
      "text/plain": [
       "list"
      ]
     },
     "execution_count": 74,
     "metadata": {},
     "output_type": "execute_result"
    }
   ],
   "source": [
    "type(all_results)"
   ]
  },
  {
   "cell_type": "markdown",
   "metadata": {},
   "source": [
    "9번째 요소까지 a / 10번째 요소부터 a[1]\n",
    "2, 3번째 사이에 배너가 있어서 숫자가 인덱스가 연속적이지 않음\n",
    "\n",
    "- 가게 이름 XPATH\n",
    "//*[@id=\"placeList\"]/li[1]/a[1]/span[2]/span[1]/strong\n",
    "//*[@id=\"placeList\"]/li[2]/a[1]/span[2]/span[1]/strong\n",
    "//*[@id=\"placeList\"]/li[4]/a[1]/span[2]/span[1]/strong\n",
    "//*[@id=\"placeList\"]/li[10]/a[1]/span[2]/span[1]/strong\n",
    "//*[@id=\"placeList\"]/li[16]/a/span[2]/span[1]/strong\n",
    "//*[@id=\"placeList\"]/li[17]/a[1]/span[2]/span[1]/strong 더보기 누른 후 첫번쨰\n",
    "//*[@id=\"placeList\"]/li[61]/a/span[2]/span[1]/strong 더보기 누른 후 마지막\n",
    "//*[@id=\"placeList\"]/li[72]/a[1]/span[2]/span[1]/strong\n",
    "//*[@id=\"placeList\"]/li[76]/a[1]/span[2]/span[1]/strong\n",
    "//*[@id=\"placeList\"]/li[63]/a[1]/span[2]/span[1]/strong\n",
    "//*[@id=\"placeList\"]/li[23]/a[1]/span[2]/span[1]/strong\n",
    "//*[@id=\"placeList\"]/li[50]/a[1]/span[2]/span[1]/strong\n",
    "\n",
    "- 리뷰 점수\n",
    "//*[@id=\"placeList\"]/li[16]/a/span[2]/span[2]/span[1]/em\n",
    "//*[@id=\"placeList\"]/li[10]/a[1]/span[2]/span[2]/span[1]/em\n",
    "//*[@id=\"placeList\"]/li[4]/a[1]/span[2]/span[2]/span[1]/em\n",
    "//*[@id=\"placeList\"]/li[2]/a[1]/span[2]/span[2]/span[1]/em\n",
    "//*[@id=\"placeList\"]/li[1]/a[1]/span[2]/span[2]/span[1]/em\n",
    "//*[@id=\"placeList\"]/li[50]/a[1]/span[2]/span[2]/span[1]/em\n",
    "\n",
    "- 리뷰 갯수\n",
    "//*[@id=\"placeList\"]/li[1]/a[1]/span[2]/span[2]/span[2]\n",
    "//*[@id=\"placeList\"]/li[2]/a[1]/span[2]/span[2]/span[2]\n",
    "//*[@id=\"placeList\"]/li[4]/a[1]/span[2]/span[2]/span[2]\n",
    "//*[@id=\"placeList\"]/li[16]/a/span[2]/span[2]/span[2]\n",
    "//*[@id=\"placeList\"]/li[16]/a/span[2]/span[2]/span[2]\n",
    "//*[@id=\"placeList\"]/li[11]/a/span[2]/span[2]/span[2]\n",
    "//*[@id=\"placeList\"]/li[10]/a[1]/span[2]/span[2]/span[2]\n",
    "\n",
    "- 주소\n",
    "//*[@id=\"placeList\"]/li[1]/a[1]/span[2]/span[3]\n",
    "//*[@id=\"placeList\"]/li[4]/a[1]/span[2]/span[3]\n",
    "//*[@id=\"placeList\"]/li[10]/a[1]/span[2]/span[3]\n",
    "//*[@id=\"placeList\"]/li[11]/a/span[2]/span[3]\n",
    "//*[@id=\"placeList\"]/li[16]/a/span[2]/span[3]"
   ]
  },
  {
   "cell_type": "code",
   "execution_count": 86,
   "metadata": {},
   "outputs": [],
   "source": [
    "# NoSuchElementException import 추가\n",
    "from selenium.common.exceptions import NoSuchElementException  "
   ]
  },
  {
   "cell_type": "code",
   "execution_count": 87,
   "metadata": {},
   "outputs": [],
   "source": [
    "# 크롤링\n",
    "# 가게 이름\n",
    "def store_def(index):\n",
    "    xpath = f'//*[@id=\"placeList\"]/li[{index}]/a[1]/span[2]/span[1]/strong'\n",
    "    try:\n",
    "        return driver.find_element(By.XPATH, xpath).text\n",
    "    # 베너가 있는 경우 다른 XPATH로 시도\n",
    "    except NoSuchElementException:\n",
    "        xpath = f'//*[@id=\"placeList\"]/li[{index}]/a/span[2]/span[1]/strong'   \n",
    "        return driver.find_element(By.XPATH, xpath).text\n",
    "    \n",
    "# 리뷰 점수  \n",
    "def rv_score_def(index):\n",
    "    xpath = f'//*[@id=\"placeList\"]/li[{index}]/a[1]/span[2]/span[2]/span[1]/em'\n",
    "    try:\n",
    "        return driver.find_element(By.XPATH, xpath).text\n",
    "    except NoSuchElementException:\n",
    "        xpath = f'//*[@id=\"placeList\"]/li[{index}]/a/span[2]/span[2]/span[1]/em'\n",
    "        try:\n",
    "            return driver.find_element(By.XPATH, xpath).text\n",
    "        # 예외 처리: 요소를 찾지 못할 경우 None 반환\n",
    "        except NoSuchElementException:\n",
    "            return None \n",
    "\n",
    "\n",
    "# 리뷰 갯수 \n",
    "def rv_count_def(index):\n",
    "    xpath = f'//*[@id=\"placeList\"]/li[{index}]/a[1]/span[2]/span[2]/span[2]'\n",
    "    try:\n",
    "        return driver.find_element(By.XPATH, xpath).text\n",
    "    except NoSuchElementException:\n",
    "        xpath = f'//*[@id=\"placeList\"]/li[{index}]/a/span[2]/span[2]/span[2]'\n",
    "        try:\n",
    "            return driver.find_element(By.XPATH, xpath).text\n",
    "        except NoSuchElementException:\n",
    "            return None \n",
    "\n",
    "# 주소 \n",
    "def add_def(index):\n",
    "    xpath = f'//*[@id=\"placeList\"]/li[{index}]/a[1]/span[2]/span[3]'\n",
    "    try:\n",
    "        return driver.find_element(By.XPATH, xpath).text\n",
    "    except NoSuchElementException:\n",
    "        xpath = f'//*[@id=\"placeList\"]/li[{index}]/a/span[2]/span[3]'\n",
    "        return driver.find_element(By.XPATH, xpath).text\n",
    "\n",
    "store = []\n",
    "review_score = []\n",
    "review_count = []\n",
    "address = []\n",
    "\n",
    "# # XPATH 범위 지정 \n",
    "# range_list = [1, 2, 4, 5, 6, 7, 8, 9, 10, 11, 12, 13, 14, 15, 16]\n",
    "\n",
    "for i in range(1, len(all_results) + 1): \n",
    "    if i == 3:\n",
    "        continue\n",
    "    \n",
    "    time.sleep(3)\n",
    "    \n",
    "    store_name = store_def(i)\n",
    "    store.append(store_name)\n",
    "    \n",
    "    review_sc = rv_score_def(i)\n",
    "    review_score.append(review_sc)\n",
    "    \n",
    "    review_ct = rv_count_def(i)\n",
    "    review_count.append(review_ct)\n",
    "    \n",
    "    add = add_def(i)\n",
    "    address.append(add)\n",
    "    "
   ]
  },
  {
   "cell_type": "code",
   "execution_count": 90,
   "metadata": {},
   "outputs": [
    {
     "name": "stdout",
     "output_type": "stream",
     "text": [
      "75\n",
      "75\n",
      "75\n",
      "75\n"
     ]
    }
   ],
   "source": [
    "print(len(store))\n",
    "print(len(review_score))\n",
    "print(len(review_count))\n",
    "print(len(address))"
   ]
  },
  {
   "cell_type": "code",
   "execution_count": 95,
   "metadata": {},
   "outputs": [],
   "source": [
    "import re"
   ]
  },
  {
   "cell_type": "code",
   "execution_count": 98,
   "metadata": {},
   "outputs": [],
   "source": [
    "# 숫자로 변환하는 함수\n",
    "def extract_number(item):\n",
    "    if item is None:\n",
    "        return None\n",
    "    match = re.search(r'\\d+', item)\n",
    "    return int(match.group()) if match else None\n",
    "\n",
    "# 각 항목을 숫자로 변환하여 새로운 리스트 생성\n",
    "review_count = [extract_number(item) for item in review_count]"
   ]
  },
  {
   "cell_type": "code",
   "execution_count": 104,
   "metadata": {},
   "outputs": [
    {
     "data": {
      "text/plain": [
       "[13, 9, None, 7, 18]"
      ]
     },
     "execution_count": 104,
     "metadata": {},
     "output_type": "execute_result"
    }
   ],
   "source": [
    "review_count[45:50]"
   ]
  },
  {
   "cell_type": "code",
   "execution_count": 105,
   "metadata": {},
   "outputs": [],
   "source": [
    "import pandas as pd"
   ]
  },
  {
   "cell_type": "code",
   "execution_count": null,
   "metadata": {},
   "outputs": [],
   "source": [
    "# DF에 담기\n",
    "kakao = pd.DataFrame()\n",
    "\n",
    "kakao['Store'] = store\n",
    "kakao['Adddress'] = address\n",
    "kakao['Review_score'] = review_score\n",
    "kakao['Review_counts'] = review_count"
   ]
  },
  {
   "cell_type": "code",
   "execution_count": 117,
   "metadata": {},
   "outputs": [
    {
     "data": {
      "text/html": [
       "<div>\n",
       "<style scoped>\n",
       "    .dataframe tbody tr th:only-of-type {\n",
       "        vertical-align: middle;\n",
       "    }\n",
       "\n",
       "    .dataframe tbody tr th {\n",
       "        vertical-align: top;\n",
       "    }\n",
       "\n",
       "    .dataframe thead th {\n",
       "        text-align: right;\n",
       "    }\n",
       "</style>\n",
       "<table border=\"1\" class=\"dataframe\">\n",
       "  <thead>\n",
       "    <tr style=\"text-align: right;\">\n",
       "      <th></th>\n",
       "      <th>Store</th>\n",
       "      <th>Adddress</th>\n",
       "      <th>Review_score</th>\n",
       "      <th>Review_counts</th>\n",
       "    </tr>\n",
       "  </thead>\n",
       "  <tbody>\n",
       "    <tr>\n",
       "      <th>0</th>\n",
       "      <td>스코프 서촌점</td>\n",
       "      <td>서울 종로구 필운대로5가길 31 (누하동)</td>\n",
       "      <td>3.9</td>\n",
       "      <td>223.0</td>\n",
       "    </tr>\n",
       "    <tr>\n",
       "      <th>1</th>\n",
       "      <td>부암동스코프</td>\n",
       "      <td>서울 종로구 창의문로 149 1층 (부암동)</td>\n",
       "      <td>4.0</td>\n",
       "      <td>204.0</td>\n",
       "    </tr>\n",
       "    <tr>\n",
       "      <th>2</th>\n",
       "      <td>효자베이커리</td>\n",
       "      <td>서울 종로구 필운대로 54 (통인동)</td>\n",
       "      <td>3.8</td>\n",
       "      <td>139.0</td>\n",
       "    </tr>\n",
       "    <tr>\n",
       "      <th>3</th>\n",
       "      <td>아베베베이커리 서울점</td>\n",
       "      <td>서울 종로구 청계천로 201 1~3층 (예지동)</td>\n",
       "      <td>4.0</td>\n",
       "      <td>109.0</td>\n",
       "    </tr>\n",
       "    <tr>\n",
       "      <th>4</th>\n",
       "      <td>런던베이글뮤지엄 안국점</td>\n",
       "      <td>서울 종로구 북촌로4길 20 연화빌딩 1층 (계동)</td>\n",
       "      <td>3.0</td>\n",
       "      <td>605.0</td>\n",
       "    </tr>\n",
       "    <tr>\n",
       "      <th>...</th>\n",
       "      <td>...</td>\n",
       "      <td>...</td>\n",
       "      <td>...</td>\n",
       "      <td>...</td>\n",
       "    </tr>\n",
       "    <tr>\n",
       "      <th>70</th>\n",
       "      <td>아티제 세종문화회관점</td>\n",
       "      <td>서울 종로구 세종대로 175 세종문화회관 1층 (세종로)</td>\n",
       "      <td>3.4</td>\n",
       "      <td>7.0</td>\n",
       "    </tr>\n",
       "    <tr>\n",
       "      <th>71</th>\n",
       "      <td>파리바게뜨 동묘역점</td>\n",
       "      <td>서울 종로구 지봉로 43 (창신동)</td>\n",
       "      <td>3.0</td>\n",
       "      <td>2.0</td>\n",
       "    </tr>\n",
       "    <tr>\n",
       "      <th>72</th>\n",
       "      <td>북촌유기농명인단팥빵 광화문점</td>\n",
       "      <td>서울 종로구 새문안로9길 21 1층 (당주동)</td>\n",
       "      <td>4.3</td>\n",
       "      <td>6.0</td>\n",
       "    </tr>\n",
       "    <tr>\n",
       "      <th>73</th>\n",
       "      <td>모자이크베이커리</td>\n",
       "      <td>서울 종로구 율곡로 221-12 1층 (이화동)</td>\n",
       "      <td>4.6</td>\n",
       "      <td>14.0</td>\n",
       "    </tr>\n",
       "    <tr>\n",
       "      <th>74</th>\n",
       "      <td>헤이스윗</td>\n",
       "      <td>서울 종로구 동숭2길 3-4 1층 (동숭동)</td>\n",
       "      <td>4.5</td>\n",
       "      <td>20.0</td>\n",
       "    </tr>\n",
       "  </tbody>\n",
       "</table>\n",
       "<p>75 rows × 4 columns</p>\n",
       "</div>"
      ],
      "text/plain": [
       "              Store                         Adddress  Review_score  \\\n",
       "0           스코프 서촌점          서울 종로구 필운대로5가길 31 (누하동)           3.9   \n",
       "1            부암동스코프         서울 종로구 창의문로 149 1층 (부암동)           4.0   \n",
       "2            효자베이커리             서울 종로구 필운대로 54 (통인동)           3.8   \n",
       "3       아베베베이커리 서울점       서울 종로구 청계천로 201 1~3층 (예지동)           4.0   \n",
       "4      런던베이글뮤지엄 안국점     서울 종로구 북촌로4길 20 연화빌딩 1층 (계동)           3.0   \n",
       "..              ...                              ...           ...   \n",
       "70      아티제 세종문화회관점  서울 종로구 세종대로 175 세종문화회관 1층 (세종로)           3.4   \n",
       "71       파리바게뜨 동묘역점              서울 종로구 지봉로 43 (창신동)           3.0   \n",
       "72  북촌유기농명인단팥빵 광화문점        서울 종로구 새문안로9길 21 1층 (당주동)           4.3   \n",
       "73         모자이크베이커리       서울 종로구 율곡로 221-12 1층 (이화동)           4.6   \n",
       "74             헤이스윗         서울 종로구 동숭2길 3-4 1층 (동숭동)           4.5   \n",
       "\n",
       "    Review_counts  \n",
       "0           223.0  \n",
       "1           204.0  \n",
       "2           139.0  \n",
       "3           109.0  \n",
       "4           605.0  \n",
       "..            ...  \n",
       "70            7.0  \n",
       "71            2.0  \n",
       "72            6.0  \n",
       "73           14.0  \n",
       "74           20.0  \n",
       "\n",
       "[75 rows x 4 columns]"
      ]
     },
     "execution_count": 117,
     "metadata": {},
     "output_type": "execute_result"
    }
   ],
   "source": [
    "kakao"
   ]
  },
  {
   "cell_type": "code",
   "execution_count": 115,
   "metadata": {},
   "outputs": [
    {
     "data": {
      "text/html": [
       "<div>\n",
       "<style scoped>\n",
       "    .dataframe tbody tr th:only-of-type {\n",
       "        vertical-align: middle;\n",
       "    }\n",
       "\n",
       "    .dataframe tbody tr th {\n",
       "        vertical-align: top;\n",
       "    }\n",
       "\n",
       "    .dataframe thead th {\n",
       "        text-align: right;\n",
       "    }\n",
       "</style>\n",
       "<table border=\"1\" class=\"dataframe\">\n",
       "  <thead>\n",
       "    <tr style=\"text-align: right;\">\n",
       "      <th></th>\n",
       "      <th>Store</th>\n",
       "      <th>Adddress</th>\n",
       "      <th>Review_score</th>\n",
       "      <th>Review_counts</th>\n",
       "    </tr>\n",
       "  </thead>\n",
       "  <tbody>\n",
       "    <tr>\n",
       "      <th>47</th>\n",
       "      <td>파리바게뜨 경복궁역점</td>\n",
       "      <td>서울 종로구 자하문로 5 (체부동)</td>\n",
       "      <td>NaN</td>\n",
       "      <td>NaN</td>\n",
       "    </tr>\n",
       "    <tr>\n",
       "      <th>69</th>\n",
       "      <td>뚜레쥬르 광화문경희궁의아침점</td>\n",
       "      <td>서울 종로구 사직로8길 34 경희궁의아침3단지상가 1층 103,104,129,130...</td>\n",
       "      <td>NaN</td>\n",
       "      <td>NaN</td>\n",
       "    </tr>\n",
       "  </tbody>\n",
       "</table>\n",
       "</div>"
      ],
      "text/plain": [
       "              Store                                           Adddress  \\\n",
       "47      파리바게뜨 경복궁역점                                서울 종로구 자하문로 5 (체부동)   \n",
       "69  뚜레쥬르 광화문경희궁의아침점  서울 종로구 사직로8길 34 경희궁의아침3단지상가 1층 103,104,129,130...   \n",
       "\n",
       "    Review_score  Review_counts  \n",
       "47           NaN            NaN  \n",
       "69           NaN            NaN  "
      ]
     },
     "execution_count": 115,
     "metadata": {},
     "output_type": "execute_result"
    }
   ],
   "source": [
    "kakao[kakao['Review_score'].isna()]"
   ]
  },
  {
   "cell_type": "code",
   "execution_count": 111,
   "metadata": {},
   "outputs": [],
   "source": [
    "# Review_score 시리즈의 데이터 유형을 float64로 변경\n",
    "kakao['Review_score'] = kakao['Review_score'].astype(float)"
   ]
  },
  {
   "cell_type": "code",
   "execution_count": 112,
   "metadata": {},
   "outputs": [
    {
     "name": "stdout",
     "output_type": "stream",
     "text": [
      "<class 'pandas.core.frame.DataFrame'>\n",
      "RangeIndex: 75 entries, 0 to 74\n",
      "Data columns (total 4 columns):\n",
      " #   Column         Non-Null Count  Dtype  \n",
      "---  ------         --------------  -----  \n",
      " 0   Store          75 non-null     object \n",
      " 1   Adddress       75 non-null     object \n",
      " 2   Review_score   73 non-null     float64\n",
      " 3   Review_counts  73 non-null     float64\n",
      "dtypes: float64(2), object(2)\n",
      "memory usage: 2.5+ KB\n"
     ]
    }
   ],
   "source": [
    "kakao.info()"
   ]
  },
  {
   "cell_type": "markdown",
   "metadata": {},
   "source": [
    "### 해당 가게의 모든 리뷰 크롤링"
   ]
  },
  {
   "cell_type": "code",
   "execution_count": 116,
   "metadata": {},
   "outputs": [],
   "source": [
    "# 가게 이름 누르기\n",
    "driver.find_element(By.XPATH, f'//*[@id=\"placeList\"]/li[1]/a[1]/span[2]/span[1]/strong').click()\n",
    "\n",
    "# # 크롤링\n",
    "# def review_def(url):\n",
    "#     return driver.find_element(By.XPATH, url).text \n",
    "\n",
    "# # 가게 이름\n",
    "# store = find_text('//*[@id=\"mArticle\"]/div[1]/div/div[1]/h2')\n",
    "# # 후기 점수\n",
    "# review_point = find_text('//*[@id=\"mArticle\"]/div[1]/div/div[1]/div[1]/a[1]/span[1]/span[1]')\n",
    "# # 후기 갯수\n",
    "# review_count = find_text('//*[@id=\"mArticle\"]/div[1]/div/div[1]/div[1]/a[1]/span[2]/span[1]')\n",
    "# # 주소\n",
    "# address = find_text('//*[@id=\"mArticle\"]/div[2]/div/div[1]/div/span[1]')"
   ]
  },
  {
   "cell_type": "code",
   "execution_count": null,
   "metadata": {},
   "outputs": [],
   "source": []
  },
  {
   "cell_type": "code",
   "execution_count": 69,
   "metadata": {},
   "outputs": [],
   "source": [
    "# 스크롤 아래로 내리기기\n",
    "driver.execute_script(\"window.scrollTo(0, document.body.scrollHeight);\")\n",
    "time.sleep(1)\n",
    "\n",
    "#다음 더보기 누르기\n",
    "driver.find_element(By.XPATH, '//*[@id=\"daumContent\"]/div[4]/div[2]/div[3]/a').click()"
   ]
  },
  {
   "cell_type": "code",
   "execution_count": 72,
   "metadata": {},
   "outputs": [],
   "source": [
    "# 더보기 버튼을 누를 수 있는지 여부 확인하는 함수\n",
    "def can_click_load_more_button():\n",
    "    try:\n",
    "        load_more_button = driver.find_element(By.XPATH, '//*[@id=\"daumContent\"]/div[4]/div[2]/div[3]/a')  # 더보기 버튼의 XPATH\n",
    "        return load_more_button.is_enabled() and load_more_button.is_displayed()\n",
    "    except:\n",
    "        return False\n",
    "\n",
    "# 더보기 버튼 클릭 함수\n",
    "def click_load_more_button():\n",
    "    load_more_button = driver.find_element(By.XPATH, '//*[@id=\"daumContent\"]/div[4]/div[2]/div[3]/a')  # 더보기 버튼의 XPATH\n",
    "    load_more_button.click()\n",
    "    time.sleep(3)  # 버튼을 클릭한 후에 충분한 시간 대기 (페이지가 로딩될 때까지)\n",
    "\n",
    "# 더보기 버튼을 누를 수 없을 때까지 반복해서 클릭\n",
    "while can_click_load_more_button():\n",
    "    click_load_more_button()"
   ]
  },
  {
   "cell_type": "code",
   "execution_count": null,
   "metadata": {},
   "outputs": [],
   "source": [
    "# 페이지에 표시된 정보의 갯수 확인\n",
    "all_results = driver.find_elements(By.XPATH, '//*[@id=\"placeList\"]/li')\n",
    "print(\"페이지에 표시된 정보의 갯수:\", len(all_results))"
   ]
  },
  {
   "cell_type": "markdown",
   "metadata": {},
   "source": [
    "정보의 수\n",
    "1번 정보\n",
    "//*[@id=\"placeList\"]/li[1]\n",
    "2번 정보\n",
    "//*[@id=\"placeList\"]/li[2]\n",
    "3번 정보\n",
    "//*[@id=\"placeList\"]/li[3]"
   ]
  },
  {
   "cell_type": "code",
   "execution_count": 68,
   "metadata": {},
   "outputs": [
    {
     "data": {
      "text/plain": [
       "['서울 종로구 필운대로5가길 31 (누하동)',\n",
       " '서울 종로구 창의문로 149 1층 (부암동)',\n",
       " '서울 종로구 필운대로 54 (통인동)',\n",
       " '서울 종로구 청계천로 201 1~3층 (예지동)',\n",
       " '서울 종로구 북촌로4길 20 연화빌딩 1층 (계동)',\n",
       " '서울 종로구 동숭길 36 1층 101호 (동숭동)',\n",
       " '서울 종로구 북촌로1길 30-11 지하1층 (안국동)',\n",
       " '서울 종로구 율곡로3길 75 1층 (소격동)',\n",
       " '서울 종로구 율곡로 51 1층 (안국동)',\n",
       " '서울 종로구 수표로28길 21-17 1층 (익선동)',\n",
       " '서울 종로구 삼일대로32가길 29-1 (익선동)',\n",
       " '서울 종로구 창경궁로 236 이화빌딩 1층 (명륜4가)',\n",
       " '서울 종로구 율곡로 45 1층 (안국동)',\n",
       " '서울 종로구 돈화문로11가길 59 현대뜨레비앙 1층 111호 (익선동)',\n",
       " '서울 종로구 성균관로1길 6-6 (명륜3가)']"
      ]
     },
     "execution_count": 68,
     "metadata": {},
     "output_type": "execute_result"
    }
   ],
   "source": [
    "address"
   ]
  },
  {
   "cell_type": "code",
   "execution_count": 50,
   "metadata": {},
   "outputs": [],
   "source": [
    "# 크롤링\n",
    "def find_text(url):\n",
    "    return driver.find_element(By.XPATH, url).text \n",
    "\n",
    "# 가게 이름\n",
    "store = find_text('//*[@id=\"mArticle\"]/div[1]/div/div[1]/h2')\n",
    "# 후기 점수\n",
    "review_point = find_text('//*[@id=\"mArticle\"]/div[1]/div/div[1]/div[1]/a[1]/span[1]/span[1]')\n",
    "# 후기 갯수\n",
    "review_count = find_text('//*[@id=\"mArticle\"]/div[1]/div/div[1]/div[1]/a[1]/span[2]/span[1]')\n",
    "# 주소\n",
    "address = find_text('//*[@id=\"mArticle\"]/div[2]/div/div[1]/div/span[1]')"
   ]
  }
 ],
 "metadata": {
  "kernelspec": {
   "display_name": "Python 3",
   "language": "python",
   "name": "python3"
  },
  "language_info": {
   "codemirror_mode": {
    "name": "ipython",
    "version": 3
   },
   "file_extension": ".py",
   "mimetype": "text/x-python",
   "name": "python",
   "nbconvert_exporter": "python",
   "pygments_lexer": "ipython3",
   "version": "3.12.1"
  }
 },
 "nbformat": 4,
 "nbformat_minor": 2
}
