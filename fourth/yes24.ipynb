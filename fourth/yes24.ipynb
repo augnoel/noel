{
 "cells": [
  {
   "cell_type": "code",
   "execution_count": 2,
   "metadata": {},
   "outputs": [],
   "source": [
    "#코드 실행 중에 진행 상황을 시각적으로 표시해주는 라이브러리 - 프로세스바\n",
    "from tqdm import tqdm\n",
    "import time\n",
    "\n",
    "# 셀레니움\n",
    "from selenium.webdriver.common.by import By\n",
    "from selenium import webdriver \n",
    "\n",
    "import pandas as pd\n",
    "\n",
    "import re\n",
    "\n",
    "import numpy as np"
   ]
  },
  {
   "cell_type": "code",
   "execution_count": 6,
   "metadata": {},
   "outputs": [],
   "source": [
    "#창 열기\n",
    "driver = webdriver.Chrome() \n",
    "url = 'https://www.yes24.com/Product/Category/MonthWeekBestSeller?categoryNumber=001&pageNumber=1&pageSize=100&type=month'\n",
    "driver.get(url)\n",
    "\n",
    "#배너 끄기\n",
    "driver.find_element(By.XPATH, '//*[@id=\"divYes24SCMEvent\"]/div[2]/div[2]/a/em').click()\n",
    "\n",
    "rree = pd.DataFrame()\n",
    "\n",
    "#crawling\n",
    "def find_text_list(url):\n",
    "    text_list = driver.find_elements(By.XPATH, url)\n",
    "    return [i.text for i in text_list]\n",
    "\n",
    "#길이 맞추기\n",
    "def align_data_and_index(data, index):\n",
    "    if len(data) > len(index):\n",
    "        # 데이터의 길이가 인덱스의 길이보다 길면 인덱스를 늘립니다\n",
    "        while len(index) < len(data):\n",
    "            index.append(None)  # 인덱스를 늘릴 때 None 값을 추가합니다\n",
    "    elif len(data) < len(index):\n",
    "        # 데이터의 길이가 인덱스의 길이보다 짧으면 데이터를 확장합니다\n",
    "        while len(data) < len(index):\n",
    "            data.append(None)  # 데이터를 확장할 때 None 값을 추가합니다\n",
    "    return data, index\n",
    "\n",
    "#페이지 바꾸기\n",
    "def change(url):\n",
    "    driver.get(url)"
   ]
  },
  {
   "cell_type": "markdown",
   "metadata": {},
   "source": [
    "키워드\n",
    "//*[@id=\"yesBestList\"]/li[1]/div/div[2]/div[7]\n",
    "//*[@id=\"yesBestList\"]/li[2]/div/div[2]/div[8]\n",
    "//*[@id=\"yesBestList\"]/li[99]/div/div[2]/div[7]\n",
    "//*[@id=\"yesBestList\"]/li[100]/div/div[2]/div[7]\n",
    "공통\n",
    "//*[@id=\"yesBestList\"]/li/div/div[2]/div"
   ]
  },
  {
   "cell_type": "code",
   "execution_count": 11,
   "metadata": {},
   "outputs": [],
   "source": [
    "title = find_text_list('//*[@id=\"yesBestList\"]/li/div/div[2]/div[2]/a[1]')\n",
    "kw = find_text_list('//*[@id=\"yesBestList\"]/li/div/div[2]/div[8]')\n",
    "\n",
    "title, _ = align_data_and_index(title, kw)\n",
    "kw, _ = align_data_and_index(kw, title)\n",
    "\n",
    "gh = pd.DataFrame()\n",
    "gh['Title'] = title\n",
    "gh['kw'] = kw\n",
    "\n",
    "rree = pd.concat([rree, gh], ignore_index = True)"
   ]
  },
  {
   "cell_type": "code",
   "execution_count": 14,
   "metadata": {},
   "outputs": [
    {
     "data": {
      "text/html": [
       "<div>\n",
       "<style scoped>\n",
       "    .dataframe tbody tr th:only-of-type {\n",
       "        vertical-align: middle;\n",
       "    }\n",
       "\n",
       "    .dataframe tbody tr th {\n",
       "        vertical-align: top;\n",
       "    }\n",
       "\n",
       "    .dataframe thead th {\n",
       "        text-align: right;\n",
       "    }\n",
       "</style>\n",
       "<table border=\"1\" class=\"dataframe\">\n",
       "  <thead>\n",
       "    <tr style=\"text-align: right;\">\n",
       "      <th></th>\n",
       "      <th>Title</th>\n",
       "      <th>kw</th>\n",
       "    </tr>\n",
       "  </thead>\n",
       "  <tbody>\n",
       "    <tr>\n",
       "      <th>0</th>\n",
       "      <td>마흔에 읽는 쇼펜하우어</td>\n",
       "      <td>마흔에 읽는 서양 고전</td>\n",
       "    </tr>\n",
       "    <tr>\n",
       "      <th>1</th>\n",
       "      <td>세이노의 가르침</td>\n",
       "      <td>[도서] 마흔에 읽는 쇼펜하우어 마음의 위기를 다스리는 철학 수업 마흔에 읽는 쇼펜...</td>\n",
       "    </tr>\n",
       "    <tr>\n",
       "      <th>2</th>\n",
       "      <td>나는 메트로폴리탄 미술관의 경비원입니다</td>\n",
       "      <td>강용수 저 유노북스 2023년 09월</td>\n",
       "    </tr>\n",
       "    <tr>\n",
       "      <th>3</th>\n",
       "      <td>ETS 토익 정기시험 기출문제집 1000 Vol. 4 RC</td>\n",
       "      <td>10%\\n15,300원\\n포인트적립850원</td>\n",
       "    </tr>\n",
       "    <tr>\n",
       "      <th>4</th>\n",
       "      <td>이처럼 사소한 것들</td>\n",
       "      <td>판매지수 861,006 회원리뷰(355건) 리뷰 총점8.8 정보 더 보기/감추기</td>\n",
       "    </tr>\n",
       "    <tr>\n",
       "      <th>...</th>\n",
       "      <td>...</td>\n",
       "      <td>...</td>\n",
       "    </tr>\n",
       "    <tr>\n",
       "      <th>95</th>\n",
       "      <td>조용헌의 내공</td>\n",
       "      <td>설민석, 스토리박스 글/정현희 그림/강석화 감수 단꿈아이 2024년 02월</td>\n",
       "    </tr>\n",
       "    <tr>\n",
       "      <th>96</th>\n",
       "      <td>트렌드 코리아 2024</td>\n",
       "      <td>10%\\n11,700원\\n포인트적립650원</td>\n",
       "    </tr>\n",
       "    <tr>\n",
       "      <th>97</th>\n",
       "      <td>벌써 마흔이 된 딸에게</td>\n",
       "      <td>판매지수 73,260 회원리뷰(91건) 리뷰 총점10.0 정보 더 보기/감추기</td>\n",
       "    </tr>\n",
       "    <tr>\n",
       "      <th>98</th>\n",
       "      <td>오래된 미래</td>\n",
       "      <td>18시까지 주문하면 내일 아침 7시 전(3/8, 금) 도착예정</td>\n",
       "    </tr>\n",
       "    <tr>\n",
       "      <th>99</th>\n",
       "      <td>깡통 소년</td>\n",
       "      <td></td>\n",
       "    </tr>\n",
       "  </tbody>\n",
       "</table>\n",
       "<p>100 rows × 2 columns</p>\n",
       "</div>"
      ],
      "text/plain": [
       "                               Title  \\\n",
       "0                       마흔에 읽는 쇼펜하우어   \n",
       "1                           세이노의 가르침   \n",
       "2              나는 메트로폴리탄 미술관의 경비원입니다   \n",
       "3   ETS 토익 정기시험 기출문제집 1000 Vol. 4 RC   \n",
       "4                         이처럼 사소한 것들   \n",
       "..                               ...   \n",
       "95                           조용헌의 내공   \n",
       "96                      트렌드 코리아 2024   \n",
       "97                      벌써 마흔이 된 딸에게   \n",
       "98                            오래된 미래   \n",
       "99                             깡통 소년   \n",
       "\n",
       "                                                   kw  \n",
       "0                                        마흔에 읽는 서양 고전  \n",
       "1   [도서] 마흔에 읽는 쇼펜하우어 마음의 위기를 다스리는 철학 수업 마흔에 읽는 쇼펜...  \n",
       "2                                강용수 저 유노북스 2023년 09월  \n",
       "3                             10%\\n15,300원\\n포인트적립850원  \n",
       "4        판매지수 861,006 회원리뷰(355건) 리뷰 총점8.8 정보 더 보기/감추기  \n",
       "..                                                ...  \n",
       "95          설민석, 스토리박스 글/정현희 그림/강석화 감수 단꿈아이 2024년 02월  \n",
       "96                            10%\\n11,700원\\n포인트적립650원  \n",
       "97        판매지수 73,260 회원리뷰(91건) 리뷰 총점10.0 정보 더 보기/감추기  \n",
       "98                 18시까지 주문하면 내일 아침 7시 전(3/8, 금) 도착예정  \n",
       "99                                                     \n",
       "\n",
       "[100 rows x 2 columns]"
      ]
     },
     "execution_count": 14,
     "metadata": {},
     "output_type": "execute_result"
    }
   ],
   "source": [
    "rree.iloc[:100, :]"
   ]
  },
  {
   "cell_type": "code",
   "execution_count": 4,
   "metadata": {},
   "outputs": [
    {
     "ename": "NameError",
     "evalue": "name 'zxc2' is not defined",
     "output_type": "error",
     "traceback": [
      "\u001b[1;31m---------------------------------------------------------------------------\u001b[0m",
      "\u001b[1;31mNameError\u001b[0m                                 Traceback (most recent call last)",
      "Cell \u001b[1;32mIn[4], line 1\u001b[0m\n\u001b[1;32m----> 1\u001b[0m \u001b[43mzxc2\u001b[49m\u001b[38;5;241m.\u001b[39minfo()\n",
      "\u001b[1;31mNameError\u001b[0m: name 'zxc2' is not defined"
     ]
    }
   ],
   "source": [
    "zxc2.info()"
   ]
  },
  {
   "cell_type": "markdown",
   "metadata": {},
   "source": [
    "3월 1주\n",
    "https://www.yes24.com/Product/Category/MonthWeekBestSeller?categoryNumber=001&pageNumber=1&pageSize=100&type=month\n",
    "2402\n",
    "https://www.yes24.com/Product/Category/MonthWeekBestSeller?categoryNumber=001&pageNumber=1&pageSize=100&type=month&saleYear=2024&saleMonth=2\n",
    "2401\n",
    "https://www.yes24.com/Product/Category/MonthWeekBestSeller?categoryNumber=001&pageNumber=1&pageSize=100&type=month&saleYear=2024&saleMonth=1\n",
    "2301\n",
    "https://www.yes24.com/Product/Category/MonthWeekBestSeller?categoryNumber=001&pageNumber=1&pageSize=100&type=month&saleYear=2023&saleMonth=1\n",
    "2312\n",
    "https://www.yes24.com/Product/Category/MonthWeekBestSeller?categoryNumber=001&pageNumber=1&pageSize=100&type=month&saleYear=2023&saleMonth=12\n",
    "\n",
    "공통\n",
    "https://www.yes24.com/Product/Category/MonthWeekBestSeller?categoryNumber=001&pageNumber=1&pageSize=100&type=month&saleYear=2023&saleMonth={j}\n",
    "https://www.yes24.com/Product/Category/MonthWeekBestSeller?categoryNumber=001&pageNumber=1&pageSize=100&type=month&saleYear=2024&saleMonth={i}"
   ]
  },
  {
   "cell_type": "code",
   "execution_count": 12,
   "metadata": {},
   "outputs": [
    {
     "name": "stderr",
     "output_type": "stream",
     "text": [
      "  0%|          | 0/3 [00:00<?, ?it/s]"
     ]
    },
    {
     "name": "stderr",
     "output_type": "stream",
     "text": [
      " 67%|██████▋   | 2/3 [02:58<01:29, 89.27s/it]\n"
     ]
    }
   ],
   "source": [
    "#2024\n",
    "for i in tqdm(range(1, 4)):\n",
    "    #2024 페이지 열기기\n",
    "    change(f'https://www.yes24.com/Product/Category/MonthWeekBestSeller?categoryNumber=001&pageNumber=1&pageSize=100&type=month&saleYear=2024&saleMonth={i}')\n",
    "    if i == 3:   #'월'에 3이 들어가면 정지\n",
    "        break\n",
    "    else:   #월이 1, 2이면 crawling\n",
    "        for z in range(3, 7):   #시간랜덤 지정정\n",
    "            time.sleep(5)\n",
    "            title = find_text_list('//*[@id=\"yesBestList\"]/li/div/div[2]/div[2]/a[1]')\n",
    "            author = find_text_list('//*[@id=\"yesBestList\"]/li/div/div[2]/div[3]/span[1]')\n",
    "            publisher = find_text_list('//*[@id=\"yesBestList\"]/li/div/div[2]/div[3]/span[2]/a')\n",
    "            review_score = find_text_list('//*[@id=\"yesBestList\"]/li/div/div[2]/div[5]/span[3]/em')\n",
    "\n",
    "            #길이 맞추기\n",
    "            title, _ = align_data_and_index(title, author)\n",
    "            author, _ = align_data_and_index(author, title)\n",
    "            publisher, _ = align_data_and_index(publisher, title)\n",
    "            review_score, _ = align_data_and_index(review_score, title)\n",
    "            \n",
    "            ult = pd.DataFrame()\n",
    "\n",
    "            ult['Title'] = title\n",
    "            ult['Author'] = author\n",
    "            ult['Publisher'] = publisher\n",
    "            ult['Review_score'] = review_score\n",
    "\n",
    "            #ignore_index = True으로 기존 인덱스 무시하고 새롭게 설정\n",
    "            qwe = pd.concat([qwe, ult], ignore_index = True)\n",
    "\n",
    "            time.sleep(z)\n",
    "                    \n",
    "            #스크롤 내리기\n",
    "            #driver.execute_script(\"window.scrollTo(0, document.body.scrollHeight);\")       \n",
    "            # time.sleep(3)\n",
    "            #페이지 넘기기\n",
    "            #2023\n",
    "            #change(f'https://www.yes24.com/Product/Category/MonthWeekBestSeller?categoryNumber=001&pageNumber=1&pageSize=100&type=month&saleYear=2023&saleMonth={i}')\n",
    "            #2024\n",
    "            #change(f'https://www.yes24.com/Product/Category/MonthWeekBestSeller?categoryNumber=001&pageNumber=1&pageSize=100&type=month&saleYear=2024&saleMonth={i}')"
   ]
  },
  {
   "cell_type": "code",
   "execution_count": 20,
   "metadata": {},
   "outputs": [
    {
     "name": "stdout",
     "output_type": "stream",
     "text": [
      "<class 'pandas.core.frame.DataFrame'>\n",
      "RangeIndex: 100 entries, 100 to 199\n",
      "Data columns (total 4 columns):\n",
      " #   Column        Non-Null Count  Dtype \n",
      "---  ------        --------------  ----- \n",
      " 0   Title         100 non-null    object\n",
      " 1   Author        100 non-null    object\n",
      " 2   Publisher     100 non-null    object\n",
      " 3   Review_score  100 non-null    object\n",
      "dtypes: object(4)\n",
      "memory usage: 3.3+ KB\n"
     ]
    }
   ],
   "source": [
    "qwe202401 = qwe.iloc[100:200, :]\n",
    "qwe202401.info()"
   ]
  },
  {
   "cell_type": "code",
   "execution_count": 27,
   "metadata": {},
   "outputs": [
    {
     "data": {
      "text/html": [
       "<div>\n",
       "<style scoped>\n",
       "    .dataframe tbody tr th:only-of-type {\n",
       "        vertical-align: middle;\n",
       "    }\n",
       "\n",
       "    .dataframe tbody tr th {\n",
       "        vertical-align: top;\n",
       "    }\n",
       "\n",
       "    .dataframe thead th {\n",
       "        text-align: right;\n",
       "    }\n",
       "</style>\n",
       "<table border=\"1\" class=\"dataframe\">\n",
       "  <thead>\n",
       "    <tr style=\"text-align: right;\">\n",
       "      <th></th>\n",
       "      <th>Title</th>\n",
       "      <th>Author</th>\n",
       "      <th>Publisher</th>\n",
       "      <th>Review_score</th>\n",
       "    </tr>\n",
       "  </thead>\n",
       "  <tbody>\n",
       "    <tr>\n",
       "      <th>595</th>\n",
       "      <td>흔한남매 과학 탐험대 0 과학의 기초</td>\n",
       "      <td>흔한남매 원저/김언정, 이현진 글/김덕영 그림/최진수 감수 외 3명 정보 더 보기/감추기</td>\n",
       "      <td>주니어김영사</td>\n",
       "      <td>9.8</td>\n",
       "    </tr>\n",
       "    <tr>\n",
       "      <th>596</th>\n",
       "      <td>내 몸 혁명</td>\n",
       "      <td>박용우 저</td>\n",
       "      <td>루미너스</td>\n",
       "      <td>9.8</td>\n",
       "    </tr>\n",
       "    <tr>\n",
       "      <th>597</th>\n",
       "      <td>내가 원하는 곳에 나를 데려가라</td>\n",
       "      <td>네빌 고다드 저/김은영 역</td>\n",
       "      <td>터닝페이지</td>\n",
       "      <td>9.4</td>\n",
       "    </tr>\n",
       "    <tr>\n",
       "      <th>598</th>\n",
       "      <td>뿐이 토핑 이유식</td>\n",
       "      <td>정주희 저/이수진 감수</td>\n",
       "      <td>서사원</td>\n",
       "      <td>9.4</td>\n",
       "    </tr>\n",
       "    <tr>\n",
       "      <th>599</th>\n",
       "      <td>아주 작은 습관의 힘</td>\n",
       "      <td>제임스 클리어 저/이한이 역</td>\n",
       "      <td>비즈니스북스</td>\n",
       "      <td>None</td>\n",
       "    </tr>\n",
       "  </tbody>\n",
       "</table>\n",
       "</div>"
      ],
      "text/plain": [
       "                    Title                                             Author  \\\n",
       "595  흔한남매 과학 탐험대 0 과학의 기초  흔한남매 원저/김언정, 이현진 글/김덕영 그림/최진수 감수 외 3명 정보 더 보기/감추기   \n",
       "596                내 몸 혁명                                              박용우 저   \n",
       "597     내가 원하는 곳에 나를 데려가라                                     네빌 고다드 저/김은영 역   \n",
       "598             뿐이 토핑 이유식                                       정주희 저/이수진 감수   \n",
       "599           아주 작은 습관의 힘                                    제임스 클리어 저/이한이 역   \n",
       "\n",
       "    Publisher Review_score  \n",
       "595    주니어김영사          9.8  \n",
       "596      루미너스          9.8  \n",
       "597     터닝페이지          9.4  \n",
       "598       서사원          9.4  \n",
       "599    비즈니스북스         None  "
      ]
     },
     "execution_count": 27,
     "metadata": {},
     "output_type": "execute_result"
    }
   ],
   "source": [
    "qwe202402 = qwe.iloc[500:600, :]\n",
    "qwe202402.tail()"
   ]
  },
  {
   "cell_type": "code",
   "execution_count": 74,
   "metadata": {},
   "outputs": [
    {
     "name": "stdout",
     "output_type": "stream",
     "text": [
      "<class 'pandas.core.frame.DataFrame'>\n",
      "Index: 200 entries, 100 to 599\n",
      "Data columns (total 4 columns):\n",
      " #   Column        Non-Null Count  Dtype \n",
      "---  ------        --------------  ----- \n",
      " 0   Title         200 non-null    object\n",
      " 1   Author        200 non-null    object\n",
      " 2   Publisher     200 non-null    object\n",
      " 3   Review_score  199 non-null    object\n",
      "dtypes: object(4)\n",
      "memory usage: 7.8+ KB\n"
     ]
    }
   ],
   "source": [
    "yes2024 = pd.concat([qwe202401, qwe202402], axis=0)\n",
    "yes2024.info()"
   ]
  },
  {
   "cell_type": "markdown",
   "metadata": {},
   "source": [
    "zxc : 202303 - 202305\n",
    "zxc2 : 202306 - 202309\n",
    "zxc3 = 202310 - 202312"
   ]
  },
  {
   "cell_type": "code",
   "execution_count": 40,
   "metadata": {},
   "outputs": [
    {
     "name": "stderr",
     "output_type": "stream",
     "text": [
      "100%|██████████| 3/3 [02:46<00:00, 55.51s/it]\n"
     ]
    }
   ],
   "source": [
    "#2023\n",
    "for i in tqdm(range(10, 13)):\n",
    "    #2024 페이지 열기기\n",
    "    change(f'https://www.yes24.com/Product/Category/MonthWeekBestSeller?categoryNumber=001&pageNumber=1&pageSize=100&type=month&saleYear=2023&saleMonth={i}')\n",
    "    if i == 13:   #'월'에 3이 들어가면 정지\n",
    "        break\n",
    "    else:   #12월 까지이면 crawling\n",
    "        for z in range(1, 5):   #시간랜덤 지정정\n",
    "            time.sleep(z)\n",
    "            title = find_text_list('//*[@id=\"yesBestList\"]/li/div/div[2]/div[2]/a[1]')\n",
    "            author = find_text_list('//*[@id=\"yesBestList\"]/li/div/div[2]/div[3]/span[1]')\n",
    "            publisher = find_text_list('//*[@id=\"yesBestList\"]/li/div/div[2]/div[3]/span[2]/a')\n",
    "            review_score = find_text_list('//*[@id=\"yesBestList\"]/li/div/div[2]/div[5]/span[3]/em')\n",
    "\n",
    "            #길이 맞추기\n",
    "            title, _ = align_data_and_index(title, author)\n",
    "            author, _ = align_data_and_index(author, title)\n",
    "            publisher, _ = align_data_and_index(publisher, title)\n",
    "            review_score, _ = align_data_and_index(review_score, title)\n",
    "            \n",
    "            sdf3 = pd.DataFrame()\n",
    "\n",
    "            sdf3['Title'] = title\n",
    "            sdf3['Author'] = author\n",
    "            sdf3['Publisher'] = publisher\n",
    "            sdf3['Review_score'] = review_score\n",
    "\n",
    "            #ignore_index = True으로 기존 인덱스 무시하고 새롭게 설정\n",
    "            zxc3 = pd.concat([zxc3, sdf3], ignore_index = True)"
   ]
  },
  {
   "cell_type": "code",
   "execution_count": 32,
   "metadata": {},
   "outputs": [
    {
     "name": "stdout",
     "output_type": "stream",
     "text": [
      "<class 'pandas.core.frame.DataFrame'>\n",
      "RangeIndex: 1200 entries, 0 to 1199\n",
      "Data columns (total 4 columns):\n",
      " #   Column        Non-Null Count  Dtype \n",
      "---  ------        --------------  ----- \n",
      " 0   Title         1200 non-null   object\n",
      " 1   Author        1200 non-null   object\n",
      " 2   Publisher     1200 non-null   object\n",
      " 3   Review_score  1200 non-null   object\n",
      "dtypes: object(4)\n",
      "memory usage: 37.6+ KB\n"
     ]
    }
   ],
   "source": [
    "zxc.info()"
   ]
  },
  {
   "cell_type": "code",
   "execution_count": 43,
   "metadata": {},
   "outputs": [
    {
     "name": "stdout",
     "output_type": "stream",
     "text": [
      "<class 'pandas.core.frame.DataFrame'>\n",
      "RangeIndex: 100 entries, 200 to 299\n",
      "Data columns (total 4 columns):\n",
      " #   Column        Non-Null Count  Dtype \n",
      "---  ------        --------------  ----- \n",
      " 0   Title         100 non-null    object\n",
      " 1   Author        100 non-null    object\n",
      " 2   Publisher     100 non-null    object\n",
      " 3   Review_score  100 non-null    object\n",
      "dtypes: object(4)\n",
      "memory usage: 3.3+ KB\n"
     ]
    }
   ],
   "source": [
    "zxc202303 = zxc.iloc[200:300, :]\n",
    "zxc202303.info()"
   ]
  },
  {
   "cell_type": "code",
   "execution_count": 46,
   "metadata": {},
   "outputs": [
    {
     "name": "stdout",
     "output_type": "stream",
     "text": [
      "<class 'pandas.core.frame.DataFrame'>\n",
      "RangeIndex: 100 entries, 500 to 599\n",
      "Data columns (total 4 columns):\n",
      " #   Column        Non-Null Count  Dtype \n",
      "---  ------        --------------  ----- \n",
      " 0   Title         100 non-null    object\n",
      " 1   Author        100 non-null    object\n",
      " 2   Publisher     100 non-null    object\n",
      " 3   Review_score  100 non-null    object\n",
      "dtypes: object(4)\n",
      "memory usage: 3.3+ KB\n"
     ]
    }
   ],
   "source": [
    "zxc202304 = zxc.iloc[500:600, :]\n",
    "zxc202304.info()"
   ]
  },
  {
   "cell_type": "code",
   "execution_count": 49,
   "metadata": {},
   "outputs": [
    {
     "name": "stdout",
     "output_type": "stream",
     "text": [
      "<class 'pandas.core.frame.DataFrame'>\n",
      "RangeIndex: 100 entries, 1000 to 1099\n",
      "Data columns (total 4 columns):\n",
      " #   Column        Non-Null Count  Dtype \n",
      "---  ------        --------------  ----- \n",
      " 0   Title         100 non-null    object\n",
      " 1   Author        100 non-null    object\n",
      " 2   Publisher     100 non-null    object\n",
      " 3   Review_score  100 non-null    object\n",
      "dtypes: object(4)\n",
      "memory usage: 3.3+ KB\n"
     ]
    }
   ],
   "source": [
    "zxc202305 = zxc.iloc[1000:1100, :]\n",
    "zxc202305.info()"
   ]
  },
  {
   "cell_type": "code",
   "execution_count": 50,
   "metadata": {},
   "outputs": [
    {
     "name": "stdout",
     "output_type": "stream",
     "text": [
      "<class 'pandas.core.frame.DataFrame'>\n",
      "Index: 300 entries, 200 to 1099\n",
      "Data columns (total 4 columns):\n",
      " #   Column        Non-Null Count  Dtype \n",
      "---  ------        --------------  ----- \n",
      " 0   Title         300 non-null    object\n",
      " 1   Author        300 non-null    object\n",
      " 2   Publisher     300 non-null    object\n",
      " 3   Review_score  300 non-null    object\n",
      "dtypes: object(4)\n",
      "memory usage: 11.7+ KB\n"
     ]
    }
   ],
   "source": [
    "zxc345 = pd.concat([zxc202303, zxc202304, zxc202305], axis=0)\n",
    "zxc345.info()"
   ]
  },
  {
   "cell_type": "code",
   "execution_count": 38,
   "metadata": {},
   "outputs": [
    {
     "name": "stdout",
     "output_type": "stream",
     "text": [
      "<class 'pandas.core.frame.DataFrame'>\n",
      "RangeIndex: 1700 entries, 0 to 1699\n",
      "Data columns (total 4 columns):\n",
      " #   Column        Non-Null Count  Dtype \n",
      "---  ------        --------------  ----- \n",
      " 0   Title         1700 non-null   object\n",
      " 1   Author        1700 non-null   object\n",
      " 2   Publisher     1700 non-null   object\n",
      " 3   Review_score  1700 non-null   object\n",
      "dtypes: object(4)\n",
      "memory usage: 53.3+ KB\n"
     ]
    }
   ],
   "source": [
    "zxc2.info()"
   ]
  },
  {
   "cell_type": "code",
   "execution_count": 52,
   "metadata": {},
   "outputs": [
    {
     "name": "stdout",
     "output_type": "stream",
     "text": [
      "<class 'pandas.core.frame.DataFrame'>\n",
      "RangeIndex: 100 entries, 200 to 299\n",
      "Data columns (total 4 columns):\n",
      " #   Column        Non-Null Count  Dtype \n",
      "---  ------        --------------  ----- \n",
      " 0   Title         100 non-null    object\n",
      " 1   Author        100 non-null    object\n",
      " 2   Publisher     100 non-null    object\n",
      " 3   Review_score  100 non-null    object\n",
      "dtypes: object(4)\n",
      "memory usage: 3.3+ KB\n"
     ]
    }
   ],
   "source": [
    "zxc202306 = zxc2.iloc[200:300, :]\n",
    "zxc202306.info()"
   ]
  },
  {
   "cell_type": "code",
   "execution_count": 54,
   "metadata": {},
   "outputs": [
    {
     "name": "stdout",
     "output_type": "stream",
     "text": [
      "<class 'pandas.core.frame.DataFrame'>\n",
      "RangeIndex: 100 entries, 500 to 599\n",
      "Data columns (total 4 columns):\n",
      " #   Column        Non-Null Count  Dtype \n",
      "---  ------        --------------  ----- \n",
      " 0   Title         100 non-null    object\n",
      " 1   Author        100 non-null    object\n",
      " 2   Publisher     100 non-null    object\n",
      " 3   Review_score  100 non-null    object\n",
      "dtypes: object(4)\n",
      "memory usage: 3.3+ KB\n"
     ]
    }
   ],
   "source": [
    "zxc202307 = zxc2.iloc[500:600, :]\n",
    "zxc202307.info()"
   ]
  },
  {
   "cell_type": "code",
   "execution_count": 57,
   "metadata": {},
   "outputs": [
    {
     "name": "stdout",
     "output_type": "stream",
     "text": [
      "<class 'pandas.core.frame.DataFrame'>\n",
      "RangeIndex: 100 entries, 900 to 999\n",
      "Data columns (total 4 columns):\n",
      " #   Column        Non-Null Count  Dtype \n",
      "---  ------        --------------  ----- \n",
      " 0   Title         100 non-null    object\n",
      " 1   Author        100 non-null    object\n",
      " 2   Publisher     100 non-null    object\n",
      " 3   Review_score  100 non-null    object\n",
      "dtypes: object(4)\n",
      "memory usage: 3.3+ KB\n"
     ]
    }
   ],
   "source": [
    "zxc202308 = zxc2.iloc[900:1000, :]\n",
    "zxc202308.info()"
   ]
  },
  {
   "cell_type": "code",
   "execution_count": 59,
   "metadata": {},
   "outputs": [
    {
     "name": "stdout",
     "output_type": "stream",
     "text": [
      "<class 'pandas.core.frame.DataFrame'>\n",
      "RangeIndex: 100 entries, 1500 to 1599\n",
      "Data columns (total 4 columns):\n",
      " #   Column        Non-Null Count  Dtype \n",
      "---  ------        --------------  ----- \n",
      " 0   Title         100 non-null    object\n",
      " 1   Author        100 non-null    object\n",
      " 2   Publisher     100 non-null    object\n",
      " 3   Review_score  100 non-null    object\n",
      "dtypes: object(4)\n",
      "memory usage: 3.3+ KB\n"
     ]
    }
   ],
   "source": [
    "zxc202309 = zxc2.iloc[1500:1600, :]\n",
    "zxc202309.info()"
   ]
  },
  {
   "cell_type": "code",
   "execution_count": 62,
   "metadata": {},
   "outputs": [
    {
     "name": "stdout",
     "output_type": "stream",
     "text": [
      "<class 'pandas.core.frame.DataFrame'>\n",
      "Index: 400 entries, 200 to 1599\n",
      "Data columns (total 4 columns):\n",
      " #   Column        Non-Null Count  Dtype \n",
      "---  ------        --------------  ----- \n",
      " 0   Title         400 non-null    object\n",
      " 1   Author        400 non-null    object\n",
      " 2   Publisher     400 non-null    object\n",
      " 3   Review_score  400 non-null    object\n",
      "dtypes: object(4)\n",
      "memory usage: 15.6+ KB\n"
     ]
    }
   ],
   "source": [
    "zxc6789 = pd.concat([zxc202306, zxc202307, zxc202308, zxc202309], axis=0)\n",
    "zxc6789.info()"
   ]
  },
  {
   "cell_type": "code",
   "execution_count": 41,
   "metadata": {},
   "outputs": [
    {
     "name": "stdout",
     "output_type": "stream",
     "text": [
      "<class 'pandas.core.frame.DataFrame'>\n",
      "RangeIndex: 1200 entries, 0 to 1199\n",
      "Data columns (total 4 columns):\n",
      " #   Column        Non-Null Count  Dtype \n",
      "---  ------        --------------  ----- \n",
      " 0   Title         1200 non-null   object\n",
      " 1   Author        1200 non-null   object\n",
      " 2   Publisher     1200 non-null   object\n",
      " 3   Review_score  1200 non-null   object\n",
      "dtypes: object(4)\n",
      "memory usage: 37.6+ KB\n"
     ]
    }
   ],
   "source": [
    "zxc3.info()"
   ]
  },
  {
   "cell_type": "code",
   "execution_count": 64,
   "metadata": {},
   "outputs": [
    {
     "name": "stdout",
     "output_type": "stream",
     "text": [
      "<class 'pandas.core.frame.DataFrame'>\n",
      "RangeIndex: 100 entries, 200 to 299\n",
      "Data columns (total 4 columns):\n",
      " #   Column        Non-Null Count  Dtype \n",
      "---  ------        --------------  ----- \n",
      " 0   Title         100 non-null    object\n",
      " 1   Author        100 non-null    object\n",
      " 2   Publisher     100 non-null    object\n",
      " 3   Review_score  100 non-null    object\n",
      "dtypes: object(4)\n",
      "memory usage: 3.3+ KB\n"
     ]
    }
   ],
   "source": [
    "zxc202310 = zxc3.iloc[200:300, :]\n",
    "zxc202310.info()"
   ]
  },
  {
   "cell_type": "code",
   "execution_count": 66,
   "metadata": {},
   "outputs": [
    {
     "name": "stdout",
     "output_type": "stream",
     "text": [
      "<class 'pandas.core.frame.DataFrame'>\n",
      "RangeIndex: 100 entries, 500 to 599\n",
      "Data columns (total 4 columns):\n",
      " #   Column        Non-Null Count  Dtype \n",
      "---  ------        --------------  ----- \n",
      " 0   Title         100 non-null    object\n",
      " 1   Author        100 non-null    object\n",
      " 2   Publisher     100 non-null    object\n",
      " 3   Review_score  100 non-null    object\n",
      "dtypes: object(4)\n",
      "memory usage: 3.3+ KB\n"
     ]
    }
   ],
   "source": [
    "zxc202311 = zxc3.iloc[500:600, :]\n",
    "zxc202311.info()"
   ]
  },
  {
   "cell_type": "code",
   "execution_count": 68,
   "metadata": {},
   "outputs": [
    {
     "name": "stdout",
     "output_type": "stream",
     "text": [
      "<class 'pandas.core.frame.DataFrame'>\n",
      "RangeIndex: 100 entries, 1000 to 1099\n",
      "Data columns (total 4 columns):\n",
      " #   Column        Non-Null Count  Dtype \n",
      "---  ------        --------------  ----- \n",
      " 0   Title         100 non-null    object\n",
      " 1   Author        100 non-null    object\n",
      " 2   Publisher     100 non-null    object\n",
      " 3   Review_score  100 non-null    object\n",
      "dtypes: object(4)\n",
      "memory usage: 3.3+ KB\n"
     ]
    }
   ],
   "source": [
    "zxc202312 = zxc3.iloc[1000:1100, :]\n",
    "zxc202312.info()"
   ]
  },
  {
   "cell_type": "code",
   "execution_count": 69,
   "metadata": {},
   "outputs": [
    {
     "name": "stdout",
     "output_type": "stream",
     "text": [
      "<class 'pandas.core.frame.DataFrame'>\n",
      "Index: 300 entries, 200 to 1099\n",
      "Data columns (total 4 columns):\n",
      " #   Column        Non-Null Count  Dtype \n",
      "---  ------        --------------  ----- \n",
      " 0   Title         300 non-null    object\n",
      " 1   Author        300 non-null    object\n",
      " 2   Publisher     300 non-null    object\n",
      " 3   Review_score  300 non-null    object\n",
      "dtypes: object(4)\n",
      "memory usage: 11.7+ KB\n"
     ]
    }
   ],
   "source": [
    "zxc1012 = pd.concat([zxc202310, zxc202311, zxc202312], axis=0)\n",
    "zxc1012.info()"
   ]
  },
  {
   "cell_type": "code",
   "execution_count": 75,
   "metadata": {},
   "outputs": [
    {
     "name": "stdout",
     "output_type": "stream",
     "text": [
      "<class 'pandas.core.frame.DataFrame'>\n",
      "Index: 1000 entries, 200 to 1099\n",
      "Data columns (total 4 columns):\n",
      " #   Column        Non-Null Count  Dtype \n",
      "---  ------        --------------  ----- \n",
      " 0   Title         1000 non-null   object\n",
      " 1   Author        1000 non-null   object\n",
      " 2   Publisher     1000 non-null   object\n",
      " 3   Review_score  1000 non-null   object\n",
      "dtypes: object(4)\n",
      "memory usage: 39.1+ KB\n"
     ]
    }
   ],
   "source": [
    "yes2023= pd.concat([zxc345, zxc6789, zxc1012], axis=0)\n",
    "yes2023.info()"
   ]
  },
  {
   "cell_type": "code",
   "execution_count": 79,
   "metadata": {},
   "outputs": [
    {
     "name": "stdout",
     "output_type": "stream",
     "text": [
      "<class 'pandas.core.frame.DataFrame'>\n",
      "Index: 1200 entries, 200 to 599\n",
      "Data columns (total 4 columns):\n",
      " #   Column        Non-Null Count  Dtype \n",
      "---  ------        --------------  ----- \n",
      " 0   Title         1200 non-null   object\n",
      " 1   Author        1200 non-null   object\n",
      " 2   Publisher     1200 non-null   object\n",
      " 3   Review_score  1199 non-null   object\n",
      "dtypes: object(4)\n",
      "memory usage: 46.9+ KB\n"
     ]
    }
   ],
   "source": [
    "#202303 ~ 202402까지 topq100\n",
    "yes_total = pd.concat([yes2023, yes2024], axis=0)\n",
    "yes_total.info()"
   ]
  },
  {
   "cell_type": "code",
   "execution_count": 12,
   "metadata": {},
   "outputs": [
    {
     "data": {
      "text/html": [
       "<div>\n",
       "<style scoped>\n",
       "    .dataframe tbody tr th:only-of-type {\n",
       "        vertical-align: middle;\n",
       "    }\n",
       "\n",
       "    .dataframe tbody tr th {\n",
       "        vertical-align: top;\n",
       "    }\n",
       "\n",
       "    .dataframe thead th {\n",
       "        text-align: right;\n",
       "    }\n",
       "</style>\n",
       "<table border=\"1\" class=\"dataframe\">\n",
       "  <thead>\n",
       "    <tr style=\"text-align: right;\">\n",
       "      <th></th>\n",
       "      <th>Title</th>\n",
       "      <th>Author</th>\n",
       "      <th>Publisher</th>\n",
       "      <th>Review_score</th>\n",
       "    </tr>\n",
       "  </thead>\n",
       "  <tbody>\n",
       "    <tr>\n",
       "      <th>300</th>\n",
       "      <td>세이노의 가르침</td>\n",
       "      <td>세이노(SayNo) 저</td>\n",
       "      <td>데이원</td>\n",
       "      <td>9.0</td>\n",
       "    </tr>\n",
       "    <tr>\n",
       "      <th>301</th>\n",
       "      <td>문과 남자의 과학 공부</td>\n",
       "      <td>유시민 저</td>\n",
       "      <td>돌베개</td>\n",
       "      <td>9.3</td>\n",
       "    </tr>\n",
       "    <tr>\n",
       "      <th>398</th>\n",
       "      <td>당신이 플라시보다</td>\n",
       "      <td>조 디스펜자 저</td>\n",
       "      <td>샨티</td>\n",
       "      <td>9.5</td>\n",
       "    </tr>\n",
       "    <tr>\n",
       "      <th>399</th>\n",
       "      <td>5번 레인</td>\n",
       "      <td>은소홀 저/노인경 그림</td>\n",
       "      <td>문학동네</td>\n",
       "      <td>9.7</td>\n",
       "    </tr>\n",
       "  </tbody>\n",
       "</table>\n",
       "</div>"
      ],
      "text/plain": [
       "            Title        Author Publisher  Review_score\n",
       "300      세이노의 가르침  세이노(SayNo) 저       데이원           9.0\n",
       "301  문과 남자의 과학 공부         유시민 저       돌베개           9.3\n",
       "398     당신이 플라시보다      조 디스펜자 저        샨티           9.5\n",
       "399         5번 레인  은소홀 저/노인경 그림      문학동네           9.7"
      ]
     },
     "execution_count": 12,
     "metadata": {},
     "output_type": "execute_result"
    }
   ],
   "source": [
    "yes24.iloc[[300, 301, 398,399], :]"
   ]
  },
  {
   "cell_type": "code",
   "execution_count": 100,
   "metadata": {},
   "outputs": [],
   "source": [
    "#파일 저장, index = False를 통해 인덱스 없이 저장\n",
    "yes_total.to_csv('yes.csv', index = False)"
   ]
  },
  {
   "cell_type": "code",
   "execution_count": 13,
   "metadata": {},
   "outputs": [],
   "source": [
    "import pandas as pd\n",
    "\n",
    "yes24 = pd.read_csv(r'C:\\Users\\utw09\\Desktop\\정노을\\본캠 프로젝트\\fourth\\yes.csv')"
   ]
  },
  {
   "cell_type": "code",
   "execution_count": 14,
   "metadata": {},
   "outputs": [
    {
     "data": {
      "text/html": [
       "<div>\n",
       "<style scoped>\n",
       "    .dataframe tbody tr th:only-of-type {\n",
       "        vertical-align: middle;\n",
       "    }\n",
       "\n",
       "    .dataframe tbody tr th {\n",
       "        vertical-align: top;\n",
       "    }\n",
       "\n",
       "    .dataframe thead th {\n",
       "        text-align: right;\n",
       "    }\n",
       "</style>\n",
       "<table border=\"1\" class=\"dataframe\">\n",
       "  <thead>\n",
       "    <tr style=\"text-align: right;\">\n",
       "      <th></th>\n",
       "      <th>Title</th>\n",
       "      <th>Author</th>\n",
       "      <th>Publisher</th>\n",
       "      <th>Review_score</th>\n",
       "    </tr>\n",
       "  </thead>\n",
       "  <tbody>\n",
       "    <tr>\n",
       "      <th>0</th>\n",
       "      <td>세이노의 가르침</td>\n",
       "      <td>세이노(SayNo) 저</td>\n",
       "      <td>데이원</td>\n",
       "      <td>9.0</td>\n",
       "    </tr>\n",
       "    <tr>\n",
       "      <th>1</th>\n",
       "      <td>김미경의 마흔 수업</td>\n",
       "      <td>김미경 저</td>\n",
       "      <td>어웨이크북스</td>\n",
       "      <td>9.6</td>\n",
       "    </tr>\n",
       "    <tr>\n",
       "      <th>2</th>\n",
       "      <td>살 때, 팔 때, 벌 때</td>\n",
       "      <td>강영현 저</td>\n",
       "      <td>21세기북스</td>\n",
       "      <td>8.6</td>\n",
       "    </tr>\n",
       "    <tr>\n",
       "      <th>3</th>\n",
       "      <td>스즈메의 문단속</td>\n",
       "      <td>신카이 마코토 저/민경욱 역</td>\n",
       "      <td>대원씨아이(단행)(대원키즈)</td>\n",
       "      <td>9.5</td>\n",
       "    </tr>\n",
       "    <tr>\n",
       "      <th>4</th>\n",
       "      <td>아버지의 해방일지</td>\n",
       "      <td>정지아 저</td>\n",
       "      <td>창비</td>\n",
       "      <td>9.6</td>\n",
       "    </tr>\n",
       "    <tr>\n",
       "      <th>...</th>\n",
       "      <td>...</td>\n",
       "      <td>...</td>\n",
       "      <td>...</td>\n",
       "      <td>...</td>\n",
       "    </tr>\n",
       "    <tr>\n",
       "      <th>1195</th>\n",
       "      <td>흔한남매 과학 탐험대 0 과학의 기초</td>\n",
       "      <td>흔한남매 원저/김언정, 이현진 글/김덕영 그림/최진수 감수 외 3명 정보 더 보기/감추기</td>\n",
       "      <td>주니어김영사</td>\n",
       "      <td>9.8</td>\n",
       "    </tr>\n",
       "    <tr>\n",
       "      <th>1196</th>\n",
       "      <td>내 몸 혁명</td>\n",
       "      <td>박용우 저</td>\n",
       "      <td>루미너스</td>\n",
       "      <td>9.8</td>\n",
       "    </tr>\n",
       "    <tr>\n",
       "      <th>1197</th>\n",
       "      <td>내가 원하는 곳에 나를 데려가라</td>\n",
       "      <td>네빌 고다드 저/김은영 역</td>\n",
       "      <td>터닝페이지</td>\n",
       "      <td>9.4</td>\n",
       "    </tr>\n",
       "    <tr>\n",
       "      <th>1198</th>\n",
       "      <td>뿐이 토핑 이유식</td>\n",
       "      <td>정주희 저/이수진 감수</td>\n",
       "      <td>서사원</td>\n",
       "      <td>9.4</td>\n",
       "    </tr>\n",
       "    <tr>\n",
       "      <th>1199</th>\n",
       "      <td>아주 작은 습관의 힘</td>\n",
       "      <td>제임스 클리어 저/이한이 역</td>\n",
       "      <td>비즈니스북스</td>\n",
       "      <td>NaN</td>\n",
       "    </tr>\n",
       "  </tbody>\n",
       "</table>\n",
       "<p>1200 rows × 4 columns</p>\n",
       "</div>"
      ],
      "text/plain": [
       "                     Title                                             Author  \\\n",
       "0                 세이노의 가르침                                       세이노(SayNo) 저   \n",
       "1               김미경의 마흔 수업                                              김미경 저   \n",
       "2            살 때, 팔 때, 벌 때                                              강영현 저   \n",
       "3                 스즈메의 문단속                                    신카이 마코토 저/민경욱 역   \n",
       "4                아버지의 해방일지                                              정지아 저   \n",
       "...                    ...                                                ...   \n",
       "1195  흔한남매 과학 탐험대 0 과학의 기초  흔한남매 원저/김언정, 이현진 글/김덕영 그림/최진수 감수 외 3명 정보 더 보기/감추기   \n",
       "1196                내 몸 혁명                                              박용우 저   \n",
       "1197     내가 원하는 곳에 나를 데려가라                                     네빌 고다드 저/김은영 역   \n",
       "1198             뿐이 토핑 이유식                                       정주희 저/이수진 감수   \n",
       "1199           아주 작은 습관의 힘                                    제임스 클리어 저/이한이 역   \n",
       "\n",
       "            Publisher  Review_score  \n",
       "0                 데이원           9.0  \n",
       "1              어웨이크북스           9.6  \n",
       "2              21세기북스           8.6  \n",
       "3     대원씨아이(단행)(대원키즈)           9.5  \n",
       "4                  창비           9.6  \n",
       "...               ...           ...  \n",
       "1195           주니어김영사           9.8  \n",
       "1196             루미너스           9.8  \n",
       "1197            터닝페이지           9.4  \n",
       "1198              서사원           9.4  \n",
       "1199           비즈니스북스           NaN  \n",
       "\n",
       "[1200 rows x 4 columns]"
      ]
     },
     "execution_count": 14,
     "metadata": {},
     "output_type": "execute_result"
    }
   ],
   "source": [
    "yes24"
   ]
  },
  {
   "cell_type": "code",
   "execution_count": 15,
   "metadata": {},
   "outputs": [],
   "source": [
    "yes_ca = pd.read_csv(r'C:\\Users\\utw09\\Desktop\\정노을\\본캠 프로젝트\\fourth\\yes_category.csv')"
   ]
  },
  {
   "cell_type": "code",
   "execution_count": 16,
   "metadata": {},
   "outputs": [
    {
     "data": {
      "text/html": [
       "<div>\n",
       "<style scoped>\n",
       "    .dataframe tbody tr th:only-of-type {\n",
       "        vertical-align: middle;\n",
       "    }\n",
       "\n",
       "    .dataframe tbody tr th {\n",
       "        vertical-align: top;\n",
       "    }\n",
       "\n",
       "    .dataframe thead th {\n",
       "        text-align: right;\n",
       "    }\n",
       "</style>\n",
       "<table border=\"1\" class=\"dataframe\">\n",
       "  <thead>\n",
       "    <tr style=\"text-align: right;\">\n",
       "      <th></th>\n",
       "      <th>Title</th>\n",
       "      <th>Category</th>\n",
       "    </tr>\n",
       "  </thead>\n",
       "  <tbody>\n",
       "    <tr>\n",
       "      <th>0</th>\n",
       "      <td>세이노의 가르침</td>\n",
       "      <td>국내도서-자기계발</td>\n",
       "    </tr>\n",
       "    <tr>\n",
       "      <th>1</th>\n",
       "      <td>김미경의 마흔 수업</td>\n",
       "      <td>국내도서-자기계발</td>\n",
       "    </tr>\n",
       "    <tr>\n",
       "      <th>2</th>\n",
       "      <td>살 때, 팔 때, 벌 때</td>\n",
       "      <td>국내도서-경제 경영</td>\n",
       "    </tr>\n",
       "    <tr>\n",
       "      <th>3</th>\n",
       "      <td>스즈메의 문단속</td>\n",
       "      <td>국내도서-소설/시/희곡</td>\n",
       "    </tr>\n",
       "    <tr>\n",
       "      <th>4</th>\n",
       "      <td>아버지의 해방일지</td>\n",
       "      <td>국내도서-소설/시/희곡</td>\n",
       "    </tr>\n",
       "    <tr>\n",
       "      <th>...</th>\n",
       "      <td>...</td>\n",
       "      <td>...</td>\n",
       "    </tr>\n",
       "    <tr>\n",
       "      <th>1195</th>\n",
       "      <td>흔한남매 과학 탐험대 0 과학의 기초</td>\n",
       "      <td>국내도서-어린이</td>\n",
       "    </tr>\n",
       "    <tr>\n",
       "      <th>1196</th>\n",
       "      <td>내 몸 혁명</td>\n",
       "      <td>국내도서-건강 취미</td>\n",
       "    </tr>\n",
       "    <tr>\n",
       "      <th>1197</th>\n",
       "      <td>내가 원하는 곳에 나를 데려가라</td>\n",
       "      <td>국내도서-자기계발</td>\n",
       "    </tr>\n",
       "    <tr>\n",
       "      <th>1198</th>\n",
       "      <td>뿐이 토핑 이유식</td>\n",
       "      <td>국내도서-가정 살림</td>\n",
       "    </tr>\n",
       "    <tr>\n",
       "      <th>1199</th>\n",
       "      <td>아주 작은 습관의 힘</td>\n",
       "      <td>국내도서-자기계발</td>\n",
       "    </tr>\n",
       "  </tbody>\n",
       "</table>\n",
       "<p>1200 rows × 2 columns</p>\n",
       "</div>"
      ],
      "text/plain": [
       "                     Title      Category\n",
       "0                 세이노의 가르침     국내도서-자기계발\n",
       "1               김미경의 마흔 수업     국내도서-자기계발\n",
       "2            살 때, 팔 때, 벌 때    국내도서-경제 경영\n",
       "3                 스즈메의 문단속  국내도서-소설/시/희곡\n",
       "4                아버지의 해방일지  국내도서-소설/시/희곡\n",
       "...                    ...           ...\n",
       "1195  흔한남매 과학 탐험대 0 과학의 기초      국내도서-어린이\n",
       "1196                내 몸 혁명    국내도서-건강 취미\n",
       "1197     내가 원하는 곳에 나를 데려가라     국내도서-자기계발\n",
       "1198             뿐이 토핑 이유식    국내도서-가정 살림\n",
       "1199           아주 작은 습관의 힘     국내도서-자기계발\n",
       "\n",
       "[1200 rows x 2 columns]"
      ]
     },
     "execution_count": 16,
     "metadata": {},
     "output_type": "execute_result"
    }
   ],
   "source": [
    "yes_ca"
   ]
  },
  {
   "cell_type": "code",
   "execution_count": null,
   "metadata": {},
   "outputs": [],
   "source": [
    "#큰 카테고리\n",
    "category = list(yes_ca['Category'])\n",
    "ca = [c.split('-', 1)[0] for c in category]\n",
    "ca"
   ]
  },
  {
   "cell_type": "code",
   "execution_count": null,
   "metadata": {},
   "outputs": [],
   "source": [
    "#작은 카테고리\n",
    "sub = [c.split('-', 1)[1] for c in category]\n",
    "sub"
   ]
  },
  {
   "cell_type": "code",
   "execution_count": 28,
   "metadata": {},
   "outputs": [],
   "source": [
    "#yes_ca에 칼럼 분리한것 넣기\n",
    "yes_ca['Catehory'] = ca\n",
    "yes_ca['Sub_category'] = sub"
   ]
  },
  {
   "cell_type": "code",
   "execution_count": 29,
   "metadata": {},
   "outputs": [
    {
     "data": {
      "text/html": [
       "<div>\n",
       "<style scoped>\n",
       "    .dataframe tbody tr th:only-of-type {\n",
       "        vertical-align: middle;\n",
       "    }\n",
       "\n",
       "    .dataframe tbody tr th {\n",
       "        vertical-align: top;\n",
       "    }\n",
       "\n",
       "    .dataframe thead th {\n",
       "        text-align: right;\n",
       "    }\n",
       "</style>\n",
       "<table border=\"1\" class=\"dataframe\">\n",
       "  <thead>\n",
       "    <tr style=\"text-align: right;\">\n",
       "      <th></th>\n",
       "      <th>Title</th>\n",
       "      <th>Category</th>\n",
       "      <th>Catehory</th>\n",
       "      <th>Sub_category</th>\n",
       "    </tr>\n",
       "  </thead>\n",
       "  <tbody>\n",
       "    <tr>\n",
       "      <th>0</th>\n",
       "      <td>세이노의 가르침</td>\n",
       "      <td>국내도서-자기계발</td>\n",
       "      <td>국내도서</td>\n",
       "      <td>자기계발</td>\n",
       "    </tr>\n",
       "    <tr>\n",
       "      <th>1</th>\n",
       "      <td>김미경의 마흔 수업</td>\n",
       "      <td>국내도서-자기계발</td>\n",
       "      <td>국내도서</td>\n",
       "      <td>자기계발</td>\n",
       "    </tr>\n",
       "    <tr>\n",
       "      <th>2</th>\n",
       "      <td>살 때, 팔 때, 벌 때</td>\n",
       "      <td>국내도서-경제 경영</td>\n",
       "      <td>국내도서</td>\n",
       "      <td>경제 경영</td>\n",
       "    </tr>\n",
       "    <tr>\n",
       "      <th>3</th>\n",
       "      <td>스즈메의 문단속</td>\n",
       "      <td>국내도서-소설/시/희곡</td>\n",
       "      <td>국내도서</td>\n",
       "      <td>소설/시/희곡</td>\n",
       "    </tr>\n",
       "    <tr>\n",
       "      <th>4</th>\n",
       "      <td>아버지의 해방일지</td>\n",
       "      <td>국내도서-소설/시/희곡</td>\n",
       "      <td>국내도서</td>\n",
       "      <td>소설/시/희곡</td>\n",
       "    </tr>\n",
       "    <tr>\n",
       "      <th>...</th>\n",
       "      <td>...</td>\n",
       "      <td>...</td>\n",
       "      <td>...</td>\n",
       "      <td>...</td>\n",
       "    </tr>\n",
       "    <tr>\n",
       "      <th>1195</th>\n",
       "      <td>흔한남매 과학 탐험대 0 과학의 기초</td>\n",
       "      <td>국내도서-어린이</td>\n",
       "      <td>국내도서</td>\n",
       "      <td>어린이</td>\n",
       "    </tr>\n",
       "    <tr>\n",
       "      <th>1196</th>\n",
       "      <td>내 몸 혁명</td>\n",
       "      <td>국내도서-건강 취미</td>\n",
       "      <td>국내도서</td>\n",
       "      <td>건강 취미</td>\n",
       "    </tr>\n",
       "    <tr>\n",
       "      <th>1197</th>\n",
       "      <td>내가 원하는 곳에 나를 데려가라</td>\n",
       "      <td>국내도서-자기계발</td>\n",
       "      <td>국내도서</td>\n",
       "      <td>자기계발</td>\n",
       "    </tr>\n",
       "    <tr>\n",
       "      <th>1198</th>\n",
       "      <td>뿐이 토핑 이유식</td>\n",
       "      <td>국내도서-가정 살림</td>\n",
       "      <td>국내도서</td>\n",
       "      <td>가정 살림</td>\n",
       "    </tr>\n",
       "    <tr>\n",
       "      <th>1199</th>\n",
       "      <td>아주 작은 습관의 힘</td>\n",
       "      <td>국내도서-자기계발</td>\n",
       "      <td>국내도서</td>\n",
       "      <td>자기계발</td>\n",
       "    </tr>\n",
       "  </tbody>\n",
       "</table>\n",
       "<p>1200 rows × 4 columns</p>\n",
       "</div>"
      ],
      "text/plain": [
       "                     Title      Category Catehory Sub_category\n",
       "0                 세이노의 가르침     국내도서-자기계발     국내도서         자기계발\n",
       "1               김미경의 마흔 수업     국내도서-자기계발     국내도서         자기계발\n",
       "2            살 때, 팔 때, 벌 때    국내도서-경제 경영     국내도서        경제 경영\n",
       "3                 스즈메의 문단속  국내도서-소설/시/희곡     국내도서      소설/시/희곡\n",
       "4                아버지의 해방일지  국내도서-소설/시/희곡     국내도서      소설/시/희곡\n",
       "...                    ...           ...      ...          ...\n",
       "1195  흔한남매 과학 탐험대 0 과학의 기초      국내도서-어린이     국내도서          어린이\n",
       "1196                내 몸 혁명    국내도서-건강 취미     국내도서        건강 취미\n",
       "1197     내가 원하는 곳에 나를 데려가라     국내도서-자기계발     국내도서         자기계발\n",
       "1198             뿐이 토핑 이유식    국내도서-가정 살림     국내도서        가정 살림\n",
       "1199           아주 작은 습관의 힘     국내도서-자기계발     국내도서         자기계발\n",
       "\n",
       "[1200 rows x 4 columns]"
      ]
     },
     "execution_count": 29,
     "metadata": {},
     "output_type": "execute_result"
    }
   ],
   "source": [
    "yes_ca"
   ]
  },
  {
   "cell_type": "code",
   "execution_count": null,
   "metadata": {},
   "outputs": [],
   "source": [
    "yes_total.to_csv('yes.csv', index = False)"
   ]
  },
  {
   "cell_type": "code",
   "execution_count": 48,
   "metadata": {},
   "outputs": [
    {
     "ename": "TypeError",
     "evalue": "DataFrame.drop() got an unexpected keyword argument 'column'",
     "output_type": "error",
     "traceback": [
      "\u001b[1;31m---------------------------------------------------------------------------\u001b[0m",
      "\u001b[1;31mTypeError\u001b[0m                                 Traceback (most recent call last)",
      "Cell \u001b[1;32mIn[48], line 1\u001b[0m\n\u001b[1;32m----> 1\u001b[0m yes_ca \u001b[38;5;241m=\u001b[39m \u001b[43myes_ca\u001b[49m\u001b[38;5;241;43m.\u001b[39;49m\u001b[43mdrop\u001b[49m\u001b[43m(\u001b[49m\u001b[43mcolumn\u001b[49m\u001b[38;5;241;43m=\u001b[39;49m\u001b[43m[\u001b[49m\u001b[38;5;124;43m'\u001b[39;49m\u001b[38;5;124;43mTitle\u001b[39;49m\u001b[38;5;124;43m'\u001b[39;49m\u001b[43m]\u001b[49m\u001b[43m)\u001b[49m\n",
      "\u001b[1;31mTypeError\u001b[0m: DataFrame.drop() got an unexpected keyword argument 'column'"
     ]
    }
   ],
   "source": [
    "yes_ca = yes_ca.drop(column=['Title'])"
   ]
  },
  {
   "cell_type": "code",
   "execution_count": 42,
   "metadata": {},
   "outputs": [
    {
     "data": {
      "text/html": [
       "<div>\n",
       "<style scoped>\n",
       "    .dataframe tbody tr th:only-of-type {\n",
       "        vertical-align: middle;\n",
       "    }\n",
       "\n",
       "    .dataframe tbody tr th {\n",
       "        vertical-align: top;\n",
       "    }\n",
       "\n",
       "    .dataframe thead th {\n",
       "        text-align: right;\n",
       "    }\n",
       "</style>\n",
       "<table border=\"1\" class=\"dataframe\">\n",
       "  <thead>\n",
       "    <tr style=\"text-align: right;\">\n",
       "      <th></th>\n",
       "      <th>Catehory</th>\n",
       "      <th>Sub_category</th>\n",
       "    </tr>\n",
       "  </thead>\n",
       "  <tbody>\n",
       "    <tr>\n",
       "      <th>0</th>\n",
       "      <td>국내도서</td>\n",
       "      <td>자기계발</td>\n",
       "    </tr>\n",
       "    <tr>\n",
       "      <th>1</th>\n",
       "      <td>국내도서</td>\n",
       "      <td>자기계발</td>\n",
       "    </tr>\n",
       "    <tr>\n",
       "      <th>2</th>\n",
       "      <td>국내도서</td>\n",
       "      <td>경제 경영</td>\n",
       "    </tr>\n",
       "    <tr>\n",
       "      <th>3</th>\n",
       "      <td>국내도서</td>\n",
       "      <td>소설/시/희곡</td>\n",
       "    </tr>\n",
       "    <tr>\n",
       "      <th>4</th>\n",
       "      <td>국내도서</td>\n",
       "      <td>소설/시/희곡</td>\n",
       "    </tr>\n",
       "    <tr>\n",
       "      <th>...</th>\n",
       "      <td>...</td>\n",
       "      <td>...</td>\n",
       "    </tr>\n",
       "    <tr>\n",
       "      <th>1195</th>\n",
       "      <td>국내도서</td>\n",
       "      <td>어린이</td>\n",
       "    </tr>\n",
       "    <tr>\n",
       "      <th>1196</th>\n",
       "      <td>국내도서</td>\n",
       "      <td>건강 취미</td>\n",
       "    </tr>\n",
       "    <tr>\n",
       "      <th>1197</th>\n",
       "      <td>국내도서</td>\n",
       "      <td>자기계발</td>\n",
       "    </tr>\n",
       "    <tr>\n",
       "      <th>1198</th>\n",
       "      <td>국내도서</td>\n",
       "      <td>가정 살림</td>\n",
       "    </tr>\n",
       "    <tr>\n",
       "      <th>1199</th>\n",
       "      <td>국내도서</td>\n",
       "      <td>자기계발</td>\n",
       "    </tr>\n",
       "  </tbody>\n",
       "</table>\n",
       "<p>1200 rows × 2 columns</p>\n",
       "</div>"
      ],
      "text/plain": [
       "     Catehory Sub_category\n",
       "0        국내도서         자기계발\n",
       "1        국내도서         자기계발\n",
       "2        국내도서        경제 경영\n",
       "3        국내도서      소설/시/희곡\n",
       "4        국내도서      소설/시/희곡\n",
       "...       ...          ...\n",
       "1195     국내도서          어린이\n",
       "1196     국내도서        건강 취미\n",
       "1197     국내도서         자기계발\n",
       "1198     국내도서        가정 살림\n",
       "1199     국내도서         자기계발\n",
       "\n",
       "[1200 rows x 2 columns]"
      ]
     },
     "execution_count": 42,
     "metadata": {},
     "output_type": "execute_result"
    }
   ],
   "source": [
    "yes_ca"
   ]
  },
  {
   "cell_type": "code",
   "execution_count": 31,
   "metadata": {},
   "outputs": [],
   "source": [
    "yes = pd.read_csv(r'C:\\Users\\utw09\\Desktop\\정노을\\본캠 프로젝트\\fourth\\yes.csv')"
   ]
  },
  {
   "cell_type": "code",
   "execution_count": 45,
   "metadata": {},
   "outputs": [
    {
     "data": {
      "text/html": [
       "<div>\n",
       "<style scoped>\n",
       "    .dataframe tbody tr th:only-of-type {\n",
       "        vertical-align: middle;\n",
       "    }\n",
       "\n",
       "    .dataframe tbody tr th {\n",
       "        vertical-align: top;\n",
       "    }\n",
       "\n",
       "    .dataframe thead th {\n",
       "        text-align: right;\n",
       "    }\n",
       "</style>\n",
       "<table border=\"1\" class=\"dataframe\">\n",
       "  <thead>\n",
       "    <tr style=\"text-align: right;\">\n",
       "      <th></th>\n",
       "      <th>Title</th>\n",
       "      <th>Author</th>\n",
       "      <th>Publisher</th>\n",
       "      <th>Review_score</th>\n",
       "      <th>Catehory</th>\n",
       "      <th>Sub_category</th>\n",
       "    </tr>\n",
       "  </thead>\n",
       "  <tbody>\n",
       "    <tr>\n",
       "      <th>0</th>\n",
       "      <td>세이노의 가르침</td>\n",
       "      <td>세이노(SayNo) 저</td>\n",
       "      <td>데이원</td>\n",
       "      <td>9.0</td>\n",
       "      <td>국내도서</td>\n",
       "      <td>자기계발</td>\n",
       "    </tr>\n",
       "    <tr>\n",
       "      <th>1</th>\n",
       "      <td>김미경의 마흔 수업</td>\n",
       "      <td>김미경 저</td>\n",
       "      <td>어웨이크북스</td>\n",
       "      <td>9.6</td>\n",
       "      <td>국내도서</td>\n",
       "      <td>자기계발</td>\n",
       "    </tr>\n",
       "    <tr>\n",
       "      <th>2</th>\n",
       "      <td>살 때, 팔 때, 벌 때</td>\n",
       "      <td>강영현 저</td>\n",
       "      <td>21세기북스</td>\n",
       "      <td>8.6</td>\n",
       "      <td>국내도서</td>\n",
       "      <td>경제 경영</td>\n",
       "    </tr>\n",
       "    <tr>\n",
       "      <th>3</th>\n",
       "      <td>스즈메의 문단속</td>\n",
       "      <td>신카이 마코토 저/민경욱 역</td>\n",
       "      <td>대원씨아이(단행)(대원키즈)</td>\n",
       "      <td>9.5</td>\n",
       "      <td>국내도서</td>\n",
       "      <td>소설/시/희곡</td>\n",
       "    </tr>\n",
       "    <tr>\n",
       "      <th>4</th>\n",
       "      <td>아버지의 해방일지</td>\n",
       "      <td>정지아 저</td>\n",
       "      <td>창비</td>\n",
       "      <td>9.6</td>\n",
       "      <td>국내도서</td>\n",
       "      <td>소설/시/희곡</td>\n",
       "    </tr>\n",
       "    <tr>\n",
       "      <th>...</th>\n",
       "      <td>...</td>\n",
       "      <td>...</td>\n",
       "      <td>...</td>\n",
       "      <td>...</td>\n",
       "      <td>...</td>\n",
       "      <td>...</td>\n",
       "    </tr>\n",
       "    <tr>\n",
       "      <th>1195</th>\n",
       "      <td>흔한남매 과학 탐험대 0 과학의 기초</td>\n",
       "      <td>흔한남매 원저/김언정, 이현진 글/김덕영 그림/최진수 감수 외 3명 정보 더 보기/감추기</td>\n",
       "      <td>주니어김영사</td>\n",
       "      <td>9.8</td>\n",
       "      <td>국내도서</td>\n",
       "      <td>어린이</td>\n",
       "    </tr>\n",
       "    <tr>\n",
       "      <th>1196</th>\n",
       "      <td>내 몸 혁명</td>\n",
       "      <td>박용우 저</td>\n",
       "      <td>루미너스</td>\n",
       "      <td>9.8</td>\n",
       "      <td>국내도서</td>\n",
       "      <td>건강 취미</td>\n",
       "    </tr>\n",
       "    <tr>\n",
       "      <th>1197</th>\n",
       "      <td>내가 원하는 곳에 나를 데려가라</td>\n",
       "      <td>네빌 고다드 저/김은영 역</td>\n",
       "      <td>터닝페이지</td>\n",
       "      <td>9.4</td>\n",
       "      <td>국내도서</td>\n",
       "      <td>자기계발</td>\n",
       "    </tr>\n",
       "    <tr>\n",
       "      <th>1198</th>\n",
       "      <td>뿐이 토핑 이유식</td>\n",
       "      <td>정주희 저/이수진 감수</td>\n",
       "      <td>서사원</td>\n",
       "      <td>9.4</td>\n",
       "      <td>국내도서</td>\n",
       "      <td>가정 살림</td>\n",
       "    </tr>\n",
       "    <tr>\n",
       "      <th>1199</th>\n",
       "      <td>아주 작은 습관의 힘</td>\n",
       "      <td>제임스 클리어 저/이한이 역</td>\n",
       "      <td>비즈니스북스</td>\n",
       "      <td>NaN</td>\n",
       "      <td>국내도서</td>\n",
       "      <td>자기계발</td>\n",
       "    </tr>\n",
       "  </tbody>\n",
       "</table>\n",
       "<p>1200 rows × 6 columns</p>\n",
       "</div>"
      ],
      "text/plain": [
       "                     Title                                             Author  \\\n",
       "0                 세이노의 가르침                                       세이노(SayNo) 저   \n",
       "1               김미경의 마흔 수업                                              김미경 저   \n",
       "2            살 때, 팔 때, 벌 때                                              강영현 저   \n",
       "3                 스즈메의 문단속                                    신카이 마코토 저/민경욱 역   \n",
       "4                아버지의 해방일지                                              정지아 저   \n",
       "...                    ...                                                ...   \n",
       "1195  흔한남매 과학 탐험대 0 과학의 기초  흔한남매 원저/김언정, 이현진 글/김덕영 그림/최진수 감수 외 3명 정보 더 보기/감추기   \n",
       "1196                내 몸 혁명                                              박용우 저   \n",
       "1197     내가 원하는 곳에 나를 데려가라                                     네빌 고다드 저/김은영 역   \n",
       "1198             뿐이 토핑 이유식                                       정주희 저/이수진 감수   \n",
       "1199           아주 작은 습관의 힘                                    제임스 클리어 저/이한이 역   \n",
       "\n",
       "            Publisher  Review_score Catehory Sub_category  \n",
       "0                 데이원           9.0     국내도서         자기계발  \n",
       "1              어웨이크북스           9.6     국내도서         자기계발  \n",
       "2              21세기북스           8.6     국내도서        경제 경영  \n",
       "3     대원씨아이(단행)(대원키즈)           9.5     국내도서      소설/시/희곡  \n",
       "4                  창비           9.6     국내도서      소설/시/희곡  \n",
       "...               ...           ...      ...          ...  \n",
       "1195           주니어김영사           9.8     국내도서          어린이  \n",
       "1196             루미너스           9.8     국내도서        건강 취미  \n",
       "1197            터닝페이지           9.4     국내도서         자기계발  \n",
       "1198              서사원           9.4     국내도서        가정 살림  \n",
       "1199           비즈니스북스           NaN     국내도서         자기계발  \n",
       "\n",
       "[1200 rows x 6 columns]"
      ]
     },
     "execution_count": 45,
     "metadata": {},
     "output_type": "execute_result"
    }
   ],
   "source": [
    "#yes랑 yes_ca 합치기\n",
    "yes_total = pd.concat([yes, yes_ca], axis=1)\n",
    "yes_total"
   ]
  },
  {
   "cell_type": "code",
   "execution_count": 49,
   "metadata": {},
   "outputs": [
    {
     "data": {
      "text/html": [
       "<div>\n",
       "<style scoped>\n",
       "    .dataframe tbody tr th:only-of-type {\n",
       "        vertical-align: middle;\n",
       "    }\n",
       "\n",
       "    .dataframe tbody tr th {\n",
       "        vertical-align: top;\n",
       "    }\n",
       "\n",
       "    .dataframe thead th {\n",
       "        text-align: right;\n",
       "    }\n",
       "</style>\n",
       "<table border=\"1\" class=\"dataframe\">\n",
       "  <thead>\n",
       "    <tr style=\"text-align: right;\">\n",
       "      <th></th>\n",
       "      <th>Title</th>\n",
       "      <th>Author</th>\n",
       "      <th>Publisher</th>\n",
       "      <th>Review_score</th>\n",
       "      <th>Category</th>\n",
       "      <th>Sub_category</th>\n",
       "    </tr>\n",
       "  </thead>\n",
       "  <tbody>\n",
       "    <tr>\n",
       "      <th>0</th>\n",
       "      <td>세이노의 가르침</td>\n",
       "      <td>세이노(SayNo) 저</td>\n",
       "      <td>데이원</td>\n",
       "      <td>9.0</td>\n",
       "      <td>국내도서</td>\n",
       "      <td>자기계발</td>\n",
       "    </tr>\n",
       "    <tr>\n",
       "      <th>1</th>\n",
       "      <td>김미경의 마흔 수업</td>\n",
       "      <td>김미경 저</td>\n",
       "      <td>어웨이크북스</td>\n",
       "      <td>9.6</td>\n",
       "      <td>국내도서</td>\n",
       "      <td>자기계발</td>\n",
       "    </tr>\n",
       "    <tr>\n",
       "      <th>2</th>\n",
       "      <td>살 때, 팔 때, 벌 때</td>\n",
       "      <td>강영현 저</td>\n",
       "      <td>21세기북스</td>\n",
       "      <td>8.6</td>\n",
       "      <td>국내도서</td>\n",
       "      <td>경제 경영</td>\n",
       "    </tr>\n",
       "    <tr>\n",
       "      <th>3</th>\n",
       "      <td>스즈메의 문단속</td>\n",
       "      <td>신카이 마코토 저/민경욱 역</td>\n",
       "      <td>대원씨아이(단행)(대원키즈)</td>\n",
       "      <td>9.5</td>\n",
       "      <td>국내도서</td>\n",
       "      <td>소설/시/희곡</td>\n",
       "    </tr>\n",
       "    <tr>\n",
       "      <th>4</th>\n",
       "      <td>아버지의 해방일지</td>\n",
       "      <td>정지아 저</td>\n",
       "      <td>창비</td>\n",
       "      <td>9.6</td>\n",
       "      <td>국내도서</td>\n",
       "      <td>소설/시/희곡</td>\n",
       "    </tr>\n",
       "    <tr>\n",
       "      <th>...</th>\n",
       "      <td>...</td>\n",
       "      <td>...</td>\n",
       "      <td>...</td>\n",
       "      <td>...</td>\n",
       "      <td>...</td>\n",
       "      <td>...</td>\n",
       "    </tr>\n",
       "    <tr>\n",
       "      <th>1195</th>\n",
       "      <td>흔한남매 과학 탐험대 0 과학의 기초</td>\n",
       "      <td>흔한남매 원저/김언정, 이현진 글/김덕영 그림/최진수 감수 외 3명 정보 더 보기/감추기</td>\n",
       "      <td>주니어김영사</td>\n",
       "      <td>9.8</td>\n",
       "      <td>국내도서</td>\n",
       "      <td>어린이</td>\n",
       "    </tr>\n",
       "    <tr>\n",
       "      <th>1196</th>\n",
       "      <td>내 몸 혁명</td>\n",
       "      <td>박용우 저</td>\n",
       "      <td>루미너스</td>\n",
       "      <td>9.8</td>\n",
       "      <td>국내도서</td>\n",
       "      <td>건강 취미</td>\n",
       "    </tr>\n",
       "    <tr>\n",
       "      <th>1197</th>\n",
       "      <td>내가 원하는 곳에 나를 데려가라</td>\n",
       "      <td>네빌 고다드 저/김은영 역</td>\n",
       "      <td>터닝페이지</td>\n",
       "      <td>9.4</td>\n",
       "      <td>국내도서</td>\n",
       "      <td>자기계발</td>\n",
       "    </tr>\n",
       "    <tr>\n",
       "      <th>1198</th>\n",
       "      <td>뿐이 토핑 이유식</td>\n",
       "      <td>정주희 저/이수진 감수</td>\n",
       "      <td>서사원</td>\n",
       "      <td>9.4</td>\n",
       "      <td>국내도서</td>\n",
       "      <td>가정 살림</td>\n",
       "    </tr>\n",
       "    <tr>\n",
       "      <th>1199</th>\n",
       "      <td>아주 작은 습관의 힘</td>\n",
       "      <td>제임스 클리어 저/이한이 역</td>\n",
       "      <td>비즈니스북스</td>\n",
       "      <td>NaN</td>\n",
       "      <td>국내도서</td>\n",
       "      <td>자기계발</td>\n",
       "    </tr>\n",
       "  </tbody>\n",
       "</table>\n",
       "<p>1200 rows × 6 columns</p>\n",
       "</div>"
      ],
      "text/plain": [
       "                     Title                                             Author  \\\n",
       "0                 세이노의 가르침                                       세이노(SayNo) 저   \n",
       "1               김미경의 마흔 수업                                              김미경 저   \n",
       "2            살 때, 팔 때, 벌 때                                              강영현 저   \n",
       "3                 스즈메의 문단속                                    신카이 마코토 저/민경욱 역   \n",
       "4                아버지의 해방일지                                              정지아 저   \n",
       "...                    ...                                                ...   \n",
       "1195  흔한남매 과학 탐험대 0 과학의 기초  흔한남매 원저/김언정, 이현진 글/김덕영 그림/최진수 감수 외 3명 정보 더 보기/감추기   \n",
       "1196                내 몸 혁명                                              박용우 저   \n",
       "1197     내가 원하는 곳에 나를 데려가라                                     네빌 고다드 저/김은영 역   \n",
       "1198             뿐이 토핑 이유식                                       정주희 저/이수진 감수   \n",
       "1199           아주 작은 습관의 힘                                    제임스 클리어 저/이한이 역   \n",
       "\n",
       "            Publisher  Review_score Category Sub_category  \n",
       "0                 데이원           9.0     국내도서         자기계발  \n",
       "1              어웨이크북스           9.6     국내도서         자기계발  \n",
       "2              21세기북스           8.6     국내도서        경제 경영  \n",
       "3     대원씨아이(단행)(대원키즈)           9.5     국내도서      소설/시/희곡  \n",
       "4                  창비           9.6     국내도서      소설/시/희곡  \n",
       "...               ...           ...      ...          ...  \n",
       "1195           주니어김영사           9.8     국내도서          어린이  \n",
       "1196             루미너스           9.8     국내도서        건강 취미  \n",
       "1197            터닝페이지           9.4     국내도서         자기계발  \n",
       "1198              서사원           9.4     국내도서        가정 살림  \n",
       "1199           비즈니스북스           NaN     국내도서         자기계발  \n",
       "\n",
       "[1200 rows x 6 columns]"
      ]
     },
     "execution_count": 49,
     "metadata": {},
     "output_type": "execute_result"
    }
   ],
   "source": [
    "#칼럼 이름 바꾸기\n",
    "yes_total = yes_total.rename(columns={'Catehory': 'Category'})\n",
    "yes_total"
   ]
  },
  {
   "cell_type": "code",
   "execution_count": 50,
   "metadata": {},
   "outputs": [],
   "source": [
    "#최종 저장\n",
    "yes_total.to_csv('yes_total.csv', index = False)"
   ]
  },
  {
   "cell_type": "markdown",
   "metadata": {},
   "source": [
    "title = find_text_list('//*[@id=\"yesBestList\"]/li/div/div[2]/div[2]/a[1]')\n",
    "author = find_text_list('//*[@id=\"yesBestList\"]/li/div/div[2]/div[3]/span[1]')\n",
    "publisher = find_text_list('//*[@id=\"yesBestList\"]/li/div/div[2]/div[3]/span[2]/a')\n",
    "review_score = find_text_list('//*[@id=\"yesBestList\"]/li/div/div[2]/div[5]/span[3]/em')\n",
    "\n",
    "#길이 맞추기\n",
    "title, _ = align_data_and_index(title, author)\n",
    "author, _ = align_data_and_index(author, title)\n",
    "publisher, _ = align_data_and_index(publisher, title)\n",
    "review_score, _ = align_data_and_index(review_score, title)\n",
    "\n",
    "res = pd.DataFrame()\n",
    "\n",
    "res['Title'] = title\n",
    "res['Author'] = author\n",
    "res['Publisher'] = publisher\n",
    "res['Review_score'] = review_score\n",
    "\n",
    "#ignore_index = True으로 기존 인덱스 무시하고 새롭게 설정\n",
    "abc = pd.concat([abc, res], ignore_index = True)\n",
    "\n",
    "time.sleep(z)\n",
    "        \n",
    "#스크롤 내리기\n",
    "driver.execute_script(\"window.scrollTo(0, document.body.scrollHeight);\")"
   ]
  },
  {
   "cell_type": "markdown",
   "metadata": {},
   "source": [
    "제목\n",
    "//*[@id=\"yesBestList\"]/li[1]/div/div[2]/div[2]/a[1]\n",
    "//*[@id=\"yesBestList\"]/li[2]/div/div[2]/div[2]/a[1]\n",
    "//*[@id=\"yesBestList\"]/li[23]/div/div[2]/div[2]/a[1]\n",
    "//*[@id=\"yesBestList\"]/li[24]/div/div[2]/div[2]/a[1]\n",
    "//*[@id=\"yesBestList\"]/li[100]/div/div[2]/div[2]/a[1]\n",
    "\n",
    "제목 공통\n",
    "//*[@id=\"yesBestList\"]/li/div/div[2]/div[2]/a[1]\n",
    "\n",
    "저자\n",
    "//*[@id=\"yesBestList\"]/li[1]/div/div[2]/div[3]/span[1]/a\n",
    "//*[@id=\"yesBestList\"]/li[2]/div/div[2]/div[3]/span[1]/a\n",
    "//*[@id=\"yesBestList\"]/li[23]/div/div[2]/div[3]/span[1]/a[1]\n",
    "//*[@id=\"yesBestList\"]/li[24]/div/div[2]/div[3]/span[1]/a\n",
    "//*[@id=\"yesBestList\"]/li[98]/div/div[2]/div[3]/span[1]/a[1]\n",
    "----\n",
    "//*[@id=\"yesBestList\"]/li[30]/div/div[2]/div[3]/span[1]\n",
    "//*[@id=\"yesBestList\"]/li[29]/div/div[2]/div[3]/span[1]\n",
    "\n",
    "\n",
    "저자 공통\n",
    "//*[@id=\"yesBestList\"]/li/div/div[2]/div[3]/span[1]/a\n",
    "\n",
    "출판사\n",
    "//*[@id=\"yesBestList\"]/li[1]/div/div[2]/div[3]/span[2]/a\n",
    "//*[@id=\"yesBestList\"]/li[2]/div/div[2]/div[3]/span[2]/a\n",
    "//*[@id=\"yesBestList\"]/li[23]/div/div[2]/div[3]/span[2]/a\n",
    "//*[@id=\"yesBestList\"]/li[24]/div/div[2]/div[3]/span[2]/a\n",
    "\n",
    "출판사 공통\n",
    "//*[@id=\"yesBestList\"]/li/div/div[2]/div[3]/span[2]/a\n",
    "\n",
    "리뷰점수\n",
    "//*[@id=\"yesBestList\"]/li[1]/div/div[2]/div[5]/span[3]/em\n",
    "//*[@id=\"yesBestList\"]/li[2]/div/div[2]/div[5]/span[3]/em\n",
    "//*[@id=\"yesBestList\"]/li[23]/div/div[2]/div[5]/span[3]/em\n",
    "//*[@id=\"yesBestList\"]/li[21]/div/div[2]/div[5]/span[3]/em\n",
    "//*[@id=\"yesBestList\"]/li[100]/div/div[2]/div[5]/span[3]/em\n",
    "\n",
    "리뷰점수 공통\n",
    "//*[@id=\"yesBestList\"]/li/div/div[2]/div[5]/span[3]/em\n",
    "\n",
    "\n"
   ]
  }
 ],
 "metadata": {
  "kernelspec": {
   "display_name": "Python 3",
   "language": "python",
   "name": "python3"
  },
  "language_info": {
   "codemirror_mode": {
    "name": "ipython",
    "version": 3
   },
   "file_extension": ".py",
   "mimetype": "text/x-python",
   "name": "python",
   "nbconvert_exporter": "python",
   "pygments_lexer": "ipython3",
   "version": "3.12.1"
  }
 },
 "nbformat": 4,
 "nbformat_minor": 2
}
