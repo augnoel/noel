{
  "nbformat": 4,
  "nbformat_minor": 0,
  "metadata": {
    "colab": {
      "provenance": [],
      "include_colab_link": true
    },
    "kernelspec": {
      "name": "python3",
      "display_name": "Python 3"
    },
    "language_info": {
      "name": "python"
    }
  },
  "cells": [
    {
      "cell_type": "markdown",
      "metadata": {
        "id": "view-in-github",
        "colab_type": "text"
      },
      "source": [
        "<a href=\"https://colab.research.google.com/github/augnoel/noel/blob/develop/standardA_clustering_prac1_ipynb%EC%9D%98_%EC%82%AC%EB%B3%B8.ipynb\" target=\"_parent\"><img src=\"https://colab.research.google.com/assets/colab-badge.svg\" alt=\"Open In Colab\"/></a>"
      ]
    },
    {
      "cell_type": "code",
      "execution_count": 5,
      "metadata": {
        "id": "P3JRHO7TQFgF"
      },
      "outputs": [],
      "source": [
        "import numpy as np\n",
        "import pandas as pd\n",
        "\n",
        "from sklearn import datasets"
      ]
    },
    {
      "cell_type": "code",
      "source": [
        "data_iris = datasets.load_iris()\n",
        "\n",
        "iris1 = data_iris['data'][0]\n",
        "iris2 = data_iris['data'][1]\n",
        "iris3 = data_iris['data'][-1]"
      ],
      "metadata": {
        "id": "fQG5Khwlk3hH"
      },
      "execution_count": 6,
      "outputs": []
    },
    {
      "cell_type": "code",
      "source": [
        "data_iris\n",
        "# target : iris의 종류"
      ],
      "metadata": {
        "id": "lGsuNAc7djGK"
      },
      "execution_count": null,
      "outputs": []
    },
    {
      "cell_type": "code",
      "source": [
        "#euclidean 거리를 계산하는 함수 만들기\n",
        "#x1, x2 : float array\n",
        "def euclidean_dist(x1, x2):\n",
        "  # 함수를 완성해보세요\n",
        "\n",
        "  # 두 점 간의 차이를 계산\n",
        "    diff = np.array(x1) - np.array(x2)\n",
        "\n",
        "    # 제곱 거리를 계산\n",
        "    squared_diff = diff ** 2\n",
        "\n",
        "    # 각 차이의 제곱을 합하여 제곱 거리\n",
        "    sum_squared_diff = np.sum(squared_diff)\n",
        "\n",
        "    # 제곱 거리의 제곱근을 계산하여 Euclidean 거리\n",
        "    euclidean_distance = np.sqrt(sum_squared_diff)\n",
        "\n",
        "    return euclidean_distance"
      ],
      "metadata": {
        "id": "Tb6VOzP3URqm"
      },
      "execution_count": null,
      "outputs": []
    },
    {
      "cell_type": "code",
      "source": [
        "# 튜터님 정답\n",
        "#euclidean 거리를 계산하는 함수 만들기\n",
        "#x1, x2 : float array\n",
        "def euclidean_dist(x1, x2):\n",
        "  dist = 0\n",
        "  # zip : x1, x2를 나란히 순서대로 두고 튜플 형태\n",
        "  for a,b in zip(x1, x2):\n",
        "    dist += (a -b)**2\n",
        "  dist =  dist **0.5\n",
        "  return dist"
      ],
      "metadata": {
        "id": "R2EOls7Vn4mC"
      },
      "execution_count": null,
      "outputs": []
    },
    {
      "cell_type": "code",
      "source": [
        "print(euclidean_dist(iris1, iris2))\n",
        "print(euclidean_dist(iris1, iris3))\n",
        "print(euclidean_dist(iris2, iris3))"
      ],
      "metadata": {
        "colab": {
          "base_uri": "https://localhost:8080/"
        },
        "id": "lVxa5JGQmFLA",
        "outputId": "81672f89-42fc-485d-93b2-7e82174d9579"
      },
      "execution_count": null,
      "outputs": [
        {
          "output_type": "stream",
          "name": "stdout",
          "text": [
            "0.5385164807134502\n",
            "4.1400483088968905\n",
            "4.153311931459037\n"
          ]
        }
      ]
    },
    {
      "cell_type": "code",
      "source": [
        "#Scikit-Learn을 활용한 euclidean 거리 계산\n",
        "#https://scikit-learn.org/stable/modules/generated/sklearn.metrics.pairwise.euclidean_distances.html\n",
        "from sklearn.metrics.pairwise import euclidean_distances\n",
        "\n",
        "def euclidean_dist_sklearn(x1, x2):\n",
        "  # 2차원 값이 들어가야함\n",
        "  return euclidean_distances([x1], [x2])[0][0]\n",
        "\n",
        "print(euclidean_distances([iris1], [iris2]))\n",
        "print(euclidean_dist_sklearn(iris1, iris2))\n",
        "print(euclidean_dist_sklearn(iris1, iris3))\n",
        "print(euclidean_dist_sklearn(iris2, iris3))"
      ],
      "metadata": {
        "colab": {
          "base_uri": "https://localhost:8080/"
        },
        "id": "E46x8TWgmsDD",
        "outputId": "d5b9b502-6123-4454-fafc-0f2d0b58a2f1"
      },
      "execution_count": null,
      "outputs": [
        {
          "output_type": "stream",
          "name": "stdout",
          "text": [
            "[[0.53851648]]\n",
            "0.5385164807134628\n",
            "4.14004830889689\n",
            "4.153311931459037\n"
          ]
        }
      ]
    },
    {
      "cell_type": "code",
      "source": [
        "#manhattan 거리를 계산하는 함수 만들기\n",
        "def manhattan_dist(x1, x2):\n",
        "    # 두 점의 차이\n",
        "    diff = abs(np.array(x1) - np.array(x2))\n",
        "\n",
        "    # 각 차이의 절대값의 합을 계산하여 맨해튼 거리\n",
        "    manhattan_distance = np.sum(diff)\n",
        "\n",
        "    return manhattan_dist"
      ],
      "metadata": {
        "id": "D50KAiqOoXGm"
      },
      "execution_count": 12,
      "outputs": []
    },
    {
      "cell_type": "code",
      "source": [
        "# 튜터님 정답\n",
        "#manhattan 거리를 계산하는 함수 만들기\n",
        "def manhattan_dist(x1, x2):\n",
        "  # iris1이 리스트 형태의 np.array로 되어 있는데, 각 원소별 차이가 적용된 동일한 크기의 array가 형성\n",
        "  diff = np.array(x1) - np.array(x2)\n",
        "  diff = abs(diff)\n",
        "  dist = sum(diff)\n",
        "  return dist"
      ],
      "metadata": {
        "id": "6zxdQhjnnwD_"
      },
      "execution_count": null,
      "outputs": []
    },
    {
      "cell_type": "code",
      "source": [
        "print(manhattan_dist(iris1, iris2))\n",
        "print(manhattan_dist(iris1, iris3))\n",
        "print(manhattan_dist(iris2, iris3))"
      ],
      "metadata": {
        "colab": {
          "base_uri": "https://localhost:8080/"
        },
        "id": "dSZxwkQoowVR",
        "outputId": "8afdbfc9-a2aa-450d-b16c-4acb33872699"
      },
      "execution_count": 11,
      "outputs": [
        {
          "output_type": "stream",
          "name": "stdout",
          "text": [
            "0.6999999999999993\n",
            "6.6\n",
            "6.299999999999999\n"
          ]
        }
      ]
    },
    {
      "cell_type": "code",
      "source": [
        "#Scikit-Learn을 활용한 manhattan 거리 계산\n",
        "#https://scikit-learn.org/stable/modules/generated/sklearn.metrics.pairwise.manhattan_distances.html\n",
        "from sklearn.metrics.pairwise import manhattan_distances\n",
        "\n",
        "def manhattan_dist_sklearn(x1, x2):\n",
        "  return manhattan_distances([x1], [x2])[0][0]\n",
        "\n",
        "print(manhattan_dist_sklearn(iris1, iris2))\n",
        "print(manhattan_dist_sklearn(iris1, iris3))\n",
        "print(manhattan_dist_sklearn(iris2, iris3))"
      ],
      "metadata": {
        "colab": {
          "base_uri": "https://localhost:8080/"
        },
        "outputId": "61a625c8-e64a-4138-e93e-573d4a332e56",
        "id": "EdNL9uz0oxt_"
      },
      "execution_count": null,
      "outputs": [
        {
          "output_type": "stream",
          "name": "stdout",
          "text": [
            "0.6999999999999993\n",
            "6.6\n",
            "6.299999999999999\n"
          ]
        }
      ]
    },
    {
      "cell_type": "code",
      "source": [
        "# 임의의 데이터로 실습\n",
        "# 위에는 iris 데이터를 이용"
      ],
      "metadata": {
        "id": "gikB2j8Tfug4"
      },
      "execution_count": 14,
      "outputs": []
    },
    {
      "cell_type": "code",
      "source": [
        "dataset_music_dict = {\"rock\": [26, 60, 0, 2, 5],\n",
        "                      \"hiphop\": [60, 60, 6, 19, 11],\n",
        "                      \"pop\": [70, 60, 17, 210, 14],\n",
        "                      \"jazz\": [35, 60, 1, 5, 7],\n",
        "                      \"ballad\": [60, 60, 210, 8, 12]}\n",
        "\n",
        "df_music = pd.DataFrame(dataset_music_dict)\n",
        "df_music"
      ],
      "metadata": {
        "colab": {
          "base_uri": "https://localhost:8080/",
          "height": 206
        },
        "id": "y77_QsXCUTAg",
        "outputId": "f60cf701-af96-4361-aee1-801dcc114600"
      },
      "execution_count": 20,
      "outputs": [
        {
          "output_type": "execute_result",
          "data": {
            "text/plain": [
              "   rock  hiphop  pop  jazz  ballad\n",
              "0    26      60   70    35      60\n",
              "1    60      60   60    60      60\n",
              "2     0       6   17     1     210\n",
              "3     2      19  210     5       8\n",
              "4     5      11   14     7      12"
            ],
            "text/html": [
              "\n",
              "  <div id=\"df-ba7b8a10-d62f-4b18-9ec2-c6c659d8a0c5\" class=\"colab-df-container\">\n",
              "    <div>\n",
              "<style scoped>\n",
              "    .dataframe tbody tr th:only-of-type {\n",
              "        vertical-align: middle;\n",
              "    }\n",
              "\n",
              "    .dataframe tbody tr th {\n",
              "        vertical-align: top;\n",
              "    }\n",
              "\n",
              "    .dataframe thead th {\n",
              "        text-align: right;\n",
              "    }\n",
              "</style>\n",
              "<table border=\"1\" class=\"dataframe\">\n",
              "  <thead>\n",
              "    <tr style=\"text-align: right;\">\n",
              "      <th></th>\n",
              "      <th>rock</th>\n",
              "      <th>hiphop</th>\n",
              "      <th>pop</th>\n",
              "      <th>jazz</th>\n",
              "      <th>ballad</th>\n",
              "    </tr>\n",
              "  </thead>\n",
              "  <tbody>\n",
              "    <tr>\n",
              "      <th>0</th>\n",
              "      <td>26</td>\n",
              "      <td>60</td>\n",
              "      <td>70</td>\n",
              "      <td>35</td>\n",
              "      <td>60</td>\n",
              "    </tr>\n",
              "    <tr>\n",
              "      <th>1</th>\n",
              "      <td>60</td>\n",
              "      <td>60</td>\n",
              "      <td>60</td>\n",
              "      <td>60</td>\n",
              "      <td>60</td>\n",
              "    </tr>\n",
              "    <tr>\n",
              "      <th>2</th>\n",
              "      <td>0</td>\n",
              "      <td>6</td>\n",
              "      <td>17</td>\n",
              "      <td>1</td>\n",
              "      <td>210</td>\n",
              "    </tr>\n",
              "    <tr>\n",
              "      <th>3</th>\n",
              "      <td>2</td>\n",
              "      <td>19</td>\n",
              "      <td>210</td>\n",
              "      <td>5</td>\n",
              "      <td>8</td>\n",
              "    </tr>\n",
              "    <tr>\n",
              "      <th>4</th>\n",
              "      <td>5</td>\n",
              "      <td>11</td>\n",
              "      <td>14</td>\n",
              "      <td>7</td>\n",
              "      <td>12</td>\n",
              "    </tr>\n",
              "  </tbody>\n",
              "</table>\n",
              "</div>\n",
              "    <div class=\"colab-df-buttons\">\n",
              "\n",
              "  <div class=\"colab-df-container\">\n",
              "    <button class=\"colab-df-convert\" onclick=\"convertToInteractive('df-ba7b8a10-d62f-4b18-9ec2-c6c659d8a0c5')\"\n",
              "            title=\"Convert this dataframe to an interactive table.\"\n",
              "            style=\"display:none;\">\n",
              "\n",
              "  <svg xmlns=\"http://www.w3.org/2000/svg\" height=\"24px\" viewBox=\"0 -960 960 960\">\n",
              "    <path d=\"M120-120v-720h720v720H120Zm60-500h600v-160H180v160Zm220 220h160v-160H400v160Zm0 220h160v-160H400v160ZM180-400h160v-160H180v160Zm440 0h160v-160H620v160ZM180-180h160v-160H180v160Zm440 0h160v-160H620v160Z\"/>\n",
              "  </svg>\n",
              "    </button>\n",
              "\n",
              "  <style>\n",
              "    .colab-df-container {\n",
              "      display:flex;\n",
              "      gap: 12px;\n",
              "    }\n",
              "\n",
              "    .colab-df-convert {\n",
              "      background-color: #E8F0FE;\n",
              "      border: none;\n",
              "      border-radius: 50%;\n",
              "      cursor: pointer;\n",
              "      display: none;\n",
              "      fill: #1967D2;\n",
              "      height: 32px;\n",
              "      padding: 0 0 0 0;\n",
              "      width: 32px;\n",
              "    }\n",
              "\n",
              "    .colab-df-convert:hover {\n",
              "      background-color: #E2EBFA;\n",
              "      box-shadow: 0px 1px 2px rgba(60, 64, 67, 0.3), 0px 1px 3px 1px rgba(60, 64, 67, 0.15);\n",
              "      fill: #174EA6;\n",
              "    }\n",
              "\n",
              "    .colab-df-buttons div {\n",
              "      margin-bottom: 4px;\n",
              "    }\n",
              "\n",
              "    [theme=dark] .colab-df-convert {\n",
              "      background-color: #3B4455;\n",
              "      fill: #D2E3FC;\n",
              "    }\n",
              "\n",
              "    [theme=dark] .colab-df-convert:hover {\n",
              "      background-color: #434B5C;\n",
              "      box-shadow: 0px 1px 3px 1px rgba(0, 0, 0, 0.15);\n",
              "      filter: drop-shadow(0px 1px 2px rgba(0, 0, 0, 0.3));\n",
              "      fill: #FFFFFF;\n",
              "    }\n",
              "  </style>\n",
              "\n",
              "    <script>\n",
              "      const buttonEl =\n",
              "        document.querySelector('#df-ba7b8a10-d62f-4b18-9ec2-c6c659d8a0c5 button.colab-df-convert');\n",
              "      buttonEl.style.display =\n",
              "        google.colab.kernel.accessAllowed ? 'block' : 'none';\n",
              "\n",
              "      async function convertToInteractive(key) {\n",
              "        const element = document.querySelector('#df-ba7b8a10-d62f-4b18-9ec2-c6c659d8a0c5');\n",
              "        const dataTable =\n",
              "          await google.colab.kernel.invokeFunction('convertToInteractive',\n",
              "                                                    [key], {});\n",
              "        if (!dataTable) return;\n",
              "\n",
              "        const docLinkHtml = 'Like what you see? Visit the ' +\n",
              "          '<a target=\"_blank\" href=https://colab.research.google.com/notebooks/data_table.ipynb>data table notebook</a>'\n",
              "          + ' to learn more about interactive tables.';\n",
              "        element.innerHTML = '';\n",
              "        dataTable['output_type'] = 'display_data';\n",
              "        await google.colab.output.renderOutput(dataTable, element);\n",
              "        const docLink = document.createElement('div');\n",
              "        docLink.innerHTML = docLinkHtml;\n",
              "        element.appendChild(docLink);\n",
              "      }\n",
              "    </script>\n",
              "  </div>\n",
              "\n",
              "\n",
              "<div id=\"df-6a16e4fb-ec9f-4dc6-8886-53fd1155fc5b\">\n",
              "  <button class=\"colab-df-quickchart\" onclick=\"quickchart('df-6a16e4fb-ec9f-4dc6-8886-53fd1155fc5b')\"\n",
              "            title=\"Suggest charts\"\n",
              "            style=\"display:none;\">\n",
              "\n",
              "<svg xmlns=\"http://www.w3.org/2000/svg\" height=\"24px\"viewBox=\"0 0 24 24\"\n",
              "     width=\"24px\">\n",
              "    <g>\n",
              "        <path d=\"M19 3H5c-1.1 0-2 .9-2 2v14c0 1.1.9 2 2 2h14c1.1 0 2-.9 2-2V5c0-1.1-.9-2-2-2zM9 17H7v-7h2v7zm4 0h-2V7h2v10zm4 0h-2v-4h2v4z\"/>\n",
              "    </g>\n",
              "</svg>\n",
              "  </button>\n",
              "\n",
              "<style>\n",
              "  .colab-df-quickchart {\n",
              "      --bg-color: #E8F0FE;\n",
              "      --fill-color: #1967D2;\n",
              "      --hover-bg-color: #E2EBFA;\n",
              "      --hover-fill-color: #174EA6;\n",
              "      --disabled-fill-color: #AAA;\n",
              "      --disabled-bg-color: #DDD;\n",
              "  }\n",
              "\n",
              "  [theme=dark] .colab-df-quickchart {\n",
              "      --bg-color: #3B4455;\n",
              "      --fill-color: #D2E3FC;\n",
              "      --hover-bg-color: #434B5C;\n",
              "      --hover-fill-color: #FFFFFF;\n",
              "      --disabled-bg-color: #3B4455;\n",
              "      --disabled-fill-color: #666;\n",
              "  }\n",
              "\n",
              "  .colab-df-quickchart {\n",
              "    background-color: var(--bg-color);\n",
              "    border: none;\n",
              "    border-radius: 50%;\n",
              "    cursor: pointer;\n",
              "    display: none;\n",
              "    fill: var(--fill-color);\n",
              "    height: 32px;\n",
              "    padding: 0;\n",
              "    width: 32px;\n",
              "  }\n",
              "\n",
              "  .colab-df-quickchart:hover {\n",
              "    background-color: var(--hover-bg-color);\n",
              "    box-shadow: 0 1px 2px rgba(60, 64, 67, 0.3), 0 1px 3px 1px rgba(60, 64, 67, 0.15);\n",
              "    fill: var(--button-hover-fill-color);\n",
              "  }\n",
              "\n",
              "  .colab-df-quickchart-complete:disabled,\n",
              "  .colab-df-quickchart-complete:disabled:hover {\n",
              "    background-color: var(--disabled-bg-color);\n",
              "    fill: var(--disabled-fill-color);\n",
              "    box-shadow: none;\n",
              "  }\n",
              "\n",
              "  .colab-df-spinner {\n",
              "    border: 2px solid var(--fill-color);\n",
              "    border-color: transparent;\n",
              "    border-bottom-color: var(--fill-color);\n",
              "    animation:\n",
              "      spin 1s steps(1) infinite;\n",
              "  }\n",
              "\n",
              "  @keyframes spin {\n",
              "    0% {\n",
              "      border-color: transparent;\n",
              "      border-bottom-color: var(--fill-color);\n",
              "      border-left-color: var(--fill-color);\n",
              "    }\n",
              "    20% {\n",
              "      border-color: transparent;\n",
              "      border-left-color: var(--fill-color);\n",
              "      border-top-color: var(--fill-color);\n",
              "    }\n",
              "    30% {\n",
              "      border-color: transparent;\n",
              "      border-left-color: var(--fill-color);\n",
              "      border-top-color: var(--fill-color);\n",
              "      border-right-color: var(--fill-color);\n",
              "    }\n",
              "    40% {\n",
              "      border-color: transparent;\n",
              "      border-right-color: var(--fill-color);\n",
              "      border-top-color: var(--fill-color);\n",
              "    }\n",
              "    60% {\n",
              "      border-color: transparent;\n",
              "      border-right-color: var(--fill-color);\n",
              "    }\n",
              "    80% {\n",
              "      border-color: transparent;\n",
              "      border-right-color: var(--fill-color);\n",
              "      border-bottom-color: var(--fill-color);\n",
              "    }\n",
              "    90% {\n",
              "      border-color: transparent;\n",
              "      border-bottom-color: var(--fill-color);\n",
              "    }\n",
              "  }\n",
              "</style>\n",
              "\n",
              "  <script>\n",
              "    async function quickchart(key) {\n",
              "      const quickchartButtonEl =\n",
              "        document.querySelector('#' + key + ' button');\n",
              "      quickchartButtonEl.disabled = true;  // To prevent multiple clicks.\n",
              "      quickchartButtonEl.classList.add('colab-df-spinner');\n",
              "      try {\n",
              "        const charts = await google.colab.kernel.invokeFunction(\n",
              "            'suggestCharts', [key], {});\n",
              "      } catch (error) {\n",
              "        console.error('Error during call to suggestCharts:', error);\n",
              "      }\n",
              "      quickchartButtonEl.classList.remove('colab-df-spinner');\n",
              "      quickchartButtonEl.classList.add('colab-df-quickchart-complete');\n",
              "    }\n",
              "    (() => {\n",
              "      let quickchartButtonEl =\n",
              "        document.querySelector('#df-6a16e4fb-ec9f-4dc6-8886-53fd1155fc5b button');\n",
              "      quickchartButtonEl.style.display =\n",
              "        google.colab.kernel.accessAllowed ? 'block' : 'none';\n",
              "    })();\n",
              "  </script>\n",
              "</div>\n",
              "\n",
              "  <div id=\"id_932c09fe-b02a-4aca-bdbc-c15cff05a7a6\">\n",
              "    <style>\n",
              "      .colab-df-generate {\n",
              "        background-color: #E8F0FE;\n",
              "        border: none;\n",
              "        border-radius: 50%;\n",
              "        cursor: pointer;\n",
              "        display: none;\n",
              "        fill: #1967D2;\n",
              "        height: 32px;\n",
              "        padding: 0 0 0 0;\n",
              "        width: 32px;\n",
              "      }\n",
              "\n",
              "      .colab-df-generate:hover {\n",
              "        background-color: #E2EBFA;\n",
              "        box-shadow: 0px 1px 2px rgba(60, 64, 67, 0.3), 0px 1px 3px 1px rgba(60, 64, 67, 0.15);\n",
              "        fill: #174EA6;\n",
              "      }\n",
              "\n",
              "      [theme=dark] .colab-df-generate {\n",
              "        background-color: #3B4455;\n",
              "        fill: #D2E3FC;\n",
              "      }\n",
              "\n",
              "      [theme=dark] .colab-df-generate:hover {\n",
              "        background-color: #434B5C;\n",
              "        box-shadow: 0px 1px 3px 1px rgba(0, 0, 0, 0.15);\n",
              "        filter: drop-shadow(0px 1px 2px rgba(0, 0, 0, 0.3));\n",
              "        fill: #FFFFFF;\n",
              "      }\n",
              "    </style>\n",
              "    <button class=\"colab-df-generate\" onclick=\"generateWithVariable('df_music')\"\n",
              "            title=\"Generate code using this dataframe.\"\n",
              "            style=\"display:none;\">\n",
              "\n",
              "  <svg xmlns=\"http://www.w3.org/2000/svg\" height=\"24px\"viewBox=\"0 0 24 24\"\n",
              "       width=\"24px\">\n",
              "    <path d=\"M7,19H8.4L18.45,9,17,7.55,7,17.6ZM5,21V16.75L18.45,3.32a2,2,0,0,1,2.83,0l1.4,1.43a1.91,1.91,0,0,1,.58,1.4,1.91,1.91,0,0,1-.58,1.4L9.25,21ZM18.45,9,17,7.55Zm-12,3A5.31,5.31,0,0,0,4.9,8.1,5.31,5.31,0,0,0,1,6.5,5.31,5.31,0,0,0,4.9,4.9,5.31,5.31,0,0,0,6.5,1,5.31,5.31,0,0,0,8.1,4.9,5.31,5.31,0,0,0,12,6.5,5.46,5.46,0,0,0,6.5,12Z\"/>\n",
              "  </svg>\n",
              "    </button>\n",
              "    <script>\n",
              "      (() => {\n",
              "      const buttonEl =\n",
              "        document.querySelector('#id_932c09fe-b02a-4aca-bdbc-c15cff05a7a6 button.colab-df-generate');\n",
              "      buttonEl.style.display =\n",
              "        google.colab.kernel.accessAllowed ? 'block' : 'none';\n",
              "\n",
              "      buttonEl.onclick = () => {\n",
              "        google.colab.notebook.generateWithVariable('df_music');\n",
              "      }\n",
              "      })();\n",
              "    </script>\n",
              "  </div>\n",
              "\n",
              "    </div>\n",
              "  </div>\n"
            ],
            "application/vnd.google.colaboratory.intrinsic+json": {
              "type": "dataframe",
              "variable_name": "df_music",
              "summary": "{\n  \"name\": \"df_music\",\n  \"rows\": 5,\n  \"fields\": [\n    {\n      \"column\": \"rock\",\n      \"properties\": {\n        \"dtype\": \"number\",\n        \"std\": 25,\n        \"min\": 0,\n        \"max\": 60,\n        \"num_unique_values\": 5,\n        \"samples\": [\n          60,\n          5,\n          0\n        ],\n        \"semantic_type\": \"\",\n        \"description\": \"\"\n      }\n    },\n    {\n      \"column\": \"hiphop\",\n      \"properties\": {\n        \"dtype\": \"number\",\n        \"std\": 26,\n        \"min\": 6,\n        \"max\": 60,\n        \"num_unique_values\": 4,\n        \"samples\": [\n          6,\n          11,\n          60\n        ],\n        \"semantic_type\": \"\",\n        \"description\": \"\"\n      }\n    },\n    {\n      \"column\": \"pop\",\n      \"properties\": {\n        \"dtype\": \"number\",\n        \"std\": 79,\n        \"min\": 14,\n        \"max\": 210,\n        \"num_unique_values\": 5,\n        \"samples\": [\n          60,\n          14,\n          17\n        ],\n        \"semantic_type\": \"\",\n        \"description\": \"\"\n      }\n    },\n    {\n      \"column\": \"jazz\",\n      \"properties\": {\n        \"dtype\": \"number\",\n        \"std\": 25,\n        \"min\": 1,\n        \"max\": 60,\n        \"num_unique_values\": 5,\n        \"samples\": [\n          60,\n          7,\n          1\n        ],\n        \"semantic_type\": \"\",\n        \"description\": \"\"\n      }\n    },\n    {\n      \"column\": \"ballad\",\n      \"properties\": {\n        \"dtype\": \"number\",\n        \"std\": 82,\n        \"min\": 8,\n        \"max\": 210,\n        \"num_unique_values\": 4,\n        \"samples\": [\n          210,\n          12,\n          60\n        ],\n        \"semantic_type\": \"\",\n        \"description\": \"\"\n      }\n    }\n  ]\n}"
            }
          },
          "metadata": {},
          "execution_count": 20
        }
      ]
    },
    {
      "cell_type": "code",
      "source": [
        "print(euclidean_dist_sklearn(df_music.loc[0], df_music.loc[1]))\n",
        "print(euclidean_dist_sklearn(df_music.loc[0], df_music.loc[4]))"
      ],
      "metadata": {
        "colab": {
          "base_uri": "https://localhost:8080/"
        },
        "id": "s8jikZOHuuVD",
        "outputId": "f372f8b3-5756-4f20-9468-ee3a5230eb0d"
      },
      "execution_count": null,
      "outputs": [
        {
          "output_type": "stream",
          "name": "stdout",
          "text": [
            "43.37049688440288\n",
            "95.21554494934112\n"
          ]
        }
      ]
    },
    {
      "cell_type": "code",
      "source": [
        "# 0번 유저의 값을 리스트로 출력\n",
        "df_music.loc[0].to_list()"
      ],
      "metadata": {
        "colab": {
          "base_uri": "https://localhost:8080/"
        },
        "id": "jXKLcS17iUW5",
        "outputId": "f45947dd-5044-4107-b6af-a39fbe424990"
      },
      "execution_count": 24,
      "outputs": [
        {
          "output_type": "execute_result",
          "data": {
            "text/plain": [
              "[26, 60, 70, 35, 60]"
            ]
          },
          "metadata": {},
          "execution_count": 24
        }
      ]
    },
    {
      "cell_type": "code",
      "source": [
        "#cosine 거리를 계산하는 함수 만들기\n",
        "def cosine_dist(x1, x2):\n",
        "  # 함수를 완성해보세요\n",
        "  '''\n",
        "  input: (array of float, array of float)\n",
        "  output: float\n",
        "  '''\n",
        "  # 벡터의 크기 계산\n",
        "  norm_x1 = np.linalg.norm(x1)\n",
        "  norm_x2 = np.linalg.norm(x2)\n",
        "\n",
        "  # 두 벡터의 내적 계산\n",
        "  dot_product = np.dot(x1, x2)\n",
        "\n",
        "  # 코사인 거리 계산\n",
        "  cosine_distance = dot_product / (norm_x1 * norm_x2)\n",
        "\n",
        "  # 코사인 유사도와 거리는 반비례하므로 거리를 1에서 뺀 값을 반환\n",
        "  cosine_dist = 1 - cosine_distance\n",
        "\n",
        "  return cosine_dist"
      ],
      "metadata": {
        "id": "oQYIe5ZOvABV"
      },
      "execution_count": 25,
      "outputs": []
    },
    {
      "cell_type": "code",
      "source": [
        "# 튜터님 정답\n",
        "#cosine 거리를 계산하는 함수 만들기\n",
        "def cosine_dist(x1, x2):\n",
        "  dot_product = 0\n",
        "  # zip은 2개의 array를 묶어서 할 때 사용\n",
        "  for a, b in zip(x1, x2):   # 벡터 내적 : np.dot(x1, x2)\n",
        "    dot_product += (a*b)\n",
        "  # 벡터 크기\n",
        "  x1_norm = sum([x ** 2 for x in x1]) **0.5\n",
        "  x2_norm = sum([x ** 2 for x in x2]) **0.5\n",
        "  # 코사인 유사도\n",
        "  similarity = dot_product / (x1_norm * x2_norm)\n",
        "  # 코사인 거리\n",
        "  dist = 1 - similarity\n",
        "  return dist"
      ],
      "metadata": {
        "id": "P3HxuSmynoGM"
      },
      "execution_count": null,
      "outputs": []
    },
    {
      "cell_type": "code",
      "source": [
        "print(cosine_dist(df_music.loc[0], df_music.loc[1]))\n",
        "\n",
        "# 0번과 4번이 들은 음악의 비율이 비슷하기에 빈도에서 차이나지만 장르의 관점에서 비슷하므로 더 작게 나옴\n",
        "print(cosine_dist(df_music.loc[0], df_music.loc[4]))"
      ],
      "metadata": {
        "colab": {
          "base_uri": "https://localhost:8080/"
        },
        "id": "ueYSgM_0hA6V",
        "outputId": "ba1e7df4-a921-4205-986d-f224ab4f7268"
      },
      "execution_count": 23,
      "outputs": [
        {
          "output_type": "stream",
          "name": "stdout",
          "text": [
            "0.051343052747109375\n",
            "0.0006884388180635748\n"
          ]
        }
      ]
    },
    {
      "cell_type": "code",
      "source": [
        "print(cosine_dist(df_music.loc[0], df_music.loc[1]))\n",
        "\n",
        "# 0번과 4번이 들은 음악의 비율이 비슷하기에 빈도에서 차이나지만 장르의 관점에서 비슷하므로 더 작게 나옴\n",
        "print(cosine_dist(df_music.loc[0], df_music.loc[4]))"
      ],
      "metadata": {
        "colab": {
          "base_uri": "https://localhost:8080/"
        },
        "id": "HzudpKKpwTxL",
        "outputId": "94257c3f-a493-49a1-951a-53e17bc5a256"
      },
      "execution_count": 26,
      "outputs": [
        {
          "output_type": "stream",
          "name": "stdout",
          "text": [
            "0.051343052747109375\n",
            "0.0006884388180635748\n"
          ]
        }
      ]
    },
    {
      "cell_type": "code",
      "source": [
        "# zip 추가 설명\n",
        "a = [0,1, 1, 2]\n",
        "b = [3, 1, 0 ,1]\n",
        "\n",
        "# 각 변수의 각 차원을 함께 튜플의 형태로 출력\n",
        "for x in zip(a, b):\n",
        "  print(x)"
      ],
      "metadata": {
        "colab": {
          "base_uri": "https://localhost:8080/"
        },
        "id": "SOgbe6MimFYO",
        "outputId": "864398a2-d572-42e4-c0e4-f2e322b354c0"
      },
      "execution_count": 27,
      "outputs": [
        {
          "output_type": "stream",
          "name": "stdout",
          "text": [
            "(0, 3)\n",
            "(1, 1)\n",
            "(1, 0)\n",
            "(2, 1)\n"
          ]
        }
      ]
    },
    {
      "cell_type": "code",
      "source": [
        "d = 0\n",
        "for x, y in zip(a, b):\n",
        "  d += x*y\n",
        "print(d)"
      ],
      "metadata": {
        "colab": {
          "base_uri": "https://localhost:8080/"
        },
        "id": "XbZ6I3XKmlJN",
        "outputId": "a618ac9c-0b9b-48b2-e76b-7362fd09dae6"
      },
      "execution_count": 33,
      "outputs": [
        {
          "output_type": "stream",
          "name": "stdout",
          "text": [
            "3\n"
          ]
        }
      ]
    },
    {
      "cell_type": "code",
      "source": [
        "#Scikit-Learn을 활용한 cosine 거리 계산\n",
        "#https://scikit-learn.org/stable/modules/generated/sklearn.metrics.pairwise.cosine_distances.html\n",
        "from sklearn.metrics.pairwise import cosine_distances\n",
        "\n",
        "def cosine_dist_sklearn(x1, x2):\n",
        "  return cosine_distances([x1], [x2])[0][0]\n",
        "\n",
        "print(cosine_dist_sklearn(df_music.loc[0], df_music.loc[1]))\n",
        "print(cosine_dist_sklearn(df_music.loc[0], df_music.loc[4]))"
      ],
      "metadata": {
        "colab": {
          "base_uri": "https://localhost:8080/"
        },
        "id": "wdz1keklwW_H",
        "outputId": "98193bac-0bc8-4180-bc13-0bdd33891d65"
      },
      "execution_count": null,
      "outputs": [
        {
          "output_type": "stream",
          "name": "stdout",
          "text": [
            "0.051343052747109375\n",
            "0.0006884388180635748\n"
          ]
        }
      ]
    },
    {
      "cell_type": "code",
      "source": [
        "# 자카드 유사도\n",
        "# 텍스트간 유사도를 볼 때 많이 사용\n",
        "\n",
        "lyric1 = \"내가 먹고 싶었던 달디 달고 달디 달고 달디 단 밤양갱\"\n",
        "lyric2 = \"달디 단 솜사탕 먹고 싶었던 나\"\n",
        "lyric3 = \"내가 내가 제일 잘 나가\"\n",
        "\n",
        "# 문장을 split를 띄어쓰기 기준으로 실행\n",
        "lyric1 = lyric1.split()\n",
        "lyric2 = lyric2.split()\n",
        "lyric3 = lyric3.split()"
      ],
      "metadata": {
        "id": "Wt9L8C4axGOS"
      },
      "execution_count": 38,
      "outputs": []
    },
    {
      "cell_type": "code",
      "source": [
        "#jaccard 유사도를 계산하는 함수 만들기\n",
        "def jaccard_sim(x1, x2):\n",
        "   # 튜터님\n",
        "   x1_set = set(x1)\n",
        "   x2_set = set(x2)\n",
        "\n",
        "   # 합집합\n",
        "   union = x1_set.union(x2_set)\n",
        "   print('uniion 갯수', len(union))\n",
        "\n",
        "   # 교집합\n",
        "   intersection =  x1_set.intersection(x2_set)\n",
        "   print('intersection 갯수', len(intersection))\n",
        "   return len(intersection) / len(union)"
      ],
      "metadata": {
        "id": "qXhGqzz0y1ES"
      },
      "execution_count": 46,
      "outputs": []
    },
    {
      "cell_type": "code",
      "source": [
        "print(jaccard_sim(lyric1, lyric2),'\\n')\n",
        "print(jaccard_sim(lyric1, lyric3),'\\n')\n",
        "print(jaccard_sim(lyric2, lyric3),'\\n')"
      ],
      "metadata": {
        "colab": {
          "base_uri": "https://localhost:8080/"
        },
        "id": "lDp8u4ONzc5Y",
        "outputId": "3ad9cba5-b8fa-4734-e3e7-95334f5327a9"
      },
      "execution_count": 47,
      "outputs": [
        {
          "output_type": "stream",
          "name": "stdout",
          "text": [
            "uniion 갯수 9\n",
            "intersection 갯수 4\n",
            "0.4444444444444444 \n",
            "\n",
            "uniion 갯수 10\n",
            "intersection 갯수 1\n",
            "0.1 \n",
            "\n",
            "uniion 갯수 10\n",
            "intersection 갯수 0\n",
            "0.0 \n",
            "\n"
          ]
        }
      ]
    },
    {
      "cell_type": "code",
      "source": [
        "#Scikit-Learn의 jaccard score는 위 계산 방식과 약간 다름\n",
        "#https://scikit-learn.org/stable/modules/generated/sklearn.metrics.jaccard_score.html\n",
        "from sklearn.metrics import jaccard_score\n",
        "\n",
        "tokens = [\"내가\", \"먹고\", \"싶었던\", \"달디\", \"달고\", \"단\", \"밤양갱\", \"솜사탕\", \"나\", \"제일\", \"잘\", \"나가\"]\n",
        "l1 = [1, 1, 1, 1, 1, 1, 1, 0, 0, 0, 0, 0]\n",
        "l2 = [0, 1, 1, 1, 0, 1, 0, 1, 1, 0, 0, 0]\n",
        "l3 = [1, 0, 0, 0, 0, 0, 0, 0, 0, 1, 1, 1]\n",
        "\n",
        "print(jaccard_score(l1, l2))\n",
        "print(jaccard_score(l1, l3))\n",
        "print(jaccard_score(l2, l3))"
      ],
      "metadata": {
        "colab": {
          "base_uri": "https://localhost:8080/"
        },
        "id": "1jibxcwszjrE",
        "outputId": "bf737209-1ffa-4c7d-c021-3e39261a1803"
      },
      "execution_count": null,
      "outputs": [
        {
          "output_type": "stream",
          "name": "stdout",
          "text": [
            "0.4444444444444444\n",
            "0.1\n",
            "0.0\n"
          ]
        }
      ]
    },
    {
      "cell_type": "code",
      "source": [],
      "metadata": {
        "id": "marr4Yv_0feU"
      },
      "execution_count": null,
      "outputs": []
    }
  ]
}